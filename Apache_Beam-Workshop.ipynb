{
  "nbformat": 4,
  "nbformat_minor": 0,
  "metadata": {
    "colab": {
      "name": "Apache Beam - Apresentação",
      "provenance": [],
      "collapsed_sections": []
    },
    "kernelspec": {
      "name": "python3",
      "display_name": "Python 3"
    },
    "language_info": {
      "name": "python"
    }
  },
  "cells": [
    {
      "cell_type": "markdown",
      "metadata": {
        "id": "DtH-6vWtpdHM"
      },
      "source": [
        "# Instalando e Importando o Apache Beam"
      ]
    },
    {
      "cell_type": "markdown",
      "metadata": {
        "id": "pgGWC-WsRpXp"
      },
      "source": [
        "Vamos instalar e importar o Apache Beam\n"
      ]
    },
    {
      "cell_type": "code",
      "metadata": {
        "id": "k_NdGU8nRccA",
        "colab": {
          "base_uri": "https://localhost:8080/"
        },
        "outputId": "4aaf936b-1c69-4454-9d90-900fdc639e77"
      },
      "source": [
        "%pip install -q apache-beam[gcp,interactive]==2.28.0 --no-warn-conflicts"
      ],
      "execution_count": 2,
      "outputs": [
        {
          "output_type": "stream",
          "text": [
            "\u001b[K     |████████████████████████████████| 9.0MB 7.1MB/s \n",
            "\u001b[K     |████████████████████████████████| 2.3MB 49.4MB/s \n",
            "\u001b[K     |████████████████████████████████| 61kB 8.6MB/s \n",
            "\u001b[K     |████████████████████████████████| 153kB 63.2MB/s \n",
            "\u001b[K     |████████████████████████████████| 829kB 45.3MB/s \n",
            "\u001b[K     |████████████████████████████████| 61kB 9.1MB/s \n",
            "\u001b[K     |████████████████████████████████| 17.7MB 245kB/s \n",
            "\u001b[K     |████████████████████████████████| 71kB 10.1MB/s \n",
            "\u001b[K     |████████████████████████████████| 92kB 12.3MB/s \n",
            "\u001b[K     |████████████████████████████████| 174kB 51.4MB/s \n",
            "\u001b[K     |████████████████████████████████| 184kB 53.3MB/s \n",
            "\u001b[K     |████████████████████████████████| 276kB 51.5MB/s \n",
            "\u001b[K     |████████████████████████████████| 440kB 49.3MB/s \n",
            "\u001b[K     |████████████████████████████████| 174kB 53.8MB/s \n",
            "\u001b[K     |████████████████████████████████| 153kB 50.5MB/s \n",
            "\u001b[K     |████████████████████████████████| 256kB 52.2MB/s \n",
            "\u001b[K     |████████████████████████████████| 788kB 45.5MB/s \n",
            "\u001b[K     |████████████████████████████████| 122kB 50.2MB/s \n",
            "\u001b[K     |████████████████████████████████| 122kB 48.8MB/s \n",
            "\u001b[K     |████████████████████████████████| 112kB 53.0MB/s \n",
            "\u001b[K     |████████████████████████████████| 51kB 8.1MB/s \n",
            "\u001b[K     |████████████████████████████████| 522kB 37.5MB/s \n",
            "\u001b[K     |████████████████████████████████| 368kB 41.6MB/s \n",
            "\u001b[K     |████████████████████████████████| 645kB 44.3MB/s \n",
            "\u001b[?25h  Building wheel for avro-python3 (setup.py) ... \u001b[?25l\u001b[?25hdone\n",
            "  Building wheel for dill (setup.py) ... \u001b[?25l\u001b[?25hdone\n",
            "  Building wheel for future (setup.py) ... \u001b[?25l\u001b[?25hdone\n",
            "  Building wheel for google-apitools (setup.py) ... \u001b[?25l\u001b[?25hdone\n",
            "  Building wheel for timeloop (setup.py) ... \u001b[?25l\u001b[?25hdone\n",
            "  Building wheel for grpc-google-iam-v1 (setup.py) ... \u001b[?25l\u001b[?25hdone\n"
          ],
          "name": "stdout"
        }
      ]
    },
    {
      "cell_type": "code",
      "metadata": {
        "id": "k8dvR6aIRs6H"
      },
      "source": [
        "import apache_beam as beam\n",
        "from apache_beam.options.pipeline_options import PipelineOptions"
      ],
      "execution_count": 1,
      "outputs": []
    },
    {
      "cell_type": "markdown",
      "metadata": {
        "id": "ZCq_0Q28A2NF"
      },
      "source": [
        "---\n",
        "**Observação**: \n",
        "\n",
        "As vezes acontece erro na importação acima.\n",
        "\n",
        "Para arrumar é necessário reiniciar o ambiente e executar a célula novamente.\n",
        "\n",
        "---"
      ]
    },
    {
      "cell_type": "markdown",
      "metadata": {
        "id": "bmbTsFBWpkvE"
      },
      "source": [
        "# Importando o Runner"
      ]
    },
    {
      "cell_type": "markdown",
      "metadata": {
        "id": "hn1UAoO8SF1b"
      },
      "source": [
        "Neste caso o InteractiveRunner para que possamos analisar melhor os dados e transformações"
      ]
    },
    {
      "cell_type": "code",
      "metadata": {
        "id": "q5fygz7MRxHa"
      },
      "source": [
        "from apache_beam.runners.interactive.interactive_runner import InteractiveRunner\n",
        "import apache_beam.runners.interactive.interactive_beam as ib"
      ],
      "execution_count": 2,
      "outputs": []
    },
    {
      "cell_type": "markdown",
      "metadata": {
        "id": "_uRZY5CniS8b"
      },
      "source": [
        "# Criando a primeira pipeline"
      ]
    },
    {
      "cell_type": "markdown",
      "metadata": {
        "id": "RPPNXfjFpxfl"
      },
      "source": [
        "Para criar uma pipeline, é necessário instânciar o objeto `Pipeline`"
      ]
    },
    {
      "cell_type": "code",
      "metadata": {
        "id": "o0Qeqh7TSSFA"
      },
      "source": [
        "pipeline = beam.Pipeline(InteractiveRunner(), options=PipelineOptions())"
      ],
      "execution_count": null,
      "outputs": []
    },
    {
      "cell_type": "markdown",
      "metadata": {
        "id": "4ccatMrxkOtH"
      },
      "source": [
        "Cada etapa dentro da pipeline é separada pelo operador pipe (`|`)\n",
        "\n",
        "A saída de cada transformação é passada para a próxima como entrada\n",
        "\n",
        "E no final é retornada uma `PCollection` que podemos armazenar\n",
        "\n",
        "```py\n",
        "# Os elementos são enviados do passo1 até o passo3 e depois retornado para a variável `outputs`.\n",
        "outputs = pipeline | passo1 | passo2 | passo3\n",
        "```\n",
        "\n",
        "As pipelines podem ser grandes e algumas vezes pode ser mais facil visualizar se adicionarmos um parenteses e quebrarmos os passos em linhas diferentes.\n",
        "\n",
        "```py\n",
        "# Semelhante ao exemplo anterior.\n",
        "outputs = (\n",
        "  pipeline\n",
        "  | step1\n",
        "  | step2\n",
        "  | step3\n",
        ")\n",
        "```\n",
        "\n",
        "O Apache Beam espera que cada passo (transformação) tenha uma identificação ou descrição única.\n",
        "\n",
        "Para adicionar uma descrição a determinado passo dentro da pipeline, basta utilizar o operador `>>`, como no exemplo abaixo:\n",
        "```py\n",
        "# Utilizado como identificaçao e para debug\n",
        "outputs = (\n",
        "  pipeline\n",
        "  | 'Primeiro passo' >> passo1\n",
        "  | 'Segundo passo' >> passo2\n",
        "  | 'Terceiro passo' >> passo3\n",
        ")\n",
        "```"
      ]
    },
    {
      "cell_type": "markdown",
      "metadata": {
        "id": "rqE_H9d6qDZM"
      },
      "source": [
        "# Criando elementos (PCollection)"
      ]
    },
    {
      "cell_type": "markdown",
      "metadata": {
        "id": "y-srOpwtywnQ"
      },
      "source": [
        "## Create"
      ]
    },
    {
      "cell_type": "markdown",
      "metadata": {
        "id": "PK4RqXWNm4jL"
      },
      "source": [
        "Podemos criar elementos diretamente no código com a função `beam.Create` \n",
        "\n",
        "ou normalmente utilizamos algum driver/conector de entrada para ler de os dados de um arquivo, de um banco de dados, de uma fila, etc"
      ]
    },
    {
      "cell_type": "markdown",
      "metadata": {
        "id": "7CVrB8Vt-8Uh"
      },
      "source": [
        "![A PCollection is an unordered collection of elements](data:image/png;base64,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)"
      ]
    },
    {
      "cell_type": "code",
      "metadata": {
        "id": "agkz9wk6sGID"
      },
      "source": [
        "pcollection_numeros = pipeline | beam.Create([1, 2, 3, 4, 5, 6, 7, 8, 9])"
      ],
      "execution_count": null,
      "outputs": []
    },
    {
      "cell_type": "code",
      "metadata": {
        "id": "UWGuq28GmtFR"
      },
      "source": [
        "pcollection_numeros = pipeline | \"Dados Númericos\" >> beam.Create([1, 2, 3, 4, 5, 6, 7, 8, 9])"
      ],
      "execution_count": null,
      "outputs": []
    },
    {
      "cell_type": "code",
      "metadata": {
        "id": "ASpT7bK-sLM3"
      },
      "source": [
        ""
      ],
      "execution_count": null,
      "outputs": []
    },
    {
      "cell_type": "code",
      "metadata": {
        "id": "VTbgKRbbsJUY"
      },
      "source": [
        "pcollection_texto = pipeline | beam.Create(['Hello',\n",
        "                                 'World',\n",
        "                                 'from',\n",
        "                                 'Apache',\n",
        "                                 'Beam'])"
      ],
      "execution_count": null,
      "outputs": []
    },
    {
      "cell_type": "code",
      "metadata": {
        "id": "c9yxhn2mndGV"
      },
      "source": [
        "pcollection_texto = pipeline | \"Dados em texto\" >> beam.Create(['Hello',\n",
        "                                 'World',\n",
        "                                 'from',\n",
        "                                 'Apache',\n",
        "                                 'Beam'])"
      ],
      "execution_count": null,
      "outputs": []
    },
    {
      "cell_type": "code",
      "metadata": {
        "id": "n0L9iZoS_K9v"
      },
      "source": [
        "pcollection_texto2 = pipeline | \"Dados em texto um elemento\" >> beam.Create(['Hello World from Apache Beam'])"
      ],
      "execution_count": null,
      "outputs": []
    },
    {
      "cell_type": "code",
      "metadata": {
        "colab": {
          "base_uri": "https://localhost:8080/",
          "height": 554
        },
        "id": "mo8r9FS_noMj",
        "outputId": "9d20a9de-2136-4fea-e8b1-87fdc7aba8c0"
      },
      "source": [
        "ib.show(pcollection_numeros)"
      ],
      "execution_count": null,
      "outputs": [
        {
          "output_type": "display_data",
          "data": {
            "text/html": [
              "\n",
              "            <link rel=\"stylesheet\" href=\"https://stackpath.bootstrapcdn.com/bootstrap/4.4.1/css/bootstrap.min.css\" integrity=\"sha384-Vkoo8x4CGsO3+Hhxv8T/Q5PaXtkKtu6ug5TOeNV6gBiFeWPGFN9MuhOf23Q9Ifjh\" crossorigin=\"anonymous\">\n",
              "            <div id=\"progress_indicator_ac79fc0818d712b1faa384cbcf34a516\" class=\"spinner-border text-info\" role=\"status\">\n",
              "            </div>"
            ],
            "text/plain": [
              "<IPython.core.display.HTML object>"
            ]
          },
          "metadata": {
            "tags": []
          }
        },
        {
          "output_type": "display_data",
          "data": {
            "text/html": [
              "\n",
              "            <style>\n",
              "            .p-Widget.jp-OutputPrompt.jp-OutputArea-prompt:empty {\n",
              "              padding: 0;\n",
              "              border: 0;\n",
              "            }\n",
              "            .p-Widget.jp-RenderedJavaScript.jp-mod-trusted.jp-OutputArea-output:empty {\n",
              "              padding: 0;\n",
              "              border: 0;\n",
              "            }\n",
              "            </style>\n",
              "            <link rel=\"stylesheet\" href=\"https://cdn.datatables.net/1.10.20/css/jquery.dataTables.min.css\">\n",
              "            <table id=\"table_df_7fa2b3d888f45de7fae861f4edee7891\" class=\"display\" style=\"display:block\"></table>\n",
              "            <script>\n",
              "              \n",
              "        if (typeof window.interactive_beam_jquery == 'undefined') {\n",
              "          var jqueryScript = document.createElement('script');\n",
              "          jqueryScript.src = 'https://code.jquery.com/jquery-3.4.1.slim.min.js';\n",
              "          jqueryScript.type = 'text/javascript';\n",
              "          jqueryScript.onload = function() {\n",
              "            var datatableScript = document.createElement('script');\n",
              "            datatableScript.src = 'https://cdn.datatables.net/1.10.20/js/jquery.dataTables.min.js';\n",
              "            datatableScript.type = 'text/javascript';\n",
              "            datatableScript.onload = function() {\n",
              "              window.interactive_beam_jquery = jQuery.noConflict(true);\n",
              "              window.interactive_beam_jquery(document).ready(function($){\n",
              "                \n",
              "            var dt;\n",
              "            if ($.fn.dataTable.isDataTable(\"#table_df_7fa2b3d888f45de7fae861f4edee7891\")) {\n",
              "              dt = $(\"#table_df_7fa2b3d888f45de7fae861f4edee7891\").dataTable();\n",
              "            } else if ($(\"#table_df_7fa2b3d888f45de7fae861f4edee7891_wrapper\").length == 0) {\n",
              "              dt = $(\"#table_df_7fa2b3d888f45de7fae861f4edee7891\").dataTable({\n",
              "                \n",
              "            bAutoWidth: false,\n",
              "            columns: [{'title': ''}, {'title': 'pcollection_numeros.0'}],\n",
              "            destroy: true,\n",
              "            responsive: true,\n",
              "            columnDefs: [\n",
              "              {\n",
              "                targets: \"_all\",\n",
              "                className: \"dt-left\"\n",
              "              },\n",
              "              {\n",
              "                \"targets\": 0,\n",
              "                \"width\": \"10px\",\n",
              "                \"title\": \"\"\n",
              "              }\n",
              "            ]\n",
              "              });\n",
              "            } else {\n",
              "              return;\n",
              "            }\n",
              "            dt.api()\n",
              "              .clear()\n",
              "              .rows.add([{1: '1', 0: 0}, {1: '2', 0: 1}, {1: '3', 0: 2}, {1: '4', 0: 3}, {1: '5', 0: 4}, {1: '6', 0: 5}, {1: '7', 0: 6}, {1: '8', 0: 7}, {1: '9', 0: 8}])\n",
              "              .draw('full-hold');\n",
              "              });\n",
              "            }\n",
              "            document.head.appendChild(datatableScript);\n",
              "          };\n",
              "          document.head.appendChild(jqueryScript);\n",
              "        } else {\n",
              "          window.interactive_beam_jquery(document).ready(function($){\n",
              "            \n",
              "            var dt;\n",
              "            if ($.fn.dataTable.isDataTable(\"#table_df_7fa2b3d888f45de7fae861f4edee7891\")) {\n",
              "              dt = $(\"#table_df_7fa2b3d888f45de7fae861f4edee7891\").dataTable();\n",
              "            } else if ($(\"#table_df_7fa2b3d888f45de7fae861f4edee7891_wrapper\").length == 0) {\n",
              "              dt = $(\"#table_df_7fa2b3d888f45de7fae861f4edee7891\").dataTable({\n",
              "                \n",
              "            bAutoWidth: false,\n",
              "            columns: [{'title': ''}, {'title': 'pcollection_numeros.0'}],\n",
              "            destroy: true,\n",
              "            responsive: true,\n",
              "            columnDefs: [\n",
              "              {\n",
              "                targets: \"_all\",\n",
              "                className: \"dt-left\"\n",
              "              },\n",
              "              {\n",
              "                \"targets\": 0,\n",
              "                \"width\": \"10px\",\n",
              "                \"title\": \"\"\n",
              "              }\n",
              "            ]\n",
              "              });\n",
              "            } else {\n",
              "              return;\n",
              "            }\n",
              "            dt.api()\n",
              "              .clear()\n",
              "              .rows.add([{1: '1', 0: 0}, {1: '2', 0: 1}, {1: '3', 0: 2}, {1: '4', 0: 3}, {1: '5', 0: 4}, {1: '6', 0: 5}, {1: '7', 0: 6}, {1: '8', 0: 7}, {1: '9', 0: 8}])\n",
              "              .draw('full-hold');\n",
              "          });\n",
              "        }\n",
              "            </script>"
            ],
            "text/plain": [
              "<IPython.core.display.HTML object>"
            ]
          },
          "metadata": {
            "tags": []
          }
        },
        {
          "output_type": "display_data",
          "data": {
            "application/javascript": [
              "\n",
              "        if (typeof window.interactive_beam_jquery == 'undefined') {\n",
              "          var jqueryScript = document.createElement('script');\n",
              "          jqueryScript.src = 'https://code.jquery.com/jquery-3.4.1.slim.min.js';\n",
              "          jqueryScript.type = 'text/javascript';\n",
              "          jqueryScript.onload = function() {\n",
              "            var datatableScript = document.createElement('script');\n",
              "            datatableScript.src = 'https://cdn.datatables.net/1.10.20/js/jquery.dataTables.min.js';\n",
              "            datatableScript.type = 'text/javascript';\n",
              "            datatableScript.onload = function() {\n",
              "              window.interactive_beam_jquery = jQuery.noConflict(true);\n",
              "              window.interactive_beam_jquery(document).ready(function($){\n",
              "                \n",
              "            $(\"#progress_indicator_ac79fc0818d712b1faa384cbcf34a516\").remove();\n",
              "              });\n",
              "            }\n",
              "            document.head.appendChild(datatableScript);\n",
              "          };\n",
              "          document.head.appendChild(jqueryScript);\n",
              "        } else {\n",
              "          window.interactive_beam_jquery(document).ready(function($){\n",
              "            \n",
              "            $(\"#progress_indicator_ac79fc0818d712b1faa384cbcf34a516\").remove();\n",
              "          });\n",
              "        }"
            ]
          },
          "metadata": {
            "tags": []
          }
        }
      ]
    },
    {
      "cell_type": "code",
      "metadata": {
        "colab": {
          "base_uri": "https://localhost:8080/",
          "height": 435
        },
        "id": "YqkpDrmqoHsN",
        "outputId": "b7dbaefa-86ba-4144-98a7-f606681daf5e"
      },
      "source": [
        "ib.show(pcollection_texto)"
      ],
      "execution_count": null,
      "outputs": [
        {
          "output_type": "display_data",
          "data": {
            "text/html": [
              "\n",
              "            <link rel=\"stylesheet\" href=\"https://stackpath.bootstrapcdn.com/bootstrap/4.4.1/css/bootstrap.min.css\" integrity=\"sha384-Vkoo8x4CGsO3+Hhxv8T/Q5PaXtkKtu6ug5TOeNV6gBiFeWPGFN9MuhOf23Q9Ifjh\" crossorigin=\"anonymous\">\n",
              "            <div id=\"progress_indicator_0744880f79db04817c4d8191696d6737\" class=\"spinner-border text-info\" role=\"status\">\n",
              "            </div>"
            ],
            "text/plain": [
              "<IPython.core.display.HTML object>"
            ]
          },
          "metadata": {
            "tags": []
          }
        },
        {
          "output_type": "stream",
          "text": [
            "WARNING:apache_beam.options.pipeline_options:Discarding unparseable args: ['-f', '/root/.local/share/jupyter/runtime/kernel-cc680fae-2415-4592-a1bd-643297e48482.json']\n"
          ],
          "name": "stderr"
        },
        {
          "output_type": "display_data",
          "data": {
            "text/html": [
              "\n",
              "            <style>\n",
              "            .p-Widget.jp-OutputPrompt.jp-OutputArea-prompt:empty {\n",
              "              padding: 0;\n",
              "              border: 0;\n",
              "            }\n",
              "            .p-Widget.jp-RenderedJavaScript.jp-mod-trusted.jp-OutputArea-output:empty {\n",
              "              padding: 0;\n",
              "              border: 0;\n",
              "            }\n",
              "            </style>\n",
              "            <link rel=\"stylesheet\" href=\"https://cdn.datatables.net/1.10.20/css/jquery.dataTables.min.css\">\n",
              "            <table id=\"table_df_0214f404388d2a76813878f3c281edf0\" class=\"display\" style=\"display:block\"></table>\n",
              "            <script>\n",
              "              \n",
              "        if (typeof window.interactive_beam_jquery == 'undefined') {\n",
              "          var jqueryScript = document.createElement('script');\n",
              "          jqueryScript.src = 'https://code.jquery.com/jquery-3.4.1.slim.min.js';\n",
              "          jqueryScript.type = 'text/javascript';\n",
              "          jqueryScript.onload = function() {\n",
              "            var datatableScript = document.createElement('script');\n",
              "            datatableScript.src = 'https://cdn.datatables.net/1.10.20/js/jquery.dataTables.min.js';\n",
              "            datatableScript.type = 'text/javascript';\n",
              "            datatableScript.onload = function() {\n",
              "              window.interactive_beam_jquery = jQuery.noConflict(true);\n",
              "              window.interactive_beam_jquery(document).ready(function($){\n",
              "                \n",
              "            var dt;\n",
              "            if ($.fn.dataTable.isDataTable(\"#table_df_0214f404388d2a76813878f3c281edf0\")) {\n",
              "              dt = $(\"#table_df_0214f404388d2a76813878f3c281edf0\").dataTable();\n",
              "            } else if ($(\"#table_df_0214f404388d2a76813878f3c281edf0_wrapper\").length == 0) {\n",
              "              dt = $(\"#table_df_0214f404388d2a76813878f3c281edf0\").dataTable({\n",
              "                \n",
              "            bAutoWidth: false,\n",
              "            columns: [{'title': ''}, {'title': 'pcollection_texto.0'}],\n",
              "            destroy: true,\n",
              "            responsive: true,\n",
              "            columnDefs: [\n",
              "              {\n",
              "                targets: \"_all\",\n",
              "                className: \"dt-left\"\n",
              "              },\n",
              "              {\n",
              "                \"targets\": 0,\n",
              "                \"width\": \"10px\",\n",
              "                \"title\": \"\"\n",
              "              }\n",
              "            ]\n",
              "              });\n",
              "            } else {\n",
              "              return;\n",
              "            }\n",
              "            dt.api()\n",
              "              .clear()\n",
              "              .rows.add([{1: 'Hello', 0: 0}, {1: 'World', 0: 1}, {1: 'from', 0: 2}, {1: 'Apache', 0: 3}, {1: 'Beam', 0: 4}])\n",
              "              .draw('full-hold');\n",
              "              });\n",
              "            }\n",
              "            document.head.appendChild(datatableScript);\n",
              "          };\n",
              "          document.head.appendChild(jqueryScript);\n",
              "        } else {\n",
              "          window.interactive_beam_jquery(document).ready(function($){\n",
              "            \n",
              "            var dt;\n",
              "            if ($.fn.dataTable.isDataTable(\"#table_df_0214f404388d2a76813878f3c281edf0\")) {\n",
              "              dt = $(\"#table_df_0214f404388d2a76813878f3c281edf0\").dataTable();\n",
              "            } else if ($(\"#table_df_0214f404388d2a76813878f3c281edf0_wrapper\").length == 0) {\n",
              "              dt = $(\"#table_df_0214f404388d2a76813878f3c281edf0\").dataTable({\n",
              "                \n",
              "            bAutoWidth: false,\n",
              "            columns: [{'title': ''}, {'title': 'pcollection_texto.0'}],\n",
              "            destroy: true,\n",
              "            responsive: true,\n",
              "            columnDefs: [\n",
              "              {\n",
              "                targets: \"_all\",\n",
              "                className: \"dt-left\"\n",
              "              },\n",
              "              {\n",
              "                \"targets\": 0,\n",
              "                \"width\": \"10px\",\n",
              "                \"title\": \"\"\n",
              "              }\n",
              "            ]\n",
              "              });\n",
              "            } else {\n",
              "              return;\n",
              "            }\n",
              "            dt.api()\n",
              "              .clear()\n",
              "              .rows.add([{1: 'Hello', 0: 0}, {1: 'World', 0: 1}, {1: 'from', 0: 2}, {1: 'Apache', 0: 3}, {1: 'Beam', 0: 4}])\n",
              "              .draw('full-hold');\n",
              "          });\n",
              "        }\n",
              "            </script>"
            ],
            "text/plain": [
              "<IPython.core.display.HTML object>"
            ]
          },
          "metadata": {
            "tags": []
          }
        },
        {
          "output_type": "display_data",
          "data": {
            "application/javascript": [
              "\n",
              "        if (typeof window.interactive_beam_jquery == 'undefined') {\n",
              "          var jqueryScript = document.createElement('script');\n",
              "          jqueryScript.src = 'https://code.jquery.com/jquery-3.4.1.slim.min.js';\n",
              "          jqueryScript.type = 'text/javascript';\n",
              "          jqueryScript.onload = function() {\n",
              "            var datatableScript = document.createElement('script');\n",
              "            datatableScript.src = 'https://cdn.datatables.net/1.10.20/js/jquery.dataTables.min.js';\n",
              "            datatableScript.type = 'text/javascript';\n",
              "            datatableScript.onload = function() {\n",
              "              window.interactive_beam_jquery = jQuery.noConflict(true);\n",
              "              window.interactive_beam_jquery(document).ready(function($){\n",
              "                \n",
              "            $(\"#progress_indicator_0744880f79db04817c4d8191696d6737\").remove();\n",
              "              });\n",
              "            }\n",
              "            document.head.appendChild(datatableScript);\n",
              "          };\n",
              "          document.head.appendChild(jqueryScript);\n",
              "        } else {\n",
              "          window.interactive_beam_jquery(document).ready(function($){\n",
              "            \n",
              "            $(\"#progress_indicator_0744880f79db04817c4d8191696d6737\").remove();\n",
              "          });\n",
              "        }"
            ]
          },
          "metadata": {
            "tags": []
          }
        }
      ]
    },
    {
      "cell_type": "markdown",
      "metadata": {
        "id": "bisum2q4qSCN"
      },
      "source": [
        "# Transformações nos dados"
      ]
    },
    {
      "cell_type": "markdown",
      "metadata": {
        "id": "XBk7dSMYy5Vq"
      },
      "source": [
        "## Elementos"
      ]
    },
    {
      "cell_type": "markdown",
      "metadata": {
        "id": "TcX9qyPC1wpr"
      },
      "source": [
        "- Cada elemento é processado independetemente\n",
        "- Implementação sem salvar estado (stateless)\n",
        "\n",
        "Temos o Map, FlatMap, Filter, ParDo"
      ]
    },
    {
      "cell_type": "markdown",
      "metadata": {
        "id": "HE2GBEcj1sIM"
      },
      "source": [
        "![image.png](data:image/png;base64,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)"
      ]
    },
    {
      "cell_type": "markdown",
      "metadata": {
        "id": "rAxqsM20q_se"
      },
      "source": [
        "### Map: um-para-um"
      ]
    },
    {
      "cell_type": "markdown",
      "metadata": {
        "id": "zSMdUjyDues-"
      },
      "source": [
        "O `beam.Map` é uma função que transforma uma única entrada em uma única saída\n",
        "\n",
        "\n",
        "> ℹ️ Exemplo: vamos pegar cada elemento do PCollection de entrada e multiplicar por 10."
      ]
    },
    {
      "cell_type": "code",
      "metadata": {
        "colab": {
          "base_uri": "https://localhost:8080/",
          "height": 17
        },
        "id": "zNV8e7bCrIMY",
        "outputId": "c4efdc2d-8adf-4ac6-a2a5-ae7252e8c02b"
      },
      "source": [
        "# cria o pipeline\n",
        "pipeline = beam.Pipeline(InteractiveRunner(), options=PipelineOptions())\n",
        "\n",
        "# cria os dados (PCollection)\n",
        "pcollection_numeros = pipeline | \"Dados Númericos\" >> beam.Create([1, 2, 3, 4, 5, 6, 7, 8, 9])"
      ],
      "execution_count": null,
      "outputs": [
        {
          "output_type": "display_data",
          "data": {
            "application/javascript": [
              "\n",
              "        if (typeof window.interactive_beam_jquery == 'undefined') {\n",
              "          var jqueryScript = document.createElement('script');\n",
              "          jqueryScript.src = 'https://code.jquery.com/jquery-3.4.1.slim.min.js';\n",
              "          jqueryScript.type = 'text/javascript';\n",
              "          jqueryScript.onload = function() {\n",
              "            var datatableScript = document.createElement('script');\n",
              "            datatableScript.src = 'https://cdn.datatables.net/1.10.20/js/jquery.dataTables.min.js';\n",
              "            datatableScript.type = 'text/javascript';\n",
              "            datatableScript.onload = function() {\n",
              "              window.interactive_beam_jquery = jQuery.noConflict(true);\n",
              "              window.interactive_beam_jquery(document).ready(function($){\n",
              "                \n",
              "              });\n",
              "            }\n",
              "            document.head.appendChild(datatableScript);\n",
              "          };\n",
              "          document.head.appendChild(jqueryScript);\n",
              "        } else {\n",
              "          window.interactive_beam_jquery(document).ready(function($){\n",
              "            \n",
              "          });\n",
              "        }"
            ]
          },
          "metadata": {
            "tags": []
          }
        }
      ]
    },
    {
      "cell_type": "code",
      "metadata": {
        "id": "q2n3wnDdeWTi"
      },
      "source": [
        "resultado = pcollection_numeros | \"Multiplicar por 10\" >> beam.Map(lambda x: x*10)"
      ],
      "execution_count": null,
      "outputs": []
    },
    {
      "cell_type": "code",
      "metadata": {
        "colab": {
          "base_uri": "https://localhost:8080/",
          "height": 598
        },
        "id": "8zlauoGMeyw-",
        "outputId": "9df9188a-182f-43f8-f2d9-bdb1cf16668f"
      },
      "source": [
        "# mostrar o resultado (PCollection)\n",
        "ib.show(resultado)"
      ],
      "execution_count": null,
      "outputs": [
        {
          "output_type": "display_data",
          "data": {
            "text/html": [
              "\n",
              "            <link rel=\"stylesheet\" href=\"https://stackpath.bootstrapcdn.com/bootstrap/4.4.1/css/bootstrap.min.css\" integrity=\"sha384-Vkoo8x4CGsO3+Hhxv8T/Q5PaXtkKtu6ug5TOeNV6gBiFeWPGFN9MuhOf23Q9Ifjh\" crossorigin=\"anonymous\">\n",
              "            <div id=\"progress_indicator_c97f50012306cc831ca464a4baa866b4\" class=\"spinner-border text-info\" role=\"status\">\n",
              "            </div>"
            ],
            "text/plain": [
              "<IPython.core.display.HTML object>"
            ]
          },
          "metadata": {
            "tags": []
          }
        },
        {
          "output_type": "stream",
          "text": [
            "WARNING:apache_beam.options.pipeline_options:Discarding unparseable args: ['-f', '/root/.local/share/jupyter/runtime/kernel-a874adbe-e1bf-432a-b0fd-ce5d2ee2f104.json']\n"
          ],
          "name": "stderr"
        },
        {
          "output_type": "display_data",
          "data": {
            "text/html": [
              "\n",
              "            <style>\n",
              "            .p-Widget.jp-OutputPrompt.jp-OutputArea-prompt:empty {\n",
              "              padding: 0;\n",
              "              border: 0;\n",
              "            }\n",
              "            .p-Widget.jp-RenderedJavaScript.jp-mod-trusted.jp-OutputArea-output:empty {\n",
              "              padding: 0;\n",
              "              border: 0;\n",
              "            }\n",
              "            </style>\n",
              "            <link rel=\"stylesheet\" href=\"https://cdn.datatables.net/1.10.20/css/jquery.dataTables.min.css\">\n",
              "            <table id=\"table_df_8887da30cbd03fc3bd5c4a2cce449295\" class=\"display\" style=\"display:block\"></table>\n",
              "            <script>\n",
              "              \n",
              "        if (typeof window.interactive_beam_jquery == 'undefined') {\n",
              "          var jqueryScript = document.createElement('script');\n",
              "          jqueryScript.src = 'https://code.jquery.com/jquery-3.4.1.slim.min.js';\n",
              "          jqueryScript.type = 'text/javascript';\n",
              "          jqueryScript.onload = function() {\n",
              "            var datatableScript = document.createElement('script');\n",
              "            datatableScript.src = 'https://cdn.datatables.net/1.10.20/js/jquery.dataTables.min.js';\n",
              "            datatableScript.type = 'text/javascript';\n",
              "            datatableScript.onload = function() {\n",
              "              window.interactive_beam_jquery = jQuery.noConflict(true);\n",
              "              window.interactive_beam_jquery(document).ready(function($){\n",
              "                \n",
              "            var dt;\n",
              "            if ($.fn.dataTable.isDataTable(\"#table_df_8887da30cbd03fc3bd5c4a2cce449295\")) {\n",
              "              dt = $(\"#table_df_8887da30cbd03fc3bd5c4a2cce449295\").dataTable();\n",
              "            } else if ($(\"#table_df_8887da30cbd03fc3bd5c4a2cce449295_wrapper\").length == 0) {\n",
              "              dt = $(\"#table_df_8887da30cbd03fc3bd5c4a2cce449295\").dataTable({\n",
              "                \n",
              "            bAutoWidth: false,\n",
              "            columns: [{'title': ''}, {'title': 'resultado.0'}],\n",
              "            destroy: true,\n",
              "            responsive: true,\n",
              "            columnDefs: [\n",
              "              {\n",
              "                targets: \"_all\",\n",
              "                className: \"dt-left\"\n",
              "              },\n",
              "              {\n",
              "                \"targets\": 0,\n",
              "                \"width\": \"10px\",\n",
              "                \"title\": \"\"\n",
              "              }\n",
              "            ]\n",
              "              });\n",
              "            } else {\n",
              "              return;\n",
              "            }\n",
              "            dt.api()\n",
              "              .clear()\n",
              "              .rows.add([{1: '10', 0: 0}, {1: '20', 0: 1}, {1: '30', 0: 2}, {1: '40', 0: 3}, {1: '50', 0: 4}, {1: '60', 0: 5}, {1: '70', 0: 6}, {1: '80', 0: 7}, {1: '90', 0: 8}])\n",
              "              .draw('full-hold');\n",
              "              });\n",
              "            }\n",
              "            document.head.appendChild(datatableScript);\n",
              "          };\n",
              "          document.head.appendChild(jqueryScript);\n",
              "        } else {\n",
              "          window.interactive_beam_jquery(document).ready(function($){\n",
              "            \n",
              "            var dt;\n",
              "            if ($.fn.dataTable.isDataTable(\"#table_df_8887da30cbd03fc3bd5c4a2cce449295\")) {\n",
              "              dt = $(\"#table_df_8887da30cbd03fc3bd5c4a2cce449295\").dataTable();\n",
              "            } else if ($(\"#table_df_8887da30cbd03fc3bd5c4a2cce449295_wrapper\").length == 0) {\n",
              "              dt = $(\"#table_df_8887da30cbd03fc3bd5c4a2cce449295\").dataTable({\n",
              "                \n",
              "            bAutoWidth: false,\n",
              "            columns: [{'title': ''}, {'title': 'resultado.0'}],\n",
              "            destroy: true,\n",
              "            responsive: true,\n",
              "            columnDefs: [\n",
              "              {\n",
              "                targets: \"_all\",\n",
              "                className: \"dt-left\"\n",
              "              },\n",
              "              {\n",
              "                \"targets\": 0,\n",
              "                \"width\": \"10px\",\n",
              "                \"title\": \"\"\n",
              "              }\n",
              "            ]\n",
              "              });\n",
              "            } else {\n",
              "              return;\n",
              "            }\n",
              "            dt.api()\n",
              "              .clear()\n",
              "              .rows.add([{1: '10', 0: 0}, {1: '20', 0: 1}, {1: '30', 0: 2}, {1: '40', 0: 3}, {1: '50', 0: 4}, {1: '60', 0: 5}, {1: '70', 0: 6}, {1: '80', 0: 7}, {1: '90', 0: 8}])\n",
              "              .draw('full-hold');\n",
              "          });\n",
              "        }\n",
              "            </script>"
            ],
            "text/plain": [
              "<IPython.core.display.HTML object>"
            ]
          },
          "metadata": {
            "tags": []
          }
        },
        {
          "output_type": "display_data",
          "data": {
            "application/javascript": [
              "\n",
              "        if (typeof window.interactive_beam_jquery == 'undefined') {\n",
              "          var jqueryScript = document.createElement('script');\n",
              "          jqueryScript.src = 'https://code.jquery.com/jquery-3.4.1.slim.min.js';\n",
              "          jqueryScript.type = 'text/javascript';\n",
              "          jqueryScript.onload = function() {\n",
              "            var datatableScript = document.createElement('script');\n",
              "            datatableScript.src = 'https://cdn.datatables.net/1.10.20/js/jquery.dataTables.min.js';\n",
              "            datatableScript.type = 'text/javascript';\n",
              "            datatableScript.onload = function() {\n",
              "              window.interactive_beam_jquery = jQuery.noConflict(true);\n",
              "              window.interactive_beam_jquery(document).ready(function($){\n",
              "                \n",
              "            $(\"#progress_indicator_c97f50012306cc831ca464a4baa866b4\").remove();\n",
              "              });\n",
              "            }\n",
              "            document.head.appendChild(datatableScript);\n",
              "          };\n",
              "          document.head.appendChild(jqueryScript);\n",
              "        } else {\n",
              "          window.interactive_beam_jquery(document).ready(function($){\n",
              "            \n",
              "            $(\"#progress_indicator_c97f50012306cc831ca464a4baa866b4\").remove();\n",
              "          });\n",
              "        }"
            ]
          },
          "metadata": {
            "tags": []
          }
        }
      ]
    },
    {
      "cell_type": "code",
      "metadata": {
        "colab": {
          "base_uri": "https://localhost:8080/",
          "height": 622
        },
        "id": "0TrN9ujciNIS",
        "outputId": "08a40cb7-2dfe-4e5f-b0a7-fcebd7aa6e9f"
      },
      "source": [
        "# Visualizar a DAG da pipeline\n",
        "ib.show_graph(pipeline)"
      ],
      "execution_count": null,
      "outputs": [
        {
          "output_type": "display_data",
          "data": {
            "text/html": [
              "\n",
              "            <link rel=\"stylesheet\" href=\"https://stackpath.bootstrapcdn.com/bootstrap/4.4.1/css/bootstrap.min.css\" integrity=\"sha384-Vkoo8x4CGsO3+Hhxv8T/Q5PaXtkKtu6ug5TOeNV6gBiFeWPGFN9MuhOf23Q9Ifjh\" crossorigin=\"anonymous\">\n",
              "            <div id=\"progress_indicator_0a25e6ef9a00452ae4a3c4b744b2ef57\" class=\"spinner-border text-info\" role=\"status\">\n",
              "            </div>"
            ],
            "text/plain": [
              "<IPython.core.display.HTML object>"
            ]
          },
          "metadata": {
            "tags": []
          }
        },
        {
          "output_type": "display_data",
          "data": {
            "text/html": [
              "<?xml version=\"1.0\" encoding=\"UTF-8\" standalone=\"no\"?>\n",
              "<!DOCTYPE svg PUBLIC \"-//W3C//DTD SVG 1.1//EN\"\n",
              " \"http://www.w3.org/Graphics/SVG/1.1/DTD/svg11.dtd\">\n",
              "<!-- Generated by graphviz version 2.40.1 (20161225.0304)\n",
              " -->\n",
              "<!-- Title: G Pages: 1 -->\n",
              "<svg width=\"186pt\" height=\"454pt\"\n",
              " viewBox=\"0.00 0.00 186.08 454.48\" xmlns=\"http://www.w3.org/2000/svg\" xmlns:xlink=\"http://www.w3.org/1999/xlink\">\n",
              "<g id=\"graph0\" class=\"graph\" transform=\"scale(1 1) rotate(0) translate(4 450.4764)\">\n",
              "<title>G</title>\n",
              "<polygon fill=\"#ffffff\" stroke=\"transparent\" points=\"-4,4 -4,-450.4764 182.0842,-450.4764 182.0842,4 -4,4\"/>\n",
              "<!-- [10]: Dados Númericos -->\n",
              "<g id=\"node1\" class=\"node\">\n",
              "<title>[10]: Dados Númericos</title>\n",
              "<polygon fill=\"none\" stroke=\"#0000ff\" points=\"164.5421,-446.4764 13.5421,-446.4764 13.5421,-410.4764 164.5421,-410.4764 164.5421,-446.4764\"/>\n",
              "<text text-anchor=\"middle\" x=\"89.0421\" y=\"-424.7764\" font-family=\"Times,serif\" font-size=\"14.00\" fill=\"#0000ff\">[10]: Dados Númericos</text>\n",
              "</g>\n",
              "<!-- pcollection_numeros -->\n",
              "<g id=\"node2\" class=\"node\">\n",
              "<title>pcollection_numeros</title>\n",
              "<ellipse fill=\"none\" stroke=\"#0000ff\" cx=\"89.0421\" cy=\"-285.4343\" rx=\"89.0842\" ry=\"89.0842\"/>\n",
              "<text text-anchor=\"middle\" x=\"89.0421\" y=\"-281.7343\" font-family=\"Times,serif\" font-size=\"14.00\" fill=\"#0000ff\">pcollection_numeros</text>\n",
              "</g>\n",
              "<!-- [10]: Dados Númericos&#45;&gt;pcollection_numeros -->\n",
              "<g id=\"edge1\" class=\"edge\">\n",
              "<title>[10]: Dados Númericos&#45;&gt;pcollection_numeros</title>\n",
              "<path fill=\"none\" stroke=\"#000000\" d=\"M89.0421,-410.36C89.0421,-403.2182 89.0421,-394.4257 89.0421,-384.8411\"/>\n",
              "<polygon fill=\"#000000\" stroke=\"#000000\" points=\"92.5422,-384.6021 89.0421,-374.6021 85.5422,-384.6021 92.5422,-384.6021\"/>\n",
              "</g>\n",
              "<!-- [11]: Multiplicar por 10 -->\n",
              "<g id=\"node3\" class=\"node\">\n",
              "<title>[11]: Multiplicar por 10</title>\n",
              "<polygon fill=\"none\" stroke=\"#0000ff\" points=\"165.0421,-160.3922 13.0421,-160.3922 13.0421,-124.3922 165.0421,-124.3922 165.0421,-160.3922\"/>\n",
              "<text text-anchor=\"middle\" x=\"89.0421\" y=\"-138.6922\" font-family=\"Times,serif\" font-size=\"14.00\" fill=\"#0000ff\">[11]: Multiplicar por 10</text>\n",
              "</g>\n",
              "<!-- pcollection_numeros&#45;&gt;[11]: Multiplicar por 10 -->\n",
              "<g id=\"edge2\" class=\"edge\">\n",
              "<title>pcollection_numeros&#45;&gt;[11]: Multiplicar por 10</title>\n",
              "<path fill=\"none\" stroke=\"#000000\" d=\"M89.0421,-196.0627C89.0421,-187.1081 89.0421,-178.5524 89.0421,-171.0073\"/>\n",
              "<polygon fill=\"#000000\" stroke=\"#000000\" points=\"92.5422,-170.7471 89.0421,-160.7471 85.5422,-170.7472 92.5422,-170.7471\"/>\n",
              "</g>\n",
              "<!-- resultado -->\n",
              "<g id=\"node4\" class=\"node\">\n",
              "<title>resultado</title>\n",
              "<ellipse fill=\"none\" stroke=\"#0000ff\" cx=\"89.0421\" cy=\"-44.1961\" rx=\"44.393\" ry=\"44.393\"/>\n",
              "<text text-anchor=\"middle\" x=\"89.0421\" y=\"-40.4961\" font-family=\"Times,serif\" font-size=\"14.00\" fill=\"#0000ff\">resultado</text>\n",
              "</g>\n",
              "<!-- [11]: Multiplicar por 10&#45;&gt;resultado -->\n",
              "<g id=\"edge3\" class=\"edge\">\n",
              "<title>[11]: Multiplicar por 10&#45;&gt;resultado</title>\n",
              "<path fill=\"none\" stroke=\"#000000\" d=\"M89.0421,-124.3815C89.0421,-116.9812 89.0421,-107.9803 89.0421,-98.7187\"/>\n",
              "<polygon fill=\"#000000\" stroke=\"#000000\" points=\"92.5422,-98.63 89.0421,-88.63 85.5422,-98.63 92.5422,-98.63\"/>\n",
              "</g>\n",
              "</g>\n",
              "</svg>\n"
            ],
            "text/plain": [
              "<IPython.core.display.HTML object>"
            ]
          },
          "metadata": {
            "tags": []
          }
        },
        {
          "output_type": "display_data",
          "data": {
            "application/javascript": [
              "\n",
              "        if (typeof window.interactive_beam_jquery == 'undefined') {\n",
              "          var jqueryScript = document.createElement('script');\n",
              "          jqueryScript.src = 'https://code.jquery.com/jquery-3.4.1.slim.min.js';\n",
              "          jqueryScript.type = 'text/javascript';\n",
              "          jqueryScript.onload = function() {\n",
              "            var datatableScript = document.createElement('script');\n",
              "            datatableScript.src = 'https://cdn.datatables.net/1.10.20/js/jquery.dataTables.min.js';\n",
              "            datatableScript.type = 'text/javascript';\n",
              "            datatableScript.onload = function() {\n",
              "              window.interactive_beam_jquery = jQuery.noConflict(true);\n",
              "              window.interactive_beam_jquery(document).ready(function($){\n",
              "                \n",
              "            $(\"#progress_indicator_0a25e6ef9a00452ae4a3c4b744b2ef57\").remove();\n",
              "              });\n",
              "            }\n",
              "            document.head.appendChild(datatableScript);\n",
              "          };\n",
              "          document.head.appendChild(jqueryScript);\n",
              "        } else {\n",
              "          window.interactive_beam_jquery(document).ready(function($){\n",
              "            \n",
              "            $(\"#progress_indicator_0a25e6ef9a00452ae4a3c4b744b2ef57\").remove();\n",
              "          });\n",
              "        }"
            ]
          },
          "metadata": {
            "tags": []
          }
        }
      ]
    },
    {
      "cell_type": "markdown",
      "metadata": {
        "id": "UHP0L17yhpLM"
      },
      "source": [
        "Mesma pipeline construido todo de uma vez"
      ]
    },
    {
      "cell_type": "code",
      "metadata": {
        "id": "xayH0HGghTXI"
      },
      "source": [
        "pipeline = beam.Pipeline(InteractiveRunner(), options=PipelineOptions())\n",
        "resultado = (\n",
        "    pipeline\n",
        "    | \"Dados Númericos\" >> beam.Create([1, 2, 3, 4, 5, 6, 7, 8, 9])\n",
        "    | \"Multiplicar por 10\" >> beam.Map(lambda x: x*10)\n",
        ")"
      ],
      "execution_count": null,
      "outputs": []
    },
    {
      "cell_type": "code",
      "metadata": {
        "colab": {
          "base_uri": "https://localhost:8080/",
          "height": 598
        },
        "id": "tbeqnczChx3z",
        "outputId": "58352311-8d11-44b2-aaed-fc3f24075a74"
      },
      "source": [
        "# mostrar o resultado (PCollection)\n",
        "ib.show(resultado)"
      ],
      "execution_count": null,
      "outputs": [
        {
          "output_type": "display_data",
          "data": {
            "text/html": [
              "\n",
              "            <link rel=\"stylesheet\" href=\"https://stackpath.bootstrapcdn.com/bootstrap/4.4.1/css/bootstrap.min.css\" integrity=\"sha384-Vkoo8x4CGsO3+Hhxv8T/Q5PaXtkKtu6ug5TOeNV6gBiFeWPGFN9MuhOf23Q9Ifjh\" crossorigin=\"anonymous\">\n",
              "            <div id=\"progress_indicator_9b5ad874ab9ea2bba04e9d8bff91a7cf\" class=\"spinner-border text-info\" role=\"status\">\n",
              "            </div>"
            ],
            "text/plain": [
              "<IPython.core.display.HTML object>"
            ]
          },
          "metadata": {
            "tags": []
          }
        },
        {
          "output_type": "stream",
          "text": [
            "WARNING:apache_beam.options.pipeline_options:Discarding unparseable args: ['-f', '/root/.local/share/jupyter/runtime/kernel-a874adbe-e1bf-432a-b0fd-ce5d2ee2f104.json']\n"
          ],
          "name": "stderr"
        },
        {
          "output_type": "display_data",
          "data": {
            "text/html": [
              "\n",
              "            <style>\n",
              "            .p-Widget.jp-OutputPrompt.jp-OutputArea-prompt:empty {\n",
              "              padding: 0;\n",
              "              border: 0;\n",
              "            }\n",
              "            .p-Widget.jp-RenderedJavaScript.jp-mod-trusted.jp-OutputArea-output:empty {\n",
              "              padding: 0;\n",
              "              border: 0;\n",
              "            }\n",
              "            </style>\n",
              "            <link rel=\"stylesheet\" href=\"https://cdn.datatables.net/1.10.20/css/jquery.dataTables.min.css\">\n",
              "            <table id=\"table_df_3b389f8be1a43807d84b6c672a922854\" class=\"display\" style=\"display:block\"></table>\n",
              "            <script>\n",
              "              \n",
              "        if (typeof window.interactive_beam_jquery == 'undefined') {\n",
              "          var jqueryScript = document.createElement('script');\n",
              "          jqueryScript.src = 'https://code.jquery.com/jquery-3.4.1.slim.min.js';\n",
              "          jqueryScript.type = 'text/javascript';\n",
              "          jqueryScript.onload = function() {\n",
              "            var datatableScript = document.createElement('script');\n",
              "            datatableScript.src = 'https://cdn.datatables.net/1.10.20/js/jquery.dataTables.min.js';\n",
              "            datatableScript.type = 'text/javascript';\n",
              "            datatableScript.onload = function() {\n",
              "              window.interactive_beam_jquery = jQuery.noConflict(true);\n",
              "              window.interactive_beam_jquery(document).ready(function($){\n",
              "                \n",
              "            var dt;\n",
              "            if ($.fn.dataTable.isDataTable(\"#table_df_3b389f8be1a43807d84b6c672a922854\")) {\n",
              "              dt = $(\"#table_df_3b389f8be1a43807d84b6c672a922854\").dataTable();\n",
              "            } else if ($(\"#table_df_3b389f8be1a43807d84b6c672a922854_wrapper\").length == 0) {\n",
              "              dt = $(\"#table_df_3b389f8be1a43807d84b6c672a922854\").dataTable({\n",
              "                \n",
              "            bAutoWidth: false,\n",
              "            columns: [{'title': ''}, {'title': 'resultado.0'}],\n",
              "            destroy: true,\n",
              "            responsive: true,\n",
              "            columnDefs: [\n",
              "              {\n",
              "                targets: \"_all\",\n",
              "                className: \"dt-left\"\n",
              "              },\n",
              "              {\n",
              "                \"targets\": 0,\n",
              "                \"width\": \"10px\",\n",
              "                \"title\": \"\"\n",
              "              }\n",
              "            ]\n",
              "              });\n",
              "            } else {\n",
              "              return;\n",
              "            }\n",
              "            dt.api()\n",
              "              .clear()\n",
              "              .rows.add([{1: '10', 0: 0}, {1: '20', 0: 1}, {1: '30', 0: 2}, {1: '40', 0: 3}, {1: '50', 0: 4}, {1: '60', 0: 5}, {1: '70', 0: 6}, {1: '80', 0: 7}, {1: '90', 0: 8}])\n",
              "              .draw('full-hold');\n",
              "              });\n",
              "            }\n",
              "            document.head.appendChild(datatableScript);\n",
              "          };\n",
              "          document.head.appendChild(jqueryScript);\n",
              "        } else {\n",
              "          window.interactive_beam_jquery(document).ready(function($){\n",
              "            \n",
              "            var dt;\n",
              "            if ($.fn.dataTable.isDataTable(\"#table_df_3b389f8be1a43807d84b6c672a922854\")) {\n",
              "              dt = $(\"#table_df_3b389f8be1a43807d84b6c672a922854\").dataTable();\n",
              "            } else if ($(\"#table_df_3b389f8be1a43807d84b6c672a922854_wrapper\").length == 0) {\n",
              "              dt = $(\"#table_df_3b389f8be1a43807d84b6c672a922854\").dataTable({\n",
              "                \n",
              "            bAutoWidth: false,\n",
              "            columns: [{'title': ''}, {'title': 'resultado.0'}],\n",
              "            destroy: true,\n",
              "            responsive: true,\n",
              "            columnDefs: [\n",
              "              {\n",
              "                targets: \"_all\",\n",
              "                className: \"dt-left\"\n",
              "              },\n",
              "              {\n",
              "                \"targets\": 0,\n",
              "                \"width\": \"10px\",\n",
              "                \"title\": \"\"\n",
              "              }\n",
              "            ]\n",
              "              });\n",
              "            } else {\n",
              "              return;\n",
              "            }\n",
              "            dt.api()\n",
              "              .clear()\n",
              "              .rows.add([{1: '10', 0: 0}, {1: '20', 0: 1}, {1: '30', 0: 2}, {1: '40', 0: 3}, {1: '50', 0: 4}, {1: '60', 0: 5}, {1: '70', 0: 6}, {1: '80', 0: 7}, {1: '90', 0: 8}])\n",
              "              .draw('full-hold');\n",
              "          });\n",
              "        }\n",
              "            </script>"
            ],
            "text/plain": [
              "<IPython.core.display.HTML object>"
            ]
          },
          "metadata": {
            "tags": []
          }
        },
        {
          "output_type": "display_data",
          "data": {
            "application/javascript": [
              "\n",
              "        if (typeof window.interactive_beam_jquery == 'undefined') {\n",
              "          var jqueryScript = document.createElement('script');\n",
              "          jqueryScript.src = 'https://code.jquery.com/jquery-3.4.1.slim.min.js';\n",
              "          jqueryScript.type = 'text/javascript';\n",
              "          jqueryScript.onload = function() {\n",
              "            var datatableScript = document.createElement('script');\n",
              "            datatableScript.src = 'https://cdn.datatables.net/1.10.20/js/jquery.dataTables.min.js';\n",
              "            datatableScript.type = 'text/javascript';\n",
              "            datatableScript.onload = function() {\n",
              "              window.interactive_beam_jquery = jQuery.noConflict(true);\n",
              "              window.interactive_beam_jquery(document).ready(function($){\n",
              "                \n",
              "            $(\"#progress_indicator_9b5ad874ab9ea2bba04e9d8bff91a7cf\").remove();\n",
              "              });\n",
              "            }\n",
              "            document.head.appendChild(datatableScript);\n",
              "          };\n",
              "          document.head.appendChild(jqueryScript);\n",
              "        } else {\n",
              "          window.interactive_beam_jquery(document).ready(function($){\n",
              "            \n",
              "            $(\"#progress_indicator_9b5ad874ab9ea2bba04e9d8bff91a7cf\").remove();\n",
              "          });\n",
              "        }"
            ]
          },
          "metadata": {
            "tags": []
          }
        }
      ]
    },
    {
      "cell_type": "markdown",
      "metadata": {
        "id": "0luHYUGsrM1P"
      },
      "source": [
        "### FlatMap: um-para-muitos"
      ]
    },
    {
      "cell_type": "markdown",
      "metadata": {
        "id": "vz6uK6q4vM6J"
      },
      "source": [
        "O `beam.FlatMap` já nos permite mapear cada elemento do PCollection de entrada para uma coleção ou vários elementos de saída\n",
        "\n",
        "Ele retorna uma `lista` de PCollection de saída e depois junta todos os dados em uma única PCollection de saída.\n",
        "\n",
        "\n",
        "> ℹ️ Exemplo: vamos pegar cada elemento do PCollection de entrada e multiplicar por 10, 100 e 1000"
      ]
    },
    {
      "cell_type": "code",
      "metadata": {
        "id": "sHbdNqamrOrR"
      },
      "source": [
        "pipeline = beam.Pipeline(InteractiveRunner(), options=PipelineOptions())\n",
        "resultado = (\n",
        "    pipeline\n",
        "    | \"Dados Númericos\" >> beam.Create([1, 2, 3, 4, 5, 6, 7, 8, 9])\n",
        "    | \"Multiplicar por 10, 100, 100\" >> beam.FlatMap(lambda x: [x*10, x*100, x*1000])\n",
        ")"
      ],
      "execution_count": null,
      "outputs": []
    },
    {
      "cell_type": "code",
      "metadata": {
        "colab": {
          "base_uri": "https://localhost:8080/",
          "height": 639
        },
        "id": "p8GPPyISg-f_",
        "outputId": "55012ce4-8aff-4f87-ede8-5de05c42c874"
      },
      "source": [
        "ib.show(resultado)"
      ],
      "execution_count": null,
      "outputs": [
        {
          "output_type": "display_data",
          "data": {
            "text/html": [
              "\n",
              "            <link rel=\"stylesheet\" href=\"https://stackpath.bootstrapcdn.com/bootstrap/4.4.1/css/bootstrap.min.css\" integrity=\"sha384-Vkoo8x4CGsO3+Hhxv8T/Q5PaXtkKtu6ug5TOeNV6gBiFeWPGFN9MuhOf23Q9Ifjh\" crossorigin=\"anonymous\">\n",
              "            <div id=\"progress_indicator_81f6ce6814c252c656b092bf480259ec\" class=\"spinner-border text-info\" role=\"status\">\n",
              "            </div>"
            ],
            "text/plain": [
              "<IPython.core.display.HTML object>"
            ]
          },
          "metadata": {
            "tags": []
          }
        },
        {
          "output_type": "stream",
          "text": [
            "WARNING:apache_beam.options.pipeline_options:Discarding unparseable args: ['-f', '/root/.local/share/jupyter/runtime/kernel-a874adbe-e1bf-432a-b0fd-ce5d2ee2f104.json']\n"
          ],
          "name": "stderr"
        },
        {
          "output_type": "display_data",
          "data": {
            "text/html": [
              "\n",
              "            <style>\n",
              "            .p-Widget.jp-OutputPrompt.jp-OutputArea-prompt:empty {\n",
              "              padding: 0;\n",
              "              border: 0;\n",
              "            }\n",
              "            .p-Widget.jp-RenderedJavaScript.jp-mod-trusted.jp-OutputArea-output:empty {\n",
              "              padding: 0;\n",
              "              border: 0;\n",
              "            }\n",
              "            </style>\n",
              "            <link rel=\"stylesheet\" href=\"https://cdn.datatables.net/1.10.20/css/jquery.dataTables.min.css\">\n",
              "            <table id=\"table_df_374131dfa5b0e91aaeddf9a50e313b27\" class=\"display\" style=\"display:block\"></table>\n",
              "            <script>\n",
              "              \n",
              "        if (typeof window.interactive_beam_jquery == 'undefined') {\n",
              "          var jqueryScript = document.createElement('script');\n",
              "          jqueryScript.src = 'https://code.jquery.com/jquery-3.4.1.slim.min.js';\n",
              "          jqueryScript.type = 'text/javascript';\n",
              "          jqueryScript.onload = function() {\n",
              "            var datatableScript = document.createElement('script');\n",
              "            datatableScript.src = 'https://cdn.datatables.net/1.10.20/js/jquery.dataTables.min.js';\n",
              "            datatableScript.type = 'text/javascript';\n",
              "            datatableScript.onload = function() {\n",
              "              window.interactive_beam_jquery = jQuery.noConflict(true);\n",
              "              window.interactive_beam_jquery(document).ready(function($){\n",
              "                \n",
              "            var dt;\n",
              "            if ($.fn.dataTable.isDataTable(\"#table_df_374131dfa5b0e91aaeddf9a50e313b27\")) {\n",
              "              dt = $(\"#table_df_374131dfa5b0e91aaeddf9a50e313b27\").dataTable();\n",
              "            } else if ($(\"#table_df_374131dfa5b0e91aaeddf9a50e313b27_wrapper\").length == 0) {\n",
              "              dt = $(\"#table_df_374131dfa5b0e91aaeddf9a50e313b27\").dataTable({\n",
              "                \n",
              "            bAutoWidth: false,\n",
              "            columns: [{'title': ''}, {'title': 'resultado.0'}],\n",
              "            destroy: true,\n",
              "            responsive: true,\n",
              "            columnDefs: [\n",
              "              {\n",
              "                targets: \"_all\",\n",
              "                className: \"dt-left\"\n",
              "              },\n",
              "              {\n",
              "                \"targets\": 0,\n",
              "                \"width\": \"10px\",\n",
              "                \"title\": \"\"\n",
              "              }\n",
              "            ]\n",
              "              });\n",
              "            } else {\n",
              "              return;\n",
              "            }\n",
              "            dt.api()\n",
              "              .clear()\n",
              "              .rows.add([{1: '10', 0: 0}, {1: '100', 0: 1}, {1: '1000', 0: 2}, {1: '20', 0: 3}, {1: '200', 0: 4}, {1: '2000', 0: 5}, {1: '30', 0: 6}, {1: '300', 0: 7}, {1: '3000', 0: 8}, {1: '40', 0: 9}, {1: '400', 0: 10}, {1: '4000', 0: 11}, {1: '50', 0: 12}, {1: '500', 0: 13}, {1: '5000', 0: 14}, {1: '60', 0: 15}, {1: '600', 0: 16}, {1: '6000', 0: 17}, {1: '70', 0: 18}, {1: '700', 0: 19}, {1: '7000', 0: 20}, {1: '80', 0: 21}, {1: '800', 0: 22}, {1: '8000', 0: 23}, {1: '90', 0: 24}, {1: '900', 0: 25}, {1: '9000', 0: 26}])\n",
              "              .draw('full-hold');\n",
              "              });\n",
              "            }\n",
              "            document.head.appendChild(datatableScript);\n",
              "          };\n",
              "          document.head.appendChild(jqueryScript);\n",
              "        } else {\n",
              "          window.interactive_beam_jquery(document).ready(function($){\n",
              "            \n",
              "            var dt;\n",
              "            if ($.fn.dataTable.isDataTable(\"#table_df_374131dfa5b0e91aaeddf9a50e313b27\")) {\n",
              "              dt = $(\"#table_df_374131dfa5b0e91aaeddf9a50e313b27\").dataTable();\n",
              "            } else if ($(\"#table_df_374131dfa5b0e91aaeddf9a50e313b27_wrapper\").length == 0) {\n",
              "              dt = $(\"#table_df_374131dfa5b0e91aaeddf9a50e313b27\").dataTable({\n",
              "                \n",
              "            bAutoWidth: false,\n",
              "            columns: [{'title': ''}, {'title': 'resultado.0'}],\n",
              "            destroy: true,\n",
              "            responsive: true,\n",
              "            columnDefs: [\n",
              "              {\n",
              "                targets: \"_all\",\n",
              "                className: \"dt-left\"\n",
              "              },\n",
              "              {\n",
              "                \"targets\": 0,\n",
              "                \"width\": \"10px\",\n",
              "                \"title\": \"\"\n",
              "              }\n",
              "            ]\n",
              "              });\n",
              "            } else {\n",
              "              return;\n",
              "            }\n",
              "            dt.api()\n",
              "              .clear()\n",
              "              .rows.add([{1: '10', 0: 0}, {1: '100', 0: 1}, {1: '1000', 0: 2}, {1: '20', 0: 3}, {1: '200', 0: 4}, {1: '2000', 0: 5}, {1: '30', 0: 6}, {1: '300', 0: 7}, {1: '3000', 0: 8}, {1: '40', 0: 9}, {1: '400', 0: 10}, {1: '4000', 0: 11}, {1: '50', 0: 12}, {1: '500', 0: 13}, {1: '5000', 0: 14}, {1: '60', 0: 15}, {1: '600', 0: 16}, {1: '6000', 0: 17}, {1: '70', 0: 18}, {1: '700', 0: 19}, {1: '7000', 0: 20}, {1: '80', 0: 21}, {1: '800', 0: 22}, {1: '8000', 0: 23}, {1: '90', 0: 24}, {1: '900', 0: 25}, {1: '9000', 0: 26}])\n",
              "              .draw('full-hold');\n",
              "          });\n",
              "        }\n",
              "            </script>"
            ],
            "text/plain": [
              "<IPython.core.display.HTML object>"
            ]
          },
          "metadata": {
            "tags": []
          }
        },
        {
          "output_type": "display_data",
          "data": {
            "application/javascript": [
              "\n",
              "        if (typeof window.interactive_beam_jquery == 'undefined') {\n",
              "          var jqueryScript = document.createElement('script');\n",
              "          jqueryScript.src = 'https://code.jquery.com/jquery-3.4.1.slim.min.js';\n",
              "          jqueryScript.type = 'text/javascript';\n",
              "          jqueryScript.onload = function() {\n",
              "            var datatableScript = document.createElement('script');\n",
              "            datatableScript.src = 'https://cdn.datatables.net/1.10.20/js/jquery.dataTables.min.js';\n",
              "            datatableScript.type = 'text/javascript';\n",
              "            datatableScript.onload = function() {\n",
              "              window.interactive_beam_jquery = jQuery.noConflict(true);\n",
              "              window.interactive_beam_jquery(document).ready(function($){\n",
              "                \n",
              "            $(\"#progress_indicator_81f6ce6814c252c656b092bf480259ec\").remove();\n",
              "              });\n",
              "            }\n",
              "            document.head.appendChild(datatableScript);\n",
              "          };\n",
              "          document.head.appendChild(jqueryScript);\n",
              "        } else {\n",
              "          window.interactive_beam_jquery(document).ready(function($){\n",
              "            \n",
              "            $(\"#progress_indicator_81f6ce6814c252c656b092bf480259ec\").remove();\n",
              "          });\n",
              "        }"
            ]
          },
          "metadata": {
            "tags": []
          }
        }
      ]
    },
    {
      "cell_type": "markdown",
      "metadata": {
        "id": "_9ujnxSQrO0n"
      },
      "source": [
        "### Filter: um-para-zero"
      ]
    },
    {
      "cell_type": "markdown",
      "metadata": {
        "id": "by51YisDwKci"
      },
      "source": [
        "Algumas vezes precisamos processar somente alguns elementos dentro da PCollection e ignorar os outros.\n",
        "\n",
        "Ou seja, nós gostariamos de filtrar os elementos dentro da PCollection de entrada.\n",
        "\n",
        "O `beam.Filter` é uma função que analisa um único elemento e retorna verdadeiro(True) caso queira que o elemento continue no PCollection de saída ou falso (False) para ignora-lo.\n",
        "\n",
        "> ℹ️ Exemplo: vamos pegar cada elemento do PCollection de entrada e continuar somente com os elementos que são par."
      ]
    },
    {
      "cell_type": "code",
      "metadata": {
        "id": "yf_-fVPCrxpJ"
      },
      "source": [
        "pipeline = beam.Pipeline(InteractiveRunner(), options=PipelineOptions())\n",
        "resultado = (\n",
        "    pipeline\n",
        "    | \"Dados Númericos\" >> beam.Create([1, 2, 3, 4, 5, 6, 7, 8, 9])\n",
        "    | \"Filtrar somente os pares\" >> beam.Filter(lambda x: x%2 == 0)\n",
        ")"
      ],
      "execution_count": null,
      "outputs": []
    },
    {
      "cell_type": "code",
      "metadata": {
        "colab": {
          "base_uri": "https://localhost:8080/",
          "height": 350
        },
        "id": "GWJWbvz4lS0b",
        "outputId": "bbe04574-63df-4179-ba65-cea56949186c"
      },
      "source": [
        "ib.show(resultado)"
      ],
      "execution_count": null,
      "outputs": [
        {
          "output_type": "display_data",
          "data": {
            "text/html": [
              "\n",
              "            <link rel=\"stylesheet\" href=\"https://stackpath.bootstrapcdn.com/bootstrap/4.4.1/css/bootstrap.min.css\" integrity=\"sha384-Vkoo8x4CGsO3+Hhxv8T/Q5PaXtkKtu6ug5TOeNV6gBiFeWPGFN9MuhOf23Q9Ifjh\" crossorigin=\"anonymous\">\n",
              "            <div id=\"progress_indicator_cef88407c80fca443288bae5402d5827\" class=\"spinner-border text-info\" role=\"status\">\n",
              "            </div>"
            ],
            "text/plain": [
              "<IPython.core.display.HTML object>"
            ]
          },
          "metadata": {
            "tags": []
          }
        },
        {
          "output_type": "display_data",
          "data": {
            "text/html": [
              "\n",
              "            <style>\n",
              "            .p-Widget.jp-OutputPrompt.jp-OutputArea-prompt:empty {\n",
              "              padding: 0;\n",
              "              border: 0;\n",
              "            }\n",
              "            .p-Widget.jp-RenderedJavaScript.jp-mod-trusted.jp-OutputArea-output:empty {\n",
              "              padding: 0;\n",
              "              border: 0;\n",
              "            }\n",
              "            </style>\n",
              "            <link rel=\"stylesheet\" href=\"https://cdn.datatables.net/1.10.20/css/jquery.dataTables.min.css\">\n",
              "            <table id=\"table_df_568cf73535879fc3fb60c540f3447df6\" class=\"display\" style=\"display:block\"></table>\n",
              "            <script>\n",
              "              \n",
              "        if (typeof window.interactive_beam_jquery == 'undefined') {\n",
              "          var jqueryScript = document.createElement('script');\n",
              "          jqueryScript.src = 'https://code.jquery.com/jquery-3.4.1.slim.min.js';\n",
              "          jqueryScript.type = 'text/javascript';\n",
              "          jqueryScript.onload = function() {\n",
              "            var datatableScript = document.createElement('script');\n",
              "            datatableScript.src = 'https://cdn.datatables.net/1.10.20/js/jquery.dataTables.min.js';\n",
              "            datatableScript.type = 'text/javascript';\n",
              "            datatableScript.onload = function() {\n",
              "              window.interactive_beam_jquery = jQuery.noConflict(true);\n",
              "              window.interactive_beam_jquery(document).ready(function($){\n",
              "                \n",
              "            var dt;\n",
              "            if ($.fn.dataTable.isDataTable(\"#table_df_568cf73535879fc3fb60c540f3447df6\")) {\n",
              "              dt = $(\"#table_df_568cf73535879fc3fb60c540f3447df6\").dataTable();\n",
              "            } else if ($(\"#table_df_568cf73535879fc3fb60c540f3447df6_wrapper\").length == 0) {\n",
              "              dt = $(\"#table_df_568cf73535879fc3fb60c540f3447df6\").dataTable({\n",
              "                \n",
              "            bAutoWidth: false,\n",
              "            columns: [{'title': ''}, {'title': 'resultado.0'}],\n",
              "            destroy: true,\n",
              "            responsive: true,\n",
              "            columnDefs: [\n",
              "              {\n",
              "                targets: \"_all\",\n",
              "                className: \"dt-left\"\n",
              "              },\n",
              "              {\n",
              "                \"targets\": 0,\n",
              "                \"width\": \"10px\",\n",
              "                \"title\": \"\"\n",
              "              }\n",
              "            ]\n",
              "              });\n",
              "            } else {\n",
              "              return;\n",
              "            }\n",
              "            dt.api()\n",
              "              .clear()\n",
              "              .rows.add([{1: '2', 0: 0}, {1: '4', 0: 1}, {1: '6', 0: 2}, {1: '8', 0: 3}])\n",
              "              .draw('full-hold');\n",
              "              });\n",
              "            }\n",
              "            document.head.appendChild(datatableScript);\n",
              "          };\n",
              "          document.head.appendChild(jqueryScript);\n",
              "        } else {\n",
              "          window.interactive_beam_jquery(document).ready(function($){\n",
              "            \n",
              "            var dt;\n",
              "            if ($.fn.dataTable.isDataTable(\"#table_df_568cf73535879fc3fb60c540f3447df6\")) {\n",
              "              dt = $(\"#table_df_568cf73535879fc3fb60c540f3447df6\").dataTable();\n",
              "            } else if ($(\"#table_df_568cf73535879fc3fb60c540f3447df6_wrapper\").length == 0) {\n",
              "              dt = $(\"#table_df_568cf73535879fc3fb60c540f3447df6\").dataTable({\n",
              "                \n",
              "            bAutoWidth: false,\n",
              "            columns: [{'title': ''}, {'title': 'resultado.0'}],\n",
              "            destroy: true,\n",
              "            responsive: true,\n",
              "            columnDefs: [\n",
              "              {\n",
              "                targets: \"_all\",\n",
              "                className: \"dt-left\"\n",
              "              },\n",
              "              {\n",
              "                \"targets\": 0,\n",
              "                \"width\": \"10px\",\n",
              "                \"title\": \"\"\n",
              "              }\n",
              "            ]\n",
              "              });\n",
              "            } else {\n",
              "              return;\n",
              "            }\n",
              "            dt.api()\n",
              "              .clear()\n",
              "              .rows.add([{1: '2', 0: 0}, {1: '4', 0: 1}, {1: '6', 0: 2}, {1: '8', 0: 3}])\n",
              "              .draw('full-hold');\n",
              "          });\n",
              "        }\n",
              "            </script>"
            ],
            "text/plain": [
              "<IPython.core.display.HTML object>"
            ]
          },
          "metadata": {
            "tags": []
          }
        },
        {
          "output_type": "display_data",
          "data": {
            "application/javascript": [
              "\n",
              "        if (typeof window.interactive_beam_jquery == 'undefined') {\n",
              "          var jqueryScript = document.createElement('script');\n",
              "          jqueryScript.src = 'https://code.jquery.com/jquery-3.4.1.slim.min.js';\n",
              "          jqueryScript.type = 'text/javascript';\n",
              "          jqueryScript.onload = function() {\n",
              "            var datatableScript = document.createElement('script');\n",
              "            datatableScript.src = 'https://cdn.datatables.net/1.10.20/js/jquery.dataTables.min.js';\n",
              "            datatableScript.type = 'text/javascript';\n",
              "            datatableScript.onload = function() {\n",
              "              window.interactive_beam_jquery = jQuery.noConflict(true);\n",
              "              window.interactive_beam_jquery(document).ready(function($){\n",
              "                \n",
              "            $(\"#progress_indicator_cef88407c80fca443288bae5402d5827\").remove();\n",
              "              });\n",
              "            }\n",
              "            document.head.appendChild(datatableScript);\n",
              "          };\n",
              "          document.head.appendChild(jqueryScript);\n",
              "        } else {\n",
              "          window.interactive_beam_jquery(document).ready(function($){\n",
              "            \n",
              "            $(\"#progress_indicator_cef88407c80fca443288bae5402d5827\").remove();\n",
              "          });\n",
              "        }"
            ]
          },
          "metadata": {
            "tags": []
          }
        }
      ]
    },
    {
      "cell_type": "markdown",
      "metadata": {
        "id": "2xSZoRymrYPM"
      },
      "source": [
        "### ParDo"
      ]
    },
    {
      "cell_type": "markdown",
      "metadata": {
        "id": "1xCaRvfApL-G"
      },
      "source": [
        "Iremos aplicar o método `ParDo`, o mais comum e poderoso do Beam para criar a pipeline do exemplo anterior\n",
        "\n",
        "Vamos ver como implementar as duas transformações em uma só usando o `beam.ParDo`\n",
        "\n"
      ]
    },
    {
      "cell_type": "markdown",
      "metadata": {
        "id": "cqSC2cDIok9u"
      },
      "source": [
        "> ℹ️ Exemplo: vamos pegar cada elemento do PCollection de entrada e continuar somente com os elementos que são par e depois multiplicar os elementos resultantes por 10."
      ]
    },
    {
      "cell_type": "code",
      "metadata": {
        "id": "aAcAQ27GpBXo"
      },
      "source": [
        "class FiltrarMultiplicar(beam.DoFn):\n",
        "  def process(self, element):\n",
        "    if element%2 == 0:\n",
        "      yield element*10"
      ],
      "execution_count": null,
      "outputs": []
    },
    {
      "cell_type": "code",
      "metadata": {
        "colab": {
          "base_uri": "https://localhost:8080/"
        },
        "id": "ftCxVFb2rhwe",
        "outputId": "e20e8501-f0da-45ee-c2fc-bc3e5ec491e7"
      },
      "source": [
        "with beam.Pipeline(InteractiveRunner(), options=PipelineOptions()) as pipeline:\n",
        "  resultado = (\n",
        "      pipeline\n",
        "      | \"Dados Númericos\" >> beam.Create([1, 2, 3, 4, 5, 6, 7, 8, 9])\n",
        "      | \"Filtrar somente os pares\" >> beam.ParDo(FiltrarMultiplicar())\n",
        "  )"
      ],
      "execution_count": null,
      "outputs": [
        {
          "output_type": "stream",
          "text": [
            "WARNING:apache_beam.options.pipeline_options:Discarding unparseable args: ['-f', '/root/.local/share/jupyter/runtime/kernel-a874adbe-e1bf-432a-b0fd-ce5d2ee2f104.json']\n"
          ],
          "name": "stderr"
        }
      ]
    },
    {
      "cell_type": "code",
      "metadata": {
        "colab": {
          "base_uri": "https://localhost:8080/",
          "height": 350
        },
        "id": "1Lkcrfeupvq1",
        "outputId": "caf9284b-2180-42a0-94ee-22cf280b3d26"
      },
      "source": [
        "ib.show(resultado)"
      ],
      "execution_count": null,
      "outputs": [
        {
          "output_type": "display_data",
          "data": {
            "text/html": [
              "\n",
              "            <link rel=\"stylesheet\" href=\"https://stackpath.bootstrapcdn.com/bootstrap/4.4.1/css/bootstrap.min.css\" integrity=\"sha384-Vkoo8x4CGsO3+Hhxv8T/Q5PaXtkKtu6ug5TOeNV6gBiFeWPGFN9MuhOf23Q9Ifjh\" crossorigin=\"anonymous\">\n",
              "            <div id=\"progress_indicator_2402eed749ebe2f6970c3bc527ad47bc\" class=\"spinner-border text-info\" role=\"status\">\n",
              "            </div>"
            ],
            "text/plain": [
              "<IPython.core.display.HTML object>"
            ]
          },
          "metadata": {
            "tags": []
          }
        },
        {
          "output_type": "display_data",
          "data": {
            "text/html": [
              "\n",
              "            <style>\n",
              "            .p-Widget.jp-OutputPrompt.jp-OutputArea-prompt:empty {\n",
              "              padding: 0;\n",
              "              border: 0;\n",
              "            }\n",
              "            .p-Widget.jp-RenderedJavaScript.jp-mod-trusted.jp-OutputArea-output:empty {\n",
              "              padding: 0;\n",
              "              border: 0;\n",
              "            }\n",
              "            </style>\n",
              "            <link rel=\"stylesheet\" href=\"https://cdn.datatables.net/1.10.20/css/jquery.dataTables.min.css\">\n",
              "            <table id=\"table_df_7ec6d73a429ca9e559501cbc11cdf2b3\" class=\"display\" style=\"display:block\"></table>\n",
              "            <script>\n",
              "              \n",
              "        if (typeof window.interactive_beam_jquery == 'undefined') {\n",
              "          var jqueryScript = document.createElement('script');\n",
              "          jqueryScript.src = 'https://code.jquery.com/jquery-3.4.1.slim.min.js';\n",
              "          jqueryScript.type = 'text/javascript';\n",
              "          jqueryScript.onload = function() {\n",
              "            var datatableScript = document.createElement('script');\n",
              "            datatableScript.src = 'https://cdn.datatables.net/1.10.20/js/jquery.dataTables.min.js';\n",
              "            datatableScript.type = 'text/javascript';\n",
              "            datatableScript.onload = function() {\n",
              "              window.interactive_beam_jquery = jQuery.noConflict(true);\n",
              "              window.interactive_beam_jquery(document).ready(function($){\n",
              "                \n",
              "            var dt;\n",
              "            if ($.fn.dataTable.isDataTable(\"#table_df_7ec6d73a429ca9e559501cbc11cdf2b3\")) {\n",
              "              dt = $(\"#table_df_7ec6d73a429ca9e559501cbc11cdf2b3\").dataTable();\n",
              "            } else if ($(\"#table_df_7ec6d73a429ca9e559501cbc11cdf2b3_wrapper\").length == 0) {\n",
              "              dt = $(\"#table_df_7ec6d73a429ca9e559501cbc11cdf2b3\").dataTable({\n",
              "                \n",
              "            bAutoWidth: false,\n",
              "            columns: [{'title': ''}, {'title': 'resultado.0'}],\n",
              "            destroy: true,\n",
              "            responsive: true,\n",
              "            columnDefs: [\n",
              "              {\n",
              "                targets: \"_all\",\n",
              "                className: \"dt-left\"\n",
              "              },\n",
              "              {\n",
              "                \"targets\": 0,\n",
              "                \"width\": \"10px\",\n",
              "                \"title\": \"\"\n",
              "              }\n",
              "            ]\n",
              "              });\n",
              "            } else {\n",
              "              return;\n",
              "            }\n",
              "            dt.api()\n",
              "              .clear()\n",
              "              .rows.add([{1: '20', 0: 0}, {1: '40', 0: 1}, {1: '60', 0: 2}, {1: '80', 0: 3}])\n",
              "              .draw('full-hold');\n",
              "              });\n",
              "            }\n",
              "            document.head.appendChild(datatableScript);\n",
              "          };\n",
              "          document.head.appendChild(jqueryScript);\n",
              "        } else {\n",
              "          window.interactive_beam_jquery(document).ready(function($){\n",
              "            \n",
              "            var dt;\n",
              "            if ($.fn.dataTable.isDataTable(\"#table_df_7ec6d73a429ca9e559501cbc11cdf2b3\")) {\n",
              "              dt = $(\"#table_df_7ec6d73a429ca9e559501cbc11cdf2b3\").dataTable();\n",
              "            } else if ($(\"#table_df_7ec6d73a429ca9e559501cbc11cdf2b3_wrapper\").length == 0) {\n",
              "              dt = $(\"#table_df_7ec6d73a429ca9e559501cbc11cdf2b3\").dataTable({\n",
              "                \n",
              "            bAutoWidth: false,\n",
              "            columns: [{'title': ''}, {'title': 'resultado.0'}],\n",
              "            destroy: true,\n",
              "            responsive: true,\n",
              "            columnDefs: [\n",
              "              {\n",
              "                targets: \"_all\",\n",
              "                className: \"dt-left\"\n",
              "              },\n",
              "              {\n",
              "                \"targets\": 0,\n",
              "                \"width\": \"10px\",\n",
              "                \"title\": \"\"\n",
              "              }\n",
              "            ]\n",
              "              });\n",
              "            } else {\n",
              "              return;\n",
              "            }\n",
              "            dt.api()\n",
              "              .clear()\n",
              "              .rows.add([{1: '20', 0: 0}, {1: '40', 0: 1}, {1: '60', 0: 2}, {1: '80', 0: 3}])\n",
              "              .draw('full-hold');\n",
              "          });\n",
              "        }\n",
              "            </script>"
            ],
            "text/plain": [
              "<IPython.core.display.HTML object>"
            ]
          },
          "metadata": {
            "tags": []
          }
        },
        {
          "output_type": "display_data",
          "data": {
            "application/javascript": [
              "\n",
              "        if (typeof window.interactive_beam_jquery == 'undefined') {\n",
              "          var jqueryScript = document.createElement('script');\n",
              "          jqueryScript.src = 'https://code.jquery.com/jquery-3.4.1.slim.min.js';\n",
              "          jqueryScript.type = 'text/javascript';\n",
              "          jqueryScript.onload = function() {\n",
              "            var datatableScript = document.createElement('script');\n",
              "            datatableScript.src = 'https://cdn.datatables.net/1.10.20/js/jquery.dataTables.min.js';\n",
              "            datatableScript.type = 'text/javascript';\n",
              "            datatableScript.onload = function() {\n",
              "              window.interactive_beam_jquery = jQuery.noConflict(true);\n",
              "              window.interactive_beam_jquery(document).ready(function($){\n",
              "                \n",
              "            $(\"#progress_indicator_2402eed749ebe2f6970c3bc527ad47bc\").remove();\n",
              "              });\n",
              "            }\n",
              "            document.head.appendChild(datatableScript);\n",
              "          };\n",
              "          document.head.appendChild(jqueryScript);\n",
              "        } else {\n",
              "          window.interactive_beam_jquery(document).ready(function($){\n",
              "            \n",
              "            $(\"#progress_indicator_2402eed749ebe2f6970c3bc527ad47bc\").remove();\n",
              "          });\n",
              "        }"
            ]
          },
          "metadata": {
            "tags": []
          }
        }
      ]
    },
    {
      "cell_type": "markdown",
      "metadata": {
        "id": "CEzuM7pWujk8"
      },
      "source": [
        "### Partition"
      ]
    },
    {
      "cell_type": "markdown",
      "metadata": {
        "id": "Bwnb9tB5365W"
      },
      "source": [
        "Separa os elementos em grupos determinados por um critério especificado."
      ]
    },
    {
      "cell_type": "markdown",
      "metadata": {
        "id": "AVEpDaVA57Wc"
      },
      "source": [
        "> ℹ️ Exemplo: vamos separar os valores em pares e impares usando o `Partition`"
      ]
    },
    {
      "cell_type": "code",
      "metadata": {
        "id": "zN_UbpVxumS9"
      },
      "source": [
        "pipeline = beam.Pipeline(InteractiveRunner())\n",
        "\n",
        "par, impar = (pipeline \n",
        "            | \"Create Numbers\" >> beam.Create(range(10))\n",
        "            | \"Par e Impar\" >> beam.Partition(lambda n, partitions: n % 2, 2))"
      ],
      "execution_count": null,
      "outputs": []
    },
    {
      "cell_type": "code",
      "metadata": {
        "colab": {
          "base_uri": "https://localhost:8080/",
          "height": 766
        },
        "id": "NjaG_6VQxZ-W",
        "outputId": "767f72b9-f9db-489b-c345-a160c46397db"
      },
      "source": [
        "ib.show(par)\n",
        "ib.show(impar)"
      ],
      "execution_count": null,
      "outputs": [
        {
          "output_type": "display_data",
          "data": {
            "text/html": [
              "\n",
              "            <link rel=\"stylesheet\" href=\"https://stackpath.bootstrapcdn.com/bootstrap/4.4.1/css/bootstrap.min.css\" integrity=\"sha384-Vkoo8x4CGsO3+Hhxv8T/Q5PaXtkKtu6ug5TOeNV6gBiFeWPGFN9MuhOf23Q9Ifjh\" crossorigin=\"anonymous\">\n",
              "            <div id=\"progress_indicator_bb4cdd7c71225cb101cc0c0f2a5a6c60\" class=\"spinner-border text-info\" role=\"status\">\n",
              "            </div>"
            ],
            "text/plain": [
              "<IPython.core.display.HTML object>"
            ]
          },
          "metadata": {
            "tags": []
          }
        },
        {
          "output_type": "display_data",
          "data": {
            "text/html": [
              "\n",
              "            <style>\n",
              "            .p-Widget.jp-OutputPrompt.jp-OutputArea-prompt:empty {\n",
              "              padding: 0;\n",
              "              border: 0;\n",
              "            }\n",
              "            .p-Widget.jp-RenderedJavaScript.jp-mod-trusted.jp-OutputArea-output:empty {\n",
              "              padding: 0;\n",
              "              border: 0;\n",
              "            }\n",
              "            </style>\n",
              "            <link rel=\"stylesheet\" href=\"https://cdn.datatables.net/1.10.20/css/jquery.dataTables.min.css\">\n",
              "            <table id=\"table_df_c92011c78dabe4ca2a181106560f1d4a\" class=\"display\" style=\"display:block\"></table>\n",
              "            <script>\n",
              "              \n",
              "        if (typeof window.interactive_beam_jquery == 'undefined') {\n",
              "          var jqueryScript = document.createElement('script');\n",
              "          jqueryScript.src = 'https://code.jquery.com/jquery-3.4.1.slim.min.js';\n",
              "          jqueryScript.type = 'text/javascript';\n",
              "          jqueryScript.onload = function() {\n",
              "            var datatableScript = document.createElement('script');\n",
              "            datatableScript.src = 'https://cdn.datatables.net/1.10.20/js/jquery.dataTables.min.js';\n",
              "            datatableScript.type = 'text/javascript';\n",
              "            datatableScript.onload = function() {\n",
              "              window.interactive_beam_jquery = jQuery.noConflict(true);\n",
              "              window.interactive_beam_jquery(document).ready(function($){\n",
              "                \n",
              "            var dt;\n",
              "            if ($.fn.dataTable.isDataTable(\"#table_df_c92011c78dabe4ca2a181106560f1d4a\")) {\n",
              "              dt = $(\"#table_df_c92011c78dabe4ca2a181106560f1d4a\").dataTable();\n",
              "            } else if ($(\"#table_df_c92011c78dabe4ca2a181106560f1d4a_wrapper\").length == 0) {\n",
              "              dt = $(\"#table_df_c92011c78dabe4ca2a181106560f1d4a\").dataTable({\n",
              "                \n",
              "            bAutoWidth: false,\n",
              "            columns: [{'title': ''}, {'title': 'par.0'}],\n",
              "            destroy: true,\n",
              "            responsive: true,\n",
              "            columnDefs: [\n",
              "              {\n",
              "                targets: \"_all\",\n",
              "                className: \"dt-left\"\n",
              "              },\n",
              "              {\n",
              "                \"targets\": 0,\n",
              "                \"width\": \"10px\",\n",
              "                \"title\": \"\"\n",
              "              }\n",
              "            ]\n",
              "              });\n",
              "            } else {\n",
              "              return;\n",
              "            }\n",
              "            dt.api()\n",
              "              .clear()\n",
              "              .rows.add([{1: '0', 0: 0}, {1: '2', 0: 1}, {1: '4', 0: 2}, {1: '6', 0: 3}, {1: '8', 0: 4}])\n",
              "              .draw('full-hold');\n",
              "              });\n",
              "            }\n",
              "            document.head.appendChild(datatableScript);\n",
              "          };\n",
              "          document.head.appendChild(jqueryScript);\n",
              "        } else {\n",
              "          window.interactive_beam_jquery(document).ready(function($){\n",
              "            \n",
              "            var dt;\n",
              "            if ($.fn.dataTable.isDataTable(\"#table_df_c92011c78dabe4ca2a181106560f1d4a\")) {\n",
              "              dt = $(\"#table_df_c92011c78dabe4ca2a181106560f1d4a\").dataTable();\n",
              "            } else if ($(\"#table_df_c92011c78dabe4ca2a181106560f1d4a_wrapper\").length == 0) {\n",
              "              dt = $(\"#table_df_c92011c78dabe4ca2a181106560f1d4a\").dataTable({\n",
              "                \n",
              "            bAutoWidth: false,\n",
              "            columns: [{'title': ''}, {'title': 'par.0'}],\n",
              "            destroy: true,\n",
              "            responsive: true,\n",
              "            columnDefs: [\n",
              "              {\n",
              "                targets: \"_all\",\n",
              "                className: \"dt-left\"\n",
              "              },\n",
              "              {\n",
              "                \"targets\": 0,\n",
              "                \"width\": \"10px\",\n",
              "                \"title\": \"\"\n",
              "              }\n",
              "            ]\n",
              "              });\n",
              "            } else {\n",
              "              return;\n",
              "            }\n",
              "            dt.api()\n",
              "              .clear()\n",
              "              .rows.add([{1: '0', 0: 0}, {1: '2', 0: 1}, {1: '4', 0: 2}, {1: '6', 0: 3}, {1: '8', 0: 4}])\n",
              "              .draw('full-hold');\n",
              "          });\n",
              "        }\n",
              "            </script>"
            ],
            "text/plain": [
              "<IPython.core.display.HTML object>"
            ]
          },
          "metadata": {
            "tags": []
          }
        },
        {
          "output_type": "display_data",
          "data": {
            "application/javascript": [
              "\n",
              "        if (typeof window.interactive_beam_jquery == 'undefined') {\n",
              "          var jqueryScript = document.createElement('script');\n",
              "          jqueryScript.src = 'https://code.jquery.com/jquery-3.4.1.slim.min.js';\n",
              "          jqueryScript.type = 'text/javascript';\n",
              "          jqueryScript.onload = function() {\n",
              "            var datatableScript = document.createElement('script');\n",
              "            datatableScript.src = 'https://cdn.datatables.net/1.10.20/js/jquery.dataTables.min.js';\n",
              "            datatableScript.type = 'text/javascript';\n",
              "            datatableScript.onload = function() {\n",
              "              window.interactive_beam_jquery = jQuery.noConflict(true);\n",
              "              window.interactive_beam_jquery(document).ready(function($){\n",
              "                \n",
              "            $(\"#progress_indicator_bb4cdd7c71225cb101cc0c0f2a5a6c60\").remove();\n",
              "              });\n",
              "            }\n",
              "            document.head.appendChild(datatableScript);\n",
              "          };\n",
              "          document.head.appendChild(jqueryScript);\n",
              "        } else {\n",
              "          window.interactive_beam_jquery(document).ready(function($){\n",
              "            \n",
              "            $(\"#progress_indicator_bb4cdd7c71225cb101cc0c0f2a5a6c60\").remove();\n",
              "          });\n",
              "        }"
            ]
          },
          "metadata": {
            "tags": []
          }
        },
        {
          "output_type": "display_data",
          "data": {
            "text/html": [
              "\n",
              "            <link rel=\"stylesheet\" href=\"https://stackpath.bootstrapcdn.com/bootstrap/4.4.1/css/bootstrap.min.css\" integrity=\"sha384-Vkoo8x4CGsO3+Hhxv8T/Q5PaXtkKtu6ug5TOeNV6gBiFeWPGFN9MuhOf23Q9Ifjh\" crossorigin=\"anonymous\">\n",
              "            <div id=\"progress_indicator_14dd764d2d07dd654fb07e95e53378d5\" class=\"spinner-border text-info\" role=\"status\">\n",
              "            </div>"
            ],
            "text/plain": [
              "<IPython.core.display.HTML object>"
            ]
          },
          "metadata": {
            "tags": []
          }
        },
        {
          "output_type": "display_data",
          "data": {
            "text/html": [
              "\n",
              "            <style>\n",
              "            .p-Widget.jp-OutputPrompt.jp-OutputArea-prompt:empty {\n",
              "              padding: 0;\n",
              "              border: 0;\n",
              "            }\n",
              "            .p-Widget.jp-RenderedJavaScript.jp-mod-trusted.jp-OutputArea-output:empty {\n",
              "              padding: 0;\n",
              "              border: 0;\n",
              "            }\n",
              "            </style>\n",
              "            <link rel=\"stylesheet\" href=\"https://cdn.datatables.net/1.10.20/css/jquery.dataTables.min.css\">\n",
              "            <table id=\"table_df_0f5c4f024b8f49c185bfa23a865110d7\" class=\"display\" style=\"display:block\"></table>\n",
              "            <script>\n",
              "              \n",
              "        if (typeof window.interactive_beam_jquery == 'undefined') {\n",
              "          var jqueryScript = document.createElement('script');\n",
              "          jqueryScript.src = 'https://code.jquery.com/jquery-3.4.1.slim.min.js';\n",
              "          jqueryScript.type = 'text/javascript';\n",
              "          jqueryScript.onload = function() {\n",
              "            var datatableScript = document.createElement('script');\n",
              "            datatableScript.src = 'https://cdn.datatables.net/1.10.20/js/jquery.dataTables.min.js';\n",
              "            datatableScript.type = 'text/javascript';\n",
              "            datatableScript.onload = function() {\n",
              "              window.interactive_beam_jquery = jQuery.noConflict(true);\n",
              "              window.interactive_beam_jquery(document).ready(function($){\n",
              "                \n",
              "            var dt;\n",
              "            if ($.fn.dataTable.isDataTable(\"#table_df_0f5c4f024b8f49c185bfa23a865110d7\")) {\n",
              "              dt = $(\"#table_df_0f5c4f024b8f49c185bfa23a865110d7\").dataTable();\n",
              "            } else if ($(\"#table_df_0f5c4f024b8f49c185bfa23a865110d7_wrapper\").length == 0) {\n",
              "              dt = $(\"#table_df_0f5c4f024b8f49c185bfa23a865110d7\").dataTable({\n",
              "                \n",
              "            bAutoWidth: false,\n",
              "            columns: [{'title': ''}, {'title': 'impar.0'}],\n",
              "            destroy: true,\n",
              "            responsive: true,\n",
              "            columnDefs: [\n",
              "              {\n",
              "                targets: \"_all\",\n",
              "                className: \"dt-left\"\n",
              "              },\n",
              "              {\n",
              "                \"targets\": 0,\n",
              "                \"width\": \"10px\",\n",
              "                \"title\": \"\"\n",
              "              }\n",
              "            ]\n",
              "              });\n",
              "            } else {\n",
              "              return;\n",
              "            }\n",
              "            dt.api()\n",
              "              .clear()\n",
              "              .rows.add([{1: '1', 0: 0}, {1: '3', 0: 1}, {1: '5', 0: 2}, {1: '7', 0: 3}, {1: '9', 0: 4}])\n",
              "              .draw('full-hold');\n",
              "              });\n",
              "            }\n",
              "            document.head.appendChild(datatableScript);\n",
              "          };\n",
              "          document.head.appendChild(jqueryScript);\n",
              "        } else {\n",
              "          window.interactive_beam_jquery(document).ready(function($){\n",
              "            \n",
              "            var dt;\n",
              "            if ($.fn.dataTable.isDataTable(\"#table_df_0f5c4f024b8f49c185bfa23a865110d7\")) {\n",
              "              dt = $(\"#table_df_0f5c4f024b8f49c185bfa23a865110d7\").dataTable();\n",
              "            } else if ($(\"#table_df_0f5c4f024b8f49c185bfa23a865110d7_wrapper\").length == 0) {\n",
              "              dt = $(\"#table_df_0f5c4f024b8f49c185bfa23a865110d7\").dataTable({\n",
              "                \n",
              "            bAutoWidth: false,\n",
              "            columns: [{'title': ''}, {'title': 'impar.0'}],\n",
              "            destroy: true,\n",
              "            responsive: true,\n",
              "            columnDefs: [\n",
              "              {\n",
              "                targets: \"_all\",\n",
              "                className: \"dt-left\"\n",
              "              },\n",
              "              {\n",
              "                \"targets\": 0,\n",
              "                \"width\": \"10px\",\n",
              "                \"title\": \"\"\n",
              "              }\n",
              "            ]\n",
              "              });\n",
              "            } else {\n",
              "              return;\n",
              "            }\n",
              "            dt.api()\n",
              "              .clear()\n",
              "              .rows.add([{1: '1', 0: 0}, {1: '3', 0: 1}, {1: '5', 0: 2}, {1: '7', 0: 3}, {1: '9', 0: 4}])\n",
              "              .draw('full-hold');\n",
              "          });\n",
              "        }\n",
              "            </script>"
            ],
            "text/plain": [
              "<IPython.core.display.HTML object>"
            ]
          },
          "metadata": {
            "tags": []
          }
        },
        {
          "output_type": "display_data",
          "data": {
            "application/javascript": [
              "\n",
              "        if (typeof window.interactive_beam_jquery == 'undefined') {\n",
              "          var jqueryScript = document.createElement('script');\n",
              "          jqueryScript.src = 'https://code.jquery.com/jquery-3.4.1.slim.min.js';\n",
              "          jqueryScript.type = 'text/javascript';\n",
              "          jqueryScript.onload = function() {\n",
              "            var datatableScript = document.createElement('script');\n",
              "            datatableScript.src = 'https://cdn.datatables.net/1.10.20/js/jquery.dataTables.min.js';\n",
              "            datatableScript.type = 'text/javascript';\n",
              "            datatableScript.onload = function() {\n",
              "              window.interactive_beam_jquery = jQuery.noConflict(true);\n",
              "              window.interactive_beam_jquery(document).ready(function($){\n",
              "                \n",
              "            $(\"#progress_indicator_14dd764d2d07dd654fb07e95e53378d5\").remove();\n",
              "              });\n",
              "            }\n",
              "            document.head.appendChild(datatableScript);\n",
              "          };\n",
              "          document.head.appendChild(jqueryScript);\n",
              "        } else {\n",
              "          window.interactive_beam_jquery(document).ready(function($){\n",
              "            \n",
              "            $(\"#progress_indicator_14dd764d2d07dd654fb07e95e53378d5\").remove();\n",
              "          });\n",
              "        }"
            ]
          },
          "metadata": {
            "tags": []
          }
        }
      ]
    },
    {
      "cell_type": "markdown",
      "metadata": {
        "id": "jmLGbGdduqkX"
      },
      "source": [
        "### ParDo (Partition)"
      ]
    },
    {
      "cell_type": "markdown",
      "metadata": {
        "id": "MLHYdFt2qauk"
      },
      "source": [
        "Com o `ParDo` podemos também retornar mais de uma saída."
      ]
    },
    {
      "cell_type": "markdown",
      "metadata": {
        "id": "_eFzNA7oqoH4"
      },
      "source": [
        "> ℹ️ Exemplo: vamos pegar cada elemento do PCollection de entrada e separar os pares dos impares e multiplicar o valor por 10"
      ]
    },
    {
      "cell_type": "code",
      "metadata": {
        "id": "U0e34SqdqnEZ"
      },
      "source": [
        "class FiltrarMultiplicarMultiplos(beam.DoFn):\n",
        "    def process(self, element):\n",
        "        if element%2 == 0:\n",
        "            yield beam.pvalue.TaggedOutput(\"par\", element)\n",
        "        else:\n",
        "            yield beam.pvalue.TaggedOutput(\"impar\", element)\n",
        "\n",
        "        #yield element"
      ],
      "execution_count": null,
      "outputs": []
    },
    {
      "cell_type": "code",
      "metadata": {
        "colab": {
          "base_uri": "https://localhost:8080/",
          "height": 17
        },
        "id": "wgQs6MrHqXyP",
        "outputId": "324a0b91-5502-4b4a-dca8-f3c2234f1047"
      },
      "source": [
        "pipeline = beam.Pipeline(InteractiveRunner(), options=PipelineOptions())\n",
        "resultado = (\n",
        "    pipeline\n",
        "    | \"Dados Númericos\" >> beam.Create([1, 2, 3, 4, 5, 6, 7, 8, 9])\n",
        "    | \"Filtrar pares e impares\" >> beam.ParDo(FiltrarMultiplicarMultiplos()).with_outputs(\"par\", \"impar\")\n",
        ")"
      ],
      "execution_count": null,
      "outputs": [
        {
          "output_type": "display_data",
          "data": {
            "application/javascript": [
              "\n",
              "        if (typeof window.interactive_beam_jquery == 'undefined') {\n",
              "          var jqueryScript = document.createElement('script');\n",
              "          jqueryScript.src = 'https://code.jquery.com/jquery-3.4.1.slim.min.js';\n",
              "          jqueryScript.type = 'text/javascript';\n",
              "          jqueryScript.onload = function() {\n",
              "            var datatableScript = document.createElement('script');\n",
              "            datatableScript.src = 'https://cdn.datatables.net/1.10.20/js/jquery.dataTables.min.js';\n",
              "            datatableScript.type = 'text/javascript';\n",
              "            datatableScript.onload = function() {\n",
              "              window.interactive_beam_jquery = jQuery.noConflict(true);\n",
              "              window.interactive_beam_jquery(document).ready(function($){\n",
              "                \n",
              "              });\n",
              "            }\n",
              "            document.head.appendChild(datatableScript);\n",
              "          };\n",
              "          document.head.appendChild(jqueryScript);\n",
              "        } else {\n",
              "          window.interactive_beam_jquery(document).ready(function($){\n",
              "            \n",
              "          });\n",
              "        }"
            ]
          },
          "metadata": {
            "tags": []
          }
        }
      ]
    },
    {
      "cell_type": "code",
      "metadata": {
        "id": "OVzitydRzO7-"
      },
      "source": [
        "# pegar os elemetos do resultado\n",
        "pares = resultado.par\n",
        "impares = resultado.impar\n",
        "todos = resultado[None] "
      ],
      "execution_count": null,
      "outputs": []
    },
    {
      "cell_type": "code",
      "metadata": {
        "colab": {
          "base_uri": "https://localhost:8080/",
          "height": 1000
        },
        "id": "xO5V_TgMyBZo",
        "outputId": "d41974c3-19c7-4993-ad6d-9e19c38d4ec6"
      },
      "source": [
        "ib.show(pares, impares, todos)"
      ],
      "execution_count": null,
      "outputs": [
        {
          "output_type": "display_data",
          "data": {
            "text/html": [
              "\n",
              "            <link rel=\"stylesheet\" href=\"https://stackpath.bootstrapcdn.com/bootstrap/4.4.1/css/bootstrap.min.css\" integrity=\"sha384-Vkoo8x4CGsO3+Hhxv8T/Q5PaXtkKtu6ug5TOeNV6gBiFeWPGFN9MuhOf23Q9Ifjh\" crossorigin=\"anonymous\">\n",
              "            <div id=\"progress_indicator_1d17bc149395365644b4c5efb82b3b6b\" class=\"spinner-border text-info\" role=\"status\">\n",
              "            </div>"
            ],
            "text/plain": [
              "<IPython.core.display.HTML object>"
            ]
          },
          "metadata": {
            "tags": []
          }
        },
        {
          "output_type": "stream",
          "text": [
            "WARNING:apache_beam.options.pipeline_options:Discarding unparseable args: ['-f', '/root/.local/share/jupyter/runtime/kernel-a874adbe-e1bf-432a-b0fd-ce5d2ee2f104.json']\n"
          ],
          "name": "stderr"
        },
        {
          "output_type": "display_data",
          "data": {
            "text/html": [
              "\n",
              "            <style>\n",
              "            .p-Widget.jp-OutputPrompt.jp-OutputArea-prompt:empty {\n",
              "              padding: 0;\n",
              "              border: 0;\n",
              "            }\n",
              "            .p-Widget.jp-RenderedJavaScript.jp-mod-trusted.jp-OutputArea-output:empty {\n",
              "              padding: 0;\n",
              "              border: 0;\n",
              "            }\n",
              "            </style>\n",
              "            <link rel=\"stylesheet\" href=\"https://cdn.datatables.net/1.10.20/css/jquery.dataTables.min.css\">\n",
              "            <table id=\"table_df_a329f4d36217ef3cf192348d61c9ad54\" class=\"display\" style=\"display:block\"></table>\n",
              "            <script>\n",
              "              \n",
              "        if (typeof window.interactive_beam_jquery == 'undefined') {\n",
              "          var jqueryScript = document.createElement('script');\n",
              "          jqueryScript.src = 'https://code.jquery.com/jquery-3.4.1.slim.min.js';\n",
              "          jqueryScript.type = 'text/javascript';\n",
              "          jqueryScript.onload = function() {\n",
              "            var datatableScript = document.createElement('script');\n",
              "            datatableScript.src = 'https://cdn.datatables.net/1.10.20/js/jquery.dataTables.min.js';\n",
              "            datatableScript.type = 'text/javascript';\n",
              "            datatableScript.onload = function() {\n",
              "              window.interactive_beam_jquery = jQuery.noConflict(true);\n",
              "              window.interactive_beam_jquery(document).ready(function($){\n",
              "                \n",
              "            var dt;\n",
              "            if ($.fn.dataTable.isDataTable(\"#table_df_a329f4d36217ef3cf192348d61c9ad54\")) {\n",
              "              dt = $(\"#table_df_a329f4d36217ef3cf192348d61c9ad54\").dataTable();\n",
              "            } else if ($(\"#table_df_a329f4d36217ef3cf192348d61c9ad54_wrapper\").length == 0) {\n",
              "              dt = $(\"#table_df_a329f4d36217ef3cf192348d61c9ad54\").dataTable({\n",
              "                \n",
              "            bAutoWidth: false,\n",
              "            columns: [{'title': ''}, {'title': 'pares.0'}],\n",
              "            destroy: true,\n",
              "            responsive: true,\n",
              "            columnDefs: [\n",
              "              {\n",
              "                targets: \"_all\",\n",
              "                className: \"dt-left\"\n",
              "              },\n",
              "              {\n",
              "                \"targets\": 0,\n",
              "                \"width\": \"10px\",\n",
              "                \"title\": \"\"\n",
              "              }\n",
              "            ]\n",
              "              });\n",
              "            } else {\n",
              "              return;\n",
              "            }\n",
              "            dt.api()\n",
              "              .clear()\n",
              "              .rows.add([{1: '2', 0: 0}, {1: '4', 0: 1}, {1: '6', 0: 2}, {1: '8', 0: 3}])\n",
              "              .draw('full-hold');\n",
              "              });\n",
              "            }\n",
              "            document.head.appendChild(datatableScript);\n",
              "          };\n",
              "          document.head.appendChild(jqueryScript);\n",
              "        } else {\n",
              "          window.interactive_beam_jquery(document).ready(function($){\n",
              "            \n",
              "            var dt;\n",
              "            if ($.fn.dataTable.isDataTable(\"#table_df_a329f4d36217ef3cf192348d61c9ad54\")) {\n",
              "              dt = $(\"#table_df_a329f4d36217ef3cf192348d61c9ad54\").dataTable();\n",
              "            } else if ($(\"#table_df_a329f4d36217ef3cf192348d61c9ad54_wrapper\").length == 0) {\n",
              "              dt = $(\"#table_df_a329f4d36217ef3cf192348d61c9ad54\").dataTable({\n",
              "                \n",
              "            bAutoWidth: false,\n",
              "            columns: [{'title': ''}, {'title': 'pares.0'}],\n",
              "            destroy: true,\n",
              "            responsive: true,\n",
              "            columnDefs: [\n",
              "              {\n",
              "                targets: \"_all\",\n",
              "                className: \"dt-left\"\n",
              "              },\n",
              "              {\n",
              "                \"targets\": 0,\n",
              "                \"width\": \"10px\",\n",
              "                \"title\": \"\"\n",
              "              }\n",
              "            ]\n",
              "              });\n",
              "            } else {\n",
              "              return;\n",
              "            }\n",
              "            dt.api()\n",
              "              .clear()\n",
              "              .rows.add([{1: '2', 0: 0}, {1: '4', 0: 1}, {1: '6', 0: 2}, {1: '8', 0: 3}])\n",
              "              .draw('full-hold');\n",
              "          });\n",
              "        }\n",
              "            </script>"
            ],
            "text/plain": [
              "<IPython.core.display.HTML object>"
            ]
          },
          "metadata": {
            "tags": []
          }
        },
        {
          "output_type": "display_data",
          "data": {
            "text/html": [
              "\n",
              "            <style>\n",
              "            .p-Widget.jp-OutputPrompt.jp-OutputArea-prompt:empty {\n",
              "              padding: 0;\n",
              "              border: 0;\n",
              "            }\n",
              "            .p-Widget.jp-RenderedJavaScript.jp-mod-trusted.jp-OutputArea-output:empty {\n",
              "              padding: 0;\n",
              "              border: 0;\n",
              "            }\n",
              "            </style>\n",
              "            <link rel=\"stylesheet\" href=\"https://cdn.datatables.net/1.10.20/css/jquery.dataTables.min.css\">\n",
              "            <table id=\"table_df_fbe00dfd23a5912c07ed57c55051ce32\" class=\"display\" style=\"display:block\"></table>\n",
              "            <script>\n",
              "              \n",
              "        if (typeof window.interactive_beam_jquery == 'undefined') {\n",
              "          var jqueryScript = document.createElement('script');\n",
              "          jqueryScript.src = 'https://code.jquery.com/jquery-3.4.1.slim.min.js';\n",
              "          jqueryScript.type = 'text/javascript';\n",
              "          jqueryScript.onload = function() {\n",
              "            var datatableScript = document.createElement('script');\n",
              "            datatableScript.src = 'https://cdn.datatables.net/1.10.20/js/jquery.dataTables.min.js';\n",
              "            datatableScript.type = 'text/javascript';\n",
              "            datatableScript.onload = function() {\n",
              "              window.interactive_beam_jquery = jQuery.noConflict(true);\n",
              "              window.interactive_beam_jquery(document).ready(function($){\n",
              "                \n",
              "            var dt;\n",
              "            if ($.fn.dataTable.isDataTable(\"#table_df_fbe00dfd23a5912c07ed57c55051ce32\")) {\n",
              "              dt = $(\"#table_df_fbe00dfd23a5912c07ed57c55051ce32\").dataTable();\n",
              "            } else if ($(\"#table_df_fbe00dfd23a5912c07ed57c55051ce32_wrapper\").length == 0) {\n",
              "              dt = $(\"#table_df_fbe00dfd23a5912c07ed57c55051ce32\").dataTable({\n",
              "                \n",
              "            bAutoWidth: false,\n",
              "            columns: [{'title': ''}, {'title': 'impares.0'}],\n",
              "            destroy: true,\n",
              "            responsive: true,\n",
              "            columnDefs: [\n",
              "              {\n",
              "                targets: \"_all\",\n",
              "                className: \"dt-left\"\n",
              "              },\n",
              "              {\n",
              "                \"targets\": 0,\n",
              "                \"width\": \"10px\",\n",
              "                \"title\": \"\"\n",
              "              }\n",
              "            ]\n",
              "              });\n",
              "            } else {\n",
              "              return;\n",
              "            }\n",
              "            dt.api()\n",
              "              .clear()\n",
              "              .rows.add([{1: '1', 0: 0}, {1: '3', 0: 1}, {1: '5', 0: 2}, {1: '7', 0: 3}, {1: '9', 0: 4}])\n",
              "              .draw('full-hold');\n",
              "              });\n",
              "            }\n",
              "            document.head.appendChild(datatableScript);\n",
              "          };\n",
              "          document.head.appendChild(jqueryScript);\n",
              "        } else {\n",
              "          window.interactive_beam_jquery(document).ready(function($){\n",
              "            \n",
              "            var dt;\n",
              "            if ($.fn.dataTable.isDataTable(\"#table_df_fbe00dfd23a5912c07ed57c55051ce32\")) {\n",
              "              dt = $(\"#table_df_fbe00dfd23a5912c07ed57c55051ce32\").dataTable();\n",
              "            } else if ($(\"#table_df_fbe00dfd23a5912c07ed57c55051ce32_wrapper\").length == 0) {\n",
              "              dt = $(\"#table_df_fbe00dfd23a5912c07ed57c55051ce32\").dataTable({\n",
              "                \n",
              "            bAutoWidth: false,\n",
              "            columns: [{'title': ''}, {'title': 'impares.0'}],\n",
              "            destroy: true,\n",
              "            responsive: true,\n",
              "            columnDefs: [\n",
              "              {\n",
              "                targets: \"_all\",\n",
              "                className: \"dt-left\"\n",
              "              },\n",
              "              {\n",
              "                \"targets\": 0,\n",
              "                \"width\": \"10px\",\n",
              "                \"title\": \"\"\n",
              "              }\n",
              "            ]\n",
              "              });\n",
              "            } else {\n",
              "              return;\n",
              "            }\n",
              "            dt.api()\n",
              "              .clear()\n",
              "              .rows.add([{1: '1', 0: 0}, {1: '3', 0: 1}, {1: '5', 0: 2}, {1: '7', 0: 3}, {1: '9', 0: 4}])\n",
              "              .draw('full-hold');\n",
              "          });\n",
              "        }\n",
              "            </script>"
            ],
            "text/plain": [
              "<IPython.core.display.HTML object>"
            ]
          },
          "metadata": {
            "tags": []
          }
        },
        {
          "output_type": "display_data",
          "data": {
            "text/html": [
              "\n",
              "            <style>\n",
              "            .p-Widget.jp-OutputPrompt.jp-OutputArea-prompt:empty {\n",
              "              padding: 0;\n",
              "              border: 0;\n",
              "            }\n",
              "            .p-Widget.jp-RenderedJavaScript.jp-mod-trusted.jp-OutputArea-output:empty {\n",
              "              padding: 0;\n",
              "              border: 0;\n",
              "            }\n",
              "            </style>\n",
              "            <link rel=\"stylesheet\" href=\"https://cdn.datatables.net/1.10.20/css/jquery.dataTables.min.css\">\n",
              "            <table id=\"table_df_e49cf9db224b48bcb0e4ca26d821e50b\" class=\"display\" style=\"display:block\"></table>\n",
              "            <script>\n",
              "              \n",
              "        if (typeof window.interactive_beam_jquery == 'undefined') {\n",
              "          var jqueryScript = document.createElement('script');\n",
              "          jqueryScript.src = 'https://code.jquery.com/jquery-3.4.1.slim.min.js';\n",
              "          jqueryScript.type = 'text/javascript';\n",
              "          jqueryScript.onload = function() {\n",
              "            var datatableScript = document.createElement('script');\n",
              "            datatableScript.src = 'https://cdn.datatables.net/1.10.20/js/jquery.dataTables.min.js';\n",
              "            datatableScript.type = 'text/javascript';\n",
              "            datatableScript.onload = function() {\n",
              "              window.interactive_beam_jquery = jQuery.noConflict(true);\n",
              "              window.interactive_beam_jquery(document).ready(function($){\n",
              "                \n",
              "            var dt;\n",
              "            if ($.fn.dataTable.isDataTable(\"#table_df_e49cf9db224b48bcb0e4ca26d821e50b\")) {\n",
              "              dt = $(\"#table_df_e49cf9db224b48bcb0e4ca26d821e50b\").dataTable();\n",
              "            } else if ($(\"#table_df_e49cf9db224b48bcb0e4ca26d821e50b_wrapper\").length == 0) {\n",
              "              dt = $(\"#table_df_e49cf9db224b48bcb0e4ca26d821e50b\").dataTable({\n",
              "                \n",
              "            bAutoWidth: false,\n",
              "            columns: [{'title': ''}, {'title': 'todos.0'}],\n",
              "            destroy: true,\n",
              "            responsive: true,\n",
              "            columnDefs: [\n",
              "              {\n",
              "                targets: \"_all\",\n",
              "                className: \"dt-left\"\n",
              "              },\n",
              "              {\n",
              "                \"targets\": 0,\n",
              "                \"width\": \"10px\",\n",
              "                \"title\": \"\"\n",
              "              }\n",
              "            ]\n",
              "              });\n",
              "            } else {\n",
              "              return;\n",
              "            }\n",
              "            dt.api()\n",
              "              .clear()\n",
              "              .rows.add([{1: '1', 0: 0}, {1: '2', 0: 1}, {1: '3', 0: 2}, {1: '4', 0: 3}, {1: '5', 0: 4}, {1: '6', 0: 5}, {1: '7', 0: 6}, {1: '8', 0: 7}, {1: '9', 0: 8}])\n",
              "              .draw('full-hold');\n",
              "              });\n",
              "            }\n",
              "            document.head.appendChild(datatableScript);\n",
              "          };\n",
              "          document.head.appendChild(jqueryScript);\n",
              "        } else {\n",
              "          window.interactive_beam_jquery(document).ready(function($){\n",
              "            \n",
              "            var dt;\n",
              "            if ($.fn.dataTable.isDataTable(\"#table_df_e49cf9db224b48bcb0e4ca26d821e50b\")) {\n",
              "              dt = $(\"#table_df_e49cf9db224b48bcb0e4ca26d821e50b\").dataTable();\n",
              "            } else if ($(\"#table_df_e49cf9db224b48bcb0e4ca26d821e50b_wrapper\").length == 0) {\n",
              "              dt = $(\"#table_df_e49cf9db224b48bcb0e4ca26d821e50b\").dataTable({\n",
              "                \n",
              "            bAutoWidth: false,\n",
              "            columns: [{'title': ''}, {'title': 'todos.0'}],\n",
              "            destroy: true,\n",
              "            responsive: true,\n",
              "            columnDefs: [\n",
              "              {\n",
              "                targets: \"_all\",\n",
              "                className: \"dt-left\"\n",
              "              },\n",
              "              {\n",
              "                \"targets\": 0,\n",
              "                \"width\": \"10px\",\n",
              "                \"title\": \"\"\n",
              "              }\n",
              "            ]\n",
              "              });\n",
              "            } else {\n",
              "              return;\n",
              "            }\n",
              "            dt.api()\n",
              "              .clear()\n",
              "              .rows.add([{1: '1', 0: 0}, {1: '2', 0: 1}, {1: '3', 0: 2}, {1: '4', 0: 3}, {1: '5', 0: 4}, {1: '6', 0: 5}, {1: '7', 0: 6}, {1: '8', 0: 7}, {1: '9', 0: 8}])\n",
              "              .draw('full-hold');\n",
              "          });\n",
              "        }\n",
              "            </script>"
            ],
            "text/plain": [
              "<IPython.core.display.HTML object>"
            ]
          },
          "metadata": {
            "tags": []
          }
        },
        {
          "output_type": "display_data",
          "data": {
            "application/javascript": [
              "\n",
              "        if (typeof window.interactive_beam_jquery == 'undefined') {\n",
              "          var jqueryScript = document.createElement('script');\n",
              "          jqueryScript.src = 'https://code.jquery.com/jquery-3.4.1.slim.min.js';\n",
              "          jqueryScript.type = 'text/javascript';\n",
              "          jqueryScript.onload = function() {\n",
              "            var datatableScript = document.createElement('script');\n",
              "            datatableScript.src = 'https://cdn.datatables.net/1.10.20/js/jquery.dataTables.min.js';\n",
              "            datatableScript.type = 'text/javascript';\n",
              "            datatableScript.onload = function() {\n",
              "              window.interactive_beam_jquery = jQuery.noConflict(true);\n",
              "              window.interactive_beam_jquery(document).ready(function($){\n",
              "                \n",
              "            $(\"#progress_indicator_1d17bc149395365644b4c5efb82b3b6b\").remove();\n",
              "              });\n",
              "            }\n",
              "            document.head.appendChild(datatableScript);\n",
              "          };\n",
              "          document.head.appendChild(jqueryScript);\n",
              "        } else {\n",
              "          window.interactive_beam_jquery(document).ready(function($){\n",
              "            \n",
              "            $(\"#progress_indicator_1d17bc149395365644b4c5efb82b3b6b\").remove();\n",
              "          });\n",
              "        }"
            ]
          },
          "metadata": {
            "tags": []
          }
        }
      ]
    },
    {
      "cell_type": "code",
      "metadata": {
        "colab": {
          "base_uri": "https://localhost:8080/",
          "height": 421
        },
        "id": "PP41ld9At7Hd",
        "outputId": "e1be1d87-f8ce-4377-a7a6-ad7e9238c3a9"
      },
      "source": [
        "ib.show_graph(pipeline)"
      ],
      "execution_count": null,
      "outputs": [
        {
          "output_type": "display_data",
          "data": {
            "text/html": [
              "\n",
              "            <link rel=\"stylesheet\" href=\"https://stackpath.bootstrapcdn.com/bootstrap/4.4.1/css/bootstrap.min.css\" integrity=\"sha384-Vkoo8x4CGsO3+Hhxv8T/Q5PaXtkKtu6ug5TOeNV6gBiFeWPGFN9MuhOf23Q9Ifjh\" crossorigin=\"anonymous\">\n",
              "            <div id=\"progress_indicator_b333ade265a9d72e11ad1a1c65a394e3\" class=\"spinner-border text-info\" role=\"status\">\n",
              "            </div>"
            ],
            "text/plain": [
              "<IPython.core.display.HTML object>"
            ]
          },
          "metadata": {
            "tags": []
          }
        },
        {
          "output_type": "display_data",
          "data": {
            "text/html": [
              "<?xml version=\"1.0\" encoding=\"UTF-8\" standalone=\"no\"?>\n",
              "<!DOCTYPE svg PUBLIC \"-//W3C//DTD SVG 1.1//EN\"\n",
              " \"http://www.w3.org/Graphics/SVG/1.1/DTD/svg11.dtd\">\n",
              "<!-- Generated by graphviz version 2.40.1 (20161225.0304)\n",
              " -->\n",
              "<!-- Title: G Pages: 1 -->\n",
              "<svg width=\"246pt\" height=\"303pt\"\n",
              " viewBox=\"0.00 0.00 245.54 303.29\" xmlns=\"http://www.w3.org/2000/svg\" xmlns:xlink=\"http://www.w3.org/1999/xlink\">\n",
              "<g id=\"graph0\" class=\"graph\" transform=\"scale(1 1) rotate(0) translate(4 299.293)\">\n",
              "<title>G</title>\n",
              "<polygon fill=\"#ffffff\" stroke=\"transparent\" points=\"-4,4 -4,-299.293 241.5438,-299.293 241.5438,4 -4,4\"/>\n",
              "<!-- [7]: Dados Númericos -->\n",
              "<g id=\"node1\" class=\"node\">\n",
              "<title>[7]: Dados Númericos</title>\n",
              "<polygon fill=\"none\" stroke=\"#0000ff\" points=\"180.3973,-295.293 37.3973,-295.293 37.3973,-259.293 180.3973,-259.293 180.3973,-295.293\"/>\n",
              "<text text-anchor=\"middle\" x=\"108.8973\" y=\"-273.593\" font-family=\"Times,serif\" font-size=\"14.00\" fill=\"#0000ff\">[7]: Dados Númericos</text>\n",
              "</g>\n",
              "<!-- pcoll6085 -->\n",
              "<g id=\"node2\" class=\"node\">\n",
              "<title>pcoll6085</title>\n",
              "<ellipse fill=\"none\" stroke=\"#0000ff\" cx=\"108.8973\" cy=\"-205.293\" rx=\"18\" ry=\"18\"/>\n",
              "</g>\n",
              "<!-- [7]: Dados Númericos&#45;&gt;pcoll6085 -->\n",
              "<g id=\"edge1\" class=\"edge\">\n",
              "<title>[7]: Dados Númericos&#45;&gt;pcoll6085</title>\n",
              "<path fill=\"none\" stroke=\"#000000\" d=\"M108.8973,-259.1243C108.8973,-251.4239 108.8973,-242.2673 108.8973,-233.7096\"/>\n",
              "<polygon fill=\"#000000\" stroke=\"#000000\" points=\"112.3974,-233.7062 108.8973,-223.7062 105.3974,-233.7063 112.3974,-233.7062\"/>\n",
              "</g>\n",
              "<!-- [7]: Filtrar pares e impares -->\n",
              "<g id=\"node3\" class=\"node\">\n",
              "<title>[7]: Filtrar pares e impares</title>\n",
              "<polygon fill=\"none\" stroke=\"#0000ff\" points=\"191.8973,-151.293 25.8973,-151.293 25.8973,-115.293 191.8973,-115.293 191.8973,-151.293\"/>\n",
              "<text text-anchor=\"middle\" x=\"108.8973\" y=\"-129.593\" font-family=\"Times,serif\" font-size=\"14.00\" fill=\"#0000ff\">[7]: Filtrar pares e impares</text>\n",
              "</g>\n",
              "<!-- pcoll6085&#45;&gt;[7]: Filtrar pares e impares -->\n",
              "<g id=\"edge2\" class=\"edge\">\n",
              "<title>pcoll6085&#45;&gt;[7]: Filtrar pares e impares</title>\n",
              "<path fill=\"none\" stroke=\"#000000\" d=\"M108.8973,-187.1243C108.8973,-179.4239 108.8973,-170.2673 108.8973,-161.7096\"/>\n",
              "<polygon fill=\"#000000\" stroke=\"#000000\" points=\"112.3974,-161.7062 108.8973,-151.7062 105.3974,-161.7063 112.3974,-161.7062\"/>\n",
              "</g>\n",
              "<!-- pares -->\n",
              "<g id=\"node4\" class=\"node\">\n",
              "<title>pares</title>\n",
              "<ellipse fill=\"none\" stroke=\"#0000ff\" cx=\"29.8973\" cy=\"-39.6465\" rx=\"29.795\" ry=\"29.795\"/>\n",
              "<text text-anchor=\"middle\" x=\"29.8973\" y=\"-35.9465\" font-family=\"Times,serif\" font-size=\"14.00\" fill=\"#0000ff\">pares</text>\n",
              "</g>\n",
              "<!-- [7]: Filtrar pares e impares&#45;&gt;pares -->\n",
              "<g id=\"edge3\" class=\"edge\">\n",
              "<title>[7]: Filtrar pares e impares&#45;&gt;pares</title>\n",
              "<path fill=\"none\" stroke=\"#000000\" d=\"M93.6654,-115.237C82.997,-102.5907 68.4725,-85.3734 55.98,-70.5648\"/>\n",
              "<polygon fill=\"#000000\" stroke=\"#000000\" points=\"58.4094,-68.0166 49.2861,-62.6299 53.059,-72.5303 58.4094,-68.0166\"/>\n",
              "</g>\n",
              "<!-- todos -->\n",
              "<g id=\"node5\" class=\"node\">\n",
              "<title>todos</title>\n",
              "<ellipse fill=\"none\" stroke=\"#0000ff\" cx=\"108.8973\" cy=\"-39.6465\" rx=\"31.3957\" ry=\"31.3957\"/>\n",
              "<text text-anchor=\"middle\" x=\"108.8973\" y=\"-35.9465\" font-family=\"Times,serif\" font-size=\"14.00\" fill=\"#0000ff\">todos</text>\n",
              "</g>\n",
              "<!-- [7]: Filtrar pares e impares&#45;&gt;todos -->\n",
              "<g id=\"edge4\" class=\"edge\">\n",
              "<title>[7]: Filtrar pares e impares&#45;&gt;todos</title>\n",
              "<path fill=\"none\" stroke=\"#000000\" d=\"M108.8973,-115.237C108.8973,-105.5355 108.8973,-93.144 108.8973,-81.2135\"/>\n",
              "<polygon fill=\"#000000\" stroke=\"#000000\" points=\"112.3974,-80.927 108.8973,-70.927 105.3974,-80.9271 112.3974,-80.927\"/>\n",
              "</g>\n",
              "<!-- impares -->\n",
              "<g id=\"node6\" class=\"node\">\n",
              "<title>impares</title>\n",
              "<ellipse fill=\"none\" stroke=\"#0000ff\" cx=\"197.8973\" cy=\"-39.6465\" rx=\"39.7935\" ry=\"39.7935\"/>\n",
              "<text text-anchor=\"middle\" x=\"197.8973\" y=\"-35.9465\" font-family=\"Times,serif\" font-size=\"14.00\" fill=\"#0000ff\">impares</text>\n",
              "</g>\n",
              "<!-- [7]: Filtrar pares e impares&#45;&gt;impares -->\n",
              "<g id=\"edge5\" class=\"edge\">\n",
              "<title>[7]: Filtrar pares e impares&#45;&gt;impares</title>\n",
              "<path fill=\"none\" stroke=\"#000000\" d=\"M126.0574,-115.237C136.6272,-104.1154 150.5567,-89.4587 163.3344,-76.0139\"/>\n",
              "<polygon fill=\"#000000\" stroke=\"#000000\" points=\"165.9339,-78.3592 170.2859,-68.6995 160.8599,-73.537 165.9339,-78.3592\"/>\n",
              "</g>\n",
              "</g>\n",
              "</svg>\n"
            ],
            "text/plain": [
              "<IPython.core.display.HTML object>"
            ]
          },
          "metadata": {
            "tags": []
          }
        },
        {
          "output_type": "display_data",
          "data": {
            "application/javascript": [
              "\n",
              "        if (typeof window.interactive_beam_jquery == 'undefined') {\n",
              "          var jqueryScript = document.createElement('script');\n",
              "          jqueryScript.src = 'https://code.jquery.com/jquery-3.4.1.slim.min.js';\n",
              "          jqueryScript.type = 'text/javascript';\n",
              "          jqueryScript.onload = function() {\n",
              "            var datatableScript = document.createElement('script');\n",
              "            datatableScript.src = 'https://cdn.datatables.net/1.10.20/js/jquery.dataTables.min.js';\n",
              "            datatableScript.type = 'text/javascript';\n",
              "            datatableScript.onload = function() {\n",
              "              window.interactive_beam_jquery = jQuery.noConflict(true);\n",
              "              window.interactive_beam_jquery(document).ready(function($){\n",
              "                \n",
              "            $(\"#progress_indicator_b333ade265a9d72e11ad1a1c65a394e3\").remove();\n",
              "              });\n",
              "            }\n",
              "            document.head.appendChild(datatableScript);\n",
              "          };\n",
              "          document.head.appendChild(jqueryScript);\n",
              "        } else {\n",
              "          window.interactive_beam_jquery(document).ready(function($){\n",
              "            \n",
              "            $(\"#progress_indicator_b333ade265a9d72e11ad1a1c65a394e3\").remove();\n",
              "          });\n",
              "        }"
            ]
          },
          "metadata": {
            "tags": []
          }
        }
      ]
    },
    {
      "cell_type": "markdown",
      "metadata": {
        "id": "lROM13dz43eJ"
      },
      "source": [
        "## Outros"
      ]
    },
    {
      "cell_type": "markdown",
      "metadata": {
        "id": "hAyHXIGuzSV0"
      },
      "source": [
        "### Flatten: Combina muitos-para-um"
      ]
    },
    {
      "cell_type": "markdown",
      "metadata": {
        "id": "VHlm5pDyJTwr"
      },
      "source": [
        "Dados multiplas PCollection de entrada, o `beam.Flatten` junta os PCollection do mesmo tipo em um PCollection de saída único."
      ]
    },
    {
      "cell_type": "markdown",
      "metadata": {
        "id": "vdfqk81L4eNb"
      },
      "source": [
        "![image.png](data:image/png;base64,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)"
      ]
    },
    {
      "cell_type": "markdown",
      "metadata": {
        "id": "MwV7j3aO51KU"
      },
      "source": [
        "> ℹ️ Exemplo: vamos pegar os PCollections par e impar resultante do exemplo anterior e combinar eles para o resultado original (todos = todos_flatten)"
      ]
    },
    {
      "cell_type": "code",
      "metadata": {
        "id": "YOxtgxgTzVh4"
      },
      "source": [
        "todos_flatten = (pares, impares) | beam.Flatten()"
      ],
      "execution_count": null,
      "outputs": []
    },
    {
      "cell_type": "code",
      "metadata": {
        "colab": {
          "base_uri": "https://localhost:8080/",
          "height": 598
        },
        "id": "_8LFF6vyKraC",
        "outputId": "7b3eb118-7cba-4c77-e55e-195b237ec1af"
      },
      "source": [
        "ib.show(todos_flatten)"
      ],
      "execution_count": null,
      "outputs": [
        {
          "output_type": "display_data",
          "data": {
            "text/html": [
              "\n",
              "            <link rel=\"stylesheet\" href=\"https://stackpath.bootstrapcdn.com/bootstrap/4.4.1/css/bootstrap.min.css\" integrity=\"sha384-Vkoo8x4CGsO3+Hhxv8T/Q5PaXtkKtu6ug5TOeNV6gBiFeWPGFN9MuhOf23Q9Ifjh\" crossorigin=\"anonymous\">\n",
              "            <div id=\"progress_indicator_72dee2343bb98553d7abafe3b9fcd66f\" class=\"spinner-border text-info\" role=\"status\">\n",
              "            </div>"
            ],
            "text/plain": [
              "<IPython.core.display.HTML object>"
            ]
          },
          "metadata": {
            "tags": []
          }
        },
        {
          "output_type": "stream",
          "text": [
            "WARNING:apache_beam.options.pipeline_options:Discarding unparseable args: ['-f', '/root/.local/share/jupyter/runtime/kernel-a874adbe-e1bf-432a-b0fd-ce5d2ee2f104.json']\n"
          ],
          "name": "stderr"
        },
        {
          "output_type": "display_data",
          "data": {
            "text/html": [
              "\n",
              "            <style>\n",
              "            .p-Widget.jp-OutputPrompt.jp-OutputArea-prompt:empty {\n",
              "              padding: 0;\n",
              "              border: 0;\n",
              "            }\n",
              "            .p-Widget.jp-RenderedJavaScript.jp-mod-trusted.jp-OutputArea-output:empty {\n",
              "              padding: 0;\n",
              "              border: 0;\n",
              "            }\n",
              "            </style>\n",
              "            <link rel=\"stylesheet\" href=\"https://cdn.datatables.net/1.10.20/css/jquery.dataTables.min.css\">\n",
              "            <table id=\"table_df_1f0b2152d75f448b960af66582b566d4\" class=\"display\" style=\"display:block\"></table>\n",
              "            <script>\n",
              "              \n",
              "        if (typeof window.interactive_beam_jquery == 'undefined') {\n",
              "          var jqueryScript = document.createElement('script');\n",
              "          jqueryScript.src = 'https://code.jquery.com/jquery-3.4.1.slim.min.js';\n",
              "          jqueryScript.type = 'text/javascript';\n",
              "          jqueryScript.onload = function() {\n",
              "            var datatableScript = document.createElement('script');\n",
              "            datatableScript.src = 'https://cdn.datatables.net/1.10.20/js/jquery.dataTables.min.js';\n",
              "            datatableScript.type = 'text/javascript';\n",
              "            datatableScript.onload = function() {\n",
              "              window.interactive_beam_jquery = jQuery.noConflict(true);\n",
              "              window.interactive_beam_jquery(document).ready(function($){\n",
              "                \n",
              "            var dt;\n",
              "            if ($.fn.dataTable.isDataTable(\"#table_df_1f0b2152d75f448b960af66582b566d4\")) {\n",
              "              dt = $(\"#table_df_1f0b2152d75f448b960af66582b566d4\").dataTable();\n",
              "            } else if ($(\"#table_df_1f0b2152d75f448b960af66582b566d4_wrapper\").length == 0) {\n",
              "              dt = $(\"#table_df_1f0b2152d75f448b960af66582b566d4\").dataTable({\n",
              "                \n",
              "            bAutoWidth: false,\n",
              "            columns: [{'title': ''}, {'title': 'todos_flatten.0'}],\n",
              "            destroy: true,\n",
              "            responsive: true,\n",
              "            columnDefs: [\n",
              "              {\n",
              "                targets: \"_all\",\n",
              "                className: \"dt-left\"\n",
              "              },\n",
              "              {\n",
              "                \"targets\": 0,\n",
              "                \"width\": \"10px\",\n",
              "                \"title\": \"\"\n",
              "              }\n",
              "            ]\n",
              "              });\n",
              "            } else {\n",
              "              return;\n",
              "            }\n",
              "            dt.api()\n",
              "              .clear()\n",
              "              .rows.add([{1: '2', 0: 0}, {1: '4', 0: 1}, {1: '6', 0: 2}, {1: '8', 0: 3}, {1: '1', 0: 4}, {1: '3', 0: 5}, {1: '5', 0: 6}, {1: '7', 0: 7}, {1: '9', 0: 8}])\n",
              "              .draw('full-hold');\n",
              "              });\n",
              "            }\n",
              "            document.head.appendChild(datatableScript);\n",
              "          };\n",
              "          document.head.appendChild(jqueryScript);\n",
              "        } else {\n",
              "          window.interactive_beam_jquery(document).ready(function($){\n",
              "            \n",
              "            var dt;\n",
              "            if ($.fn.dataTable.isDataTable(\"#table_df_1f0b2152d75f448b960af66582b566d4\")) {\n",
              "              dt = $(\"#table_df_1f0b2152d75f448b960af66582b566d4\").dataTable();\n",
              "            } else if ($(\"#table_df_1f0b2152d75f448b960af66582b566d4_wrapper\").length == 0) {\n",
              "              dt = $(\"#table_df_1f0b2152d75f448b960af66582b566d4\").dataTable({\n",
              "                \n",
              "            bAutoWidth: false,\n",
              "            columns: [{'title': ''}, {'title': 'todos_flatten.0'}],\n",
              "            destroy: true,\n",
              "            responsive: true,\n",
              "            columnDefs: [\n",
              "              {\n",
              "                targets: \"_all\",\n",
              "                className: \"dt-left\"\n",
              "              },\n",
              "              {\n",
              "                \"targets\": 0,\n",
              "                \"width\": \"10px\",\n",
              "                \"title\": \"\"\n",
              "              }\n",
              "            ]\n",
              "              });\n",
              "            } else {\n",
              "              return;\n",
              "            }\n",
              "            dt.api()\n",
              "              .clear()\n",
              "              .rows.add([{1: '2', 0: 0}, {1: '4', 0: 1}, {1: '6', 0: 2}, {1: '8', 0: 3}, {1: '1', 0: 4}, {1: '3', 0: 5}, {1: '5', 0: 6}, {1: '7', 0: 7}, {1: '9', 0: 8}])\n",
              "              .draw('full-hold');\n",
              "          });\n",
              "        }\n",
              "            </script>"
            ],
            "text/plain": [
              "<IPython.core.display.HTML object>"
            ]
          },
          "metadata": {
            "tags": []
          }
        },
        {
          "output_type": "display_data",
          "data": {
            "application/javascript": [
              "\n",
              "        if (typeof window.interactive_beam_jquery == 'undefined') {\n",
              "          var jqueryScript = document.createElement('script');\n",
              "          jqueryScript.src = 'https://code.jquery.com/jquery-3.4.1.slim.min.js';\n",
              "          jqueryScript.type = 'text/javascript';\n",
              "          jqueryScript.onload = function() {\n",
              "            var datatableScript = document.createElement('script');\n",
              "            datatableScript.src = 'https://cdn.datatables.net/1.10.20/js/jquery.dataTables.min.js';\n",
              "            datatableScript.type = 'text/javascript';\n",
              "            datatableScript.onload = function() {\n",
              "              window.interactive_beam_jquery = jQuery.noConflict(true);\n",
              "              window.interactive_beam_jquery(document).ready(function($){\n",
              "                \n",
              "            $(\"#progress_indicator_72dee2343bb98553d7abafe3b9fcd66f\").remove();\n",
              "              });\n",
              "            }\n",
              "            document.head.appendChild(datatableScript);\n",
              "          };\n",
              "          document.head.appendChild(jqueryScript);\n",
              "        } else {\n",
              "          window.interactive_beam_jquery(document).ready(function($){\n",
              "            \n",
              "            $(\"#progress_indicator_72dee2343bb98553d7abafe3b9fcd66f\").remove();\n",
              "          });\n",
              "        }"
            ]
          },
          "metadata": {
            "tags": []
          }
        }
      ]
    },
    {
      "cell_type": "code",
      "metadata": {
        "colab": {
          "base_uri": "https://localhost:8080/",
          "height": 724
        },
        "id": "-Y6Y4aLqKmiW",
        "outputId": "bf807e6b-8c5b-42c0-f765-6d21253d6523"
      },
      "source": [
        "ib.show_graph(pipeline)"
      ],
      "execution_count": null,
      "outputs": [
        {
          "output_type": "display_data",
          "data": {
            "text/html": [
              "\n",
              "            <link rel=\"stylesheet\" href=\"https://stackpath.bootstrapcdn.com/bootstrap/4.4.1/css/bootstrap.min.css\" integrity=\"sha384-Vkoo8x4CGsO3+Hhxv8T/Q5PaXtkKtu6ug5TOeNV6gBiFeWPGFN9MuhOf23Q9Ifjh\" crossorigin=\"anonymous\">\n",
              "            <div id=\"progress_indicator_d7e1521c9ccd2464c8f6575e375fb29e\" class=\"spinner-border text-info\" role=\"status\">\n",
              "            </div>"
            ],
            "text/plain": [
              "<IPython.core.display.HTML object>"
            ]
          },
          "metadata": {
            "tags": []
          }
        },
        {
          "output_type": "display_data",
          "data": {
            "text/html": [
              "<?xml version=\"1.0\" encoding=\"UTF-8\" standalone=\"no\"?>\n",
              "<!DOCTYPE svg PUBLIC \"-//W3C//DTD SVG 1.1//EN\"\n",
              " \"http://www.w3.org/Graphics/SVG/1.1/DTD/svg11.dtd\">\n",
              "<!-- Generated by graphviz version 2.40.1 (20161225.0304)\n",
              " -->\n",
              "<!-- Title: G Pages: 1 -->\n",
              "<svg width=\"246pt\" height=\"530pt\"\n",
              " viewBox=\"0.00 0.00 245.54 529.58\" xmlns=\"http://www.w3.org/2000/svg\" xmlns:xlink=\"http://www.w3.org/1999/xlink\">\n",
              "<g id=\"graph0\" class=\"graph\" transform=\"scale(1 1) rotate(0) translate(4 525.5825)\">\n",
              "<title>G</title>\n",
              "<polygon fill=\"#ffffff\" stroke=\"transparent\" points=\"-4,4 -4,-525.5825 241.5438,-525.5825 241.5438,4 -4,4\"/>\n",
              "<!-- [10]: Dados Númericos -->\n",
              "<g id=\"node1\" class=\"node\">\n",
              "<title>[10]: Dados Númericos</title>\n",
              "<polygon fill=\"none\" stroke=\"#0000ff\" points=\"184.3973,-521.5825 33.3973,-521.5825 33.3973,-485.5825 184.3973,-485.5825 184.3973,-521.5825\"/>\n",
              "<text text-anchor=\"middle\" x=\"108.8973\" y=\"-499.8825\" font-family=\"Times,serif\" font-size=\"14.00\" fill=\"#0000ff\">[10]: Dados Númericos</text>\n",
              "</g>\n",
              "<!-- pcoll4570 -->\n",
              "<g id=\"node2\" class=\"node\">\n",
              "<title>pcoll4570</title>\n",
              "<ellipse fill=\"none\" stroke=\"#0000ff\" cx=\"108.8973\" cy=\"-431.5825\" rx=\"18\" ry=\"18\"/>\n",
              "</g>\n",
              "<!-- [10]: Dados Númericos&#45;&gt;pcoll4570 -->\n",
              "<g id=\"edge1\" class=\"edge\">\n",
              "<title>[10]: Dados Númericos&#45;&gt;pcoll4570</title>\n",
              "<path fill=\"none\" stroke=\"#000000\" d=\"M108.8973,-485.4138C108.8973,-477.7134 108.8973,-468.5568 108.8973,-459.9991\"/>\n",
              "<polygon fill=\"#000000\" stroke=\"#000000\" points=\"112.3974,-459.9957 108.8973,-449.9957 105.3974,-459.9958 112.3974,-459.9957\"/>\n",
              "</g>\n",
              "<!-- [10]: Filtrar pares e impares -->\n",
              "<g id=\"node3\" class=\"node\">\n",
              "<title>[10]: Filtrar pares e impares</title>\n",
              "<polygon fill=\"none\" stroke=\"#0000ff\" points=\"195.3973,-377.5825 22.3973,-377.5825 22.3973,-341.5825 195.3973,-341.5825 195.3973,-377.5825\"/>\n",
              "<text text-anchor=\"middle\" x=\"108.8973\" y=\"-355.8825\" font-family=\"Times,serif\" font-size=\"14.00\" fill=\"#0000ff\">[10]: Filtrar pares e impares</text>\n",
              "</g>\n",
              "<!-- pcoll4570&#45;&gt;[10]: Filtrar pares e impares -->\n",
              "<g id=\"edge2\" class=\"edge\">\n",
              "<title>pcoll4570&#45;&gt;[10]: Filtrar pares e impares</title>\n",
              "<path fill=\"none\" stroke=\"#000000\" d=\"M108.8973,-413.4138C108.8973,-405.7134 108.8973,-396.5568 108.8973,-387.9991\"/>\n",
              "<polygon fill=\"#000000\" stroke=\"#000000\" points=\"112.3974,-387.9957 108.8973,-377.9957 105.3974,-387.9958 112.3974,-387.9957\"/>\n",
              "</g>\n",
              "<!-- pares -->\n",
              "<g id=\"node4\" class=\"node\">\n",
              "<title>pares</title>\n",
              "<ellipse fill=\"none\" stroke=\"#0000ff\" cx=\"29.8973\" cy=\"-265.936\" rx=\"29.795\" ry=\"29.795\"/>\n",
              "<text text-anchor=\"middle\" x=\"29.8973\" y=\"-262.236\" font-family=\"Times,serif\" font-size=\"14.00\" fill=\"#0000ff\">pares</text>\n",
              "</g>\n",
              "<!-- [10]: Filtrar pares e impares&#45;&gt;pares -->\n",
              "<g id=\"edge3\" class=\"edge\">\n",
              "<title>[10]: Filtrar pares e impares&#45;&gt;pares</title>\n",
              "<path fill=\"none\" stroke=\"#000000\" d=\"M93.6654,-341.5265C82.997,-328.8802 68.4725,-311.6629 55.98,-296.8543\"/>\n",
              "<polygon fill=\"#000000\" stroke=\"#000000\" points=\"58.4094,-294.3061 49.2861,-288.9194 53.059,-298.8198 58.4094,-294.3061\"/>\n",
              "</g>\n",
              "<!-- todos -->\n",
              "<g id=\"node5\" class=\"node\">\n",
              "<title>todos</title>\n",
              "<ellipse fill=\"none\" stroke=\"#0000ff\" cx=\"108.8973\" cy=\"-265.936\" rx=\"31.3957\" ry=\"31.3957\"/>\n",
              "<text text-anchor=\"middle\" x=\"108.8973\" y=\"-262.236\" font-family=\"Times,serif\" font-size=\"14.00\" fill=\"#0000ff\">todos</text>\n",
              "</g>\n",
              "<!-- [10]: Filtrar pares e impares&#45;&gt;todos -->\n",
              "<g id=\"edge5\" class=\"edge\">\n",
              "<title>[10]: Filtrar pares e impares&#45;&gt;todos</title>\n",
              "<path fill=\"none\" stroke=\"#000000\" d=\"M108.8973,-341.5265C108.8973,-331.825 108.8973,-319.4335 108.8973,-307.503\"/>\n",
              "<polygon fill=\"#000000\" stroke=\"#000000\" points=\"112.3974,-307.2165 108.8973,-297.2165 105.3974,-307.2166 112.3974,-307.2165\"/>\n",
              "</g>\n",
              "<!-- impares -->\n",
              "<g id=\"node6\" class=\"node\">\n",
              "<title>impares</title>\n",
              "<ellipse fill=\"none\" stroke=\"#0000ff\" cx=\"197.8973\" cy=\"-265.936\" rx=\"39.7935\" ry=\"39.7935\"/>\n",
              "<text text-anchor=\"middle\" x=\"197.8973\" y=\"-262.236\" font-family=\"Times,serif\" font-size=\"14.00\" fill=\"#0000ff\">impares</text>\n",
              "</g>\n",
              "<!-- [10]: Filtrar pares e impares&#45;&gt;impares -->\n",
              "<g id=\"edge6\" class=\"edge\">\n",
              "<title>[10]: Filtrar pares e impares&#45;&gt;impares</title>\n",
              "<path fill=\"none\" stroke=\"#000000\" d=\"M126.0574,-341.5265C136.6272,-330.4049 150.5567,-315.7482 163.3344,-302.3034\"/>\n",
              "<polygon fill=\"#000000\" stroke=\"#000000\" points=\"165.9339,-304.6488 170.2859,-294.989 160.8599,-299.8265 165.9339,-304.6488\"/>\n",
              "</g>\n",
              "<!-- [12]: Flatten -->\n",
              "<g id=\"node7\" class=\"node\">\n",
              "<title>[12]: Flatten</title>\n",
              "<polygon fill=\"none\" stroke=\"#0000ff\" points=\"157.3973,-190.2895 70.3973,-190.2895 70.3973,-154.2895 157.3973,-154.2895 157.3973,-190.2895\"/>\n",
              "<text text-anchor=\"middle\" x=\"113.8973\" y=\"-168.5895\" font-family=\"Times,serif\" font-size=\"14.00\" fill=\"#0000ff\">[12]: Flatten</text>\n",
              "</g>\n",
              "<!-- pares&#45;&gt;[12]: Flatten -->\n",
              "<g id=\"edge4\" class=\"edge\">\n",
              "<title>pares&#45;&gt;[12]: Flatten</title>\n",
              "<path fill=\"none\" stroke=\"#000000\" d=\"M50.2314,-243.2668C62.5218,-229.5649 78.2208,-212.0631 90.9542,-197.8675\"/>\n",
              "<polygon fill=\"#000000\" stroke=\"#000000\" points=\"93.6108,-200.1474 97.6826,-190.3663 88.3999,-195.4733 93.6108,-200.1474\"/>\n",
              "</g>\n",
              "<!-- impares&#45;&gt;[12]: Flatten -->\n",
              "<g id=\"edge7\" class=\"edge\">\n",
              "<title>impares&#45;&gt;[12]: Flatten</title>\n",
              "<path fill=\"none\" stroke=\"#000000\" d=\"M171.3192,-236.3057C160.2004,-223.9099 147.407,-209.6474 136.722,-197.7353\"/>\n",
              "<polygon fill=\"#000000\" stroke=\"#000000\" points=\"139.3264,-195.3971 130.0437,-190.2901 134.1155,-200.0712 139.3264,-195.3971\"/>\n",
              "</g>\n",
              "<!-- todos_flatten -->\n",
              "<g id=\"node8\" class=\"node\">\n",
              "<title>todos_flatten</title>\n",
              "<ellipse fill=\"none\" stroke=\"#0000ff\" cx=\"113.8973\" cy=\"-59.1448\" rx=\"59.2899\" ry=\"59.2899\"/>\n",
              "<text text-anchor=\"middle\" x=\"113.8973\" y=\"-55.4448\" font-family=\"Times,serif\" font-size=\"14.00\" fill=\"#0000ff\">todos_flatten</text>\n",
              "</g>\n",
              "<!-- [12]: Flatten&#45;&gt;todos_flatten -->\n",
              "<g id=\"edge8\" class=\"edge\">\n",
              "<title>[12]: Flatten&#45;&gt;todos_flatten</title>\n",
              "<path fill=\"none\" stroke=\"#000000\" d=\"M113.8973,-154.1108C113.8973,-146.8627 113.8973,-138.0224 113.8973,-128.6839\"/>\n",
              "<polygon fill=\"#000000\" stroke=\"#000000\" points=\"117.3974,-128.4069 113.8973,-118.4069 110.3974,-128.4069 117.3974,-128.4069\"/>\n",
              "</g>\n",
              "</g>\n",
              "</svg>\n"
            ],
            "text/plain": [
              "<IPython.core.display.HTML object>"
            ]
          },
          "metadata": {
            "tags": []
          }
        },
        {
          "output_type": "display_data",
          "data": {
            "application/javascript": [
              "\n",
              "        if (typeof window.interactive_beam_jquery == 'undefined') {\n",
              "          var jqueryScript = document.createElement('script');\n",
              "          jqueryScript.src = 'https://code.jquery.com/jquery-3.4.1.slim.min.js';\n",
              "          jqueryScript.type = 'text/javascript';\n",
              "          jqueryScript.onload = function() {\n",
              "            var datatableScript = document.createElement('script');\n",
              "            datatableScript.src = 'https://cdn.datatables.net/1.10.20/js/jquery.dataTables.min.js';\n",
              "            datatableScript.type = 'text/javascript';\n",
              "            datatableScript.onload = function() {\n",
              "              window.interactive_beam_jquery = jQuery.noConflict(true);\n",
              "              window.interactive_beam_jquery(document).ready(function($){\n",
              "                \n",
              "            $(\"#progress_indicator_d7e1521c9ccd2464c8f6575e375fb29e\").remove();\n",
              "              });\n",
              "            }\n",
              "            document.head.appendChild(datatableScript);\n",
              "          };\n",
              "          document.head.appendChild(jqueryScript);\n",
              "        } else {\n",
              "          window.interactive_beam_jquery(document).ready(function($){\n",
              "            \n",
              "            $(\"#progress_indicator_d7e1521c9ccd2464c8f6575e375fb29e\").remove();\n",
              "          });\n",
              "        }"
            ]
          },
          "metadata": {
            "tags": []
          }
        }
      ]
    },
    {
      "cell_type": "markdown",
      "metadata": {
        "id": "4BzWwBoXzLVE"
      },
      "source": [
        "## Agregação"
      ]
    },
    {
      "cell_type": "markdown",
      "metadata": {
        "id": "JD4BUx4Y2Xed"
      },
      "source": [
        "- Os itens podem ou não ser agrupados por uma chave(key) e depois combinados\n",
        "\n",
        "Temos o GroupByKey, CoGroupByKey, CombineGlobally, CombinePerKey, Count, Top, Max, Sum, etc"
      ]
    },
    {
      "cell_type": "markdown",
      "metadata": {
        "id": "Vh6geqGv2TgM"
      },
      "source": [
        "![image.png](data:image/png;base64,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)"
      ]
    },
    {
      "cell_type": "markdown",
      "metadata": {
        "id": "pNut9TrCrvLw"
      },
      "source": [
        "### GroupByKey: Agrupa dados por uma chave semelhante aos elementos"
      ]
    },
    {
      "cell_type": "markdown",
      "metadata": {
        "id": "rrB5TC6rNbdd"
      },
      "source": [
        "Útil para agrupar dados de um mesmo PCollection de entrada do tipo, pelo valor de suas chaves."
      ]
    },
    {
      "cell_type": "markdown",
      "metadata": {
        "id": "J9TnblCP7-DU"
      },
      "source": [
        "![image.png](data:image/png;base64,iVBORw0KGgoAAAANSUhEUgAAAJoAAAEeCAYAAAByqQxtAAAgAElEQVR4Ae19D3RVxbV3V/uW+llUhMjfQAJEGpVW0AARokaMGhUtKkJAwPskQoAQAkQIEOQKQQKNLwEjRhMwaCxBkcYSJGJs0FjjJ7XxiW9RX5Yv1j4/vqqtdPl8Wq1vv/WbZM7dOTk3uffm3H85+641a86/mdn7N7/Zs2fO3DM/+IH8BAFBQBAQBAQBQUAQEAQEAUFAEBAEBAFBwIRAW1sbnTp1ihobG6m+vp6qqqqM4Ha7SYe8vDxyuVxGSEtLo9TU1E5h3LhxFB8fb3sYP358p3JQbnp6uiEL5MrPzzdkLSwsNHSAPg0NDUq/1tZWgr4mCOTUXwQAYlNTE9XW1lJ5ebkCHpWQkZGhKio5OVmRYMiQIQBbhbi4eBoZF09Tr05VYfZcF909pz1kZuVSzgNuFVauK6SinVW0taQ9PPFsPT1Z09glHH6jjX79ehu9cLz34ddNbVR7vLVLGSh39746QxbIpeVc8YCbXJnZhg4zZ89TeiVflaL0HD481tA9NjZW4ZGSkqLwmTdvHmVmZircKisrqa6ujpqbm51FzjNnzow+ceIEVVdXU0FBgWrNaNmJiYkUExNjkCZpUjLdmD6d5szPJIC+eUe5qpDK/Q2qwl5obFUkeLOVyMmh6Q/fKRyef+WUwqW8ul7htGlbmcJt1lwXTUtLpwlXJJEmJxoorDasORowLGdNTQ21tLQA/+j6ffrpp8/BIkEJtDBYIRBpYEwMgUR3zZ5HuWvctK20iir2N9BzL5+kl97+zNGkCVWDOfzmafrlSy0EUhY+UknZqwpoxl0ZiowX9O9PICKsI6xiUVGRckVgICKCgWgN6ObQQhISEmj0mAS67eczae3GItpZcZBqjrbQK7//QogUBRb46InP6NnDJ+hfymuUMbh5+gxlDWEFs7KylN8IfzhkxENhcK7j4uPplttm0AMbCmn303X08u/EMoXKOoWynLrf/onK9tZSzuoCuv6GdBqTkEC5ubnK/wsK6TCqw2hpzjwXPfVcA73xwXdiqaLAUtlNSli+zcWVNCUllZKSktSo2DbCYYideMk4OvLmn4RcDiSXN7LuP3qShg6LVe6TLWQbNHgIPdfQKiQTknXhQFl1I100SE052cI1ujwphV791y+7FOSN7XK970/BYCQ7euw4PbdnD9Gy1xZRbFwCLcxxy1yWwy0bpqSWPlBE48Yn09ad1fYSraqJqKL+NGXmuGlobDxNnJJGa7aU075ft4iV6+PEwwTx3kMnKLegVNV7UnIq7dh9kGre+o7Ai443NfZYNGTIw46nmhTpUOjAi4bQ1OumK5Y/vr+Jjr//tZAviskHF2nXvgbVe8GgoH6npKar+i17/mQnHgSdaJx0Fa9+TZsebyTXMjddmZxK553fn0bEJVDKtOk0NzOPCrZXqRZx7B2ZvI0k3xVdYMXzzapnmu3KpauuSafBQ2Op/4AYuuradFq0qoi27GmmPcfbLRevc34cVIvGC7I63vniaVr9SD3dt7qUbpudpfpzEBCtA2ScfpdLtZh1D1dSyd56qj5yUgYbNltBNGy4NsUVdYpMrqUFdPOMeTR+YooiU/8LY+iKyak0455sylxTRvm7GunRus+6WCyr+uXXwko0Lgg/BgHXlDZQ5voqmnGfm6bd5qIJyWk0cnQi/Z9z+ylrOOYn45Spvn2mixblumnFumJlFUFIdM1YXeFU6wgrBP0xrQACobfIXlNEC7MLCHhNTkmj+DGJdO65/ajf+f1p1MXjKGlqOt0wI5Puur9Q4b7+saaACMXrkR9HJNG4gFbHaFGb97bQyh11dG9euSJj2l3ZlHKziy65IpUSLk2iwcPi6ayzz1FO6KAhsRQ3JlFZyaunTafb73apsGBRHmXlumlxrpse3F5JDz1SRVtKqql8f6MKcG69LQeC89ubLg4+qre8Kw42GzJsKq5Scm14uFzJmbXSTXMX5ho6TLk2XemF0T56AlQoGiP0H/vTZBo3MU3hcuOsXIXTfWsrVS9SuO8k7T76hd+Wyao+fLkWlUTzRTH9DHyH4ufbCMDC7GcXHlQtFtYSrRcWEwEkRZh8fQYlTkhVYVRiEsUMie8SBlzkWfPVAaAeVfkVW+WNa2MuSzZkmHLjPCXXtdMzDVnvzioydMjZVqv02lZ9Sump9Y60uM8TLdIAd6o8QjTTlIxTiRBsvYVoQrSQ+GlCNCGaEC3Y5lzy7/wmJ5h4iEUTiyYWLZgtTPIOnTUD1mLRxKKJRfPH6sTFxutW41eMdP6UE6pnh4+82C89OiyGSoO0oZLT13L6jEWDIn/Z87jfAel8BSuUzwWqDzCIRJ0gky2L0cKtXKAVE265vZE3UH2EaEH2hQKtGCFaaAYFwFksWpAbgTer1d31QBuOWLQgV2agFSMWTSyaX066EM0zEIrExgOZpOsMsrXtrov0di/QhiNdZ5ArM9CKicTWD/IFqo8jiTYofrQCDKD5EwbFj/Kr2+xNxQjR+oCPhkrc0HLA7xBI5SMNWrO/IZCyvHV3dl4PVB9HWjSAJUQLzGKEimhD4xL96m0glw5I62vj6khjy3igS6HIXIgW2UQLtI5Qr0grRPOxG/UHLF9BteM5yOWvG6Cf90cnPBuIMXAs0WL6DzBMOsDzNSCdHcQYHhfYaothcWMty79wwCCfdTDrirS+6iREC/J0iK8V4etzqDD6Y5bfAel8LSMYzwnRhGghIaAQTYgmRPMyRu0CTKCtJdzdSSBdFGSWrtP7CBv4eOGN35eFaOKjdeGAbrRCNJu6aLFo3q0ZyCZEE6LJPJo2u9EQi0ULo0XrN9B6EvWcc84hbIY6a9YswnGHWTXifgMv9NrXRyrphGhhJJo3UuQV7KBFixapsLW8PupIZaWXEC0CifaLfW8ZRFueu5aeev37qCebEC0Cibb3+Le0LCfPINu/7H9XiGbToMTK2nZ37YIBgw2Xhbsw/fv3pzvuuIMuu+wyOuussyyfQdru8ub3OvL2e87MKoHPhUKAzY/WGkRbs6nEr7RcgUg5jlaL5g2/h3YdMupn/cMVva6fsBGt4pW/0eLFWYYyuw9/0mtlvIEWiut9iWhwZXiPU1LzXq/rJmxEQ+WvKyw3iLaxuLrXyoSCUN7KGBhjPcLuANiy68G9AQNjIk7vR559x6gXu3zosBJt1wuthkJZS5ZR5atfRRzo3ojVl6/nby4z6gUujh262ka0H/3on6j82Jd+C7Uyf4uh1MNPHPM7vR0gSB6eEeMTL/+1k0vzRP3nva4T7IQzIMamjWHvynDR2J+l+E22HU+9YRBt+cp1fWKqI5qJW7j7iFEfa9w7bSHZiDHj6OVXm+A+2PMreKiIho1MIGyXg72EfAFcTXUsX2UoZ4fj6Uu58ozHinEs0Nj1ZHrxMyd8qkOeXh9jC6Vb5ubRz65MoeqaWvtIxqla9nglJaek0dARCYQ9iBZvrFZb5GghzDEfStvRisz5y7k1qcy4lBx43yDZsuWrCEbA/IzVObZBArGwz9S0GVk0YlQi3TnbRa+/0RwcgnGy4fjMmTOjXzhUS8tX5tPEq1Lpggtj6KcT0+jmOXm0xF1DmypOqI2vzH7B43WnfVLQSmm55huprHDCfJm2ZptKDljWATZ821jerPaighFJvDxF1WtKajo9sM5NR16qDw25zGQzn584cYK2/6KU5szPpCsmpagd2fqd159m3Hm3oeT9KzapjbS272/12+ezAlCu9Uy+ioYvCSN/TbS87YeUhbp1Xj5NTJ1Jo8aOV7vmYafAq65Oo/n/nEW7ysqppaUlMohlJpq387q6OkPJ+++/n66aOo2GxbZvhYhtAQcNi6dLr0hVu8/BB9T7SmJjWexaB1JiF7uedsJ1Gumw8zNwwe53wAlbT+p9UK+bkaVIBKuUPPUaA/9ZszNo0pRUZQzcW4roV7+qpZMnT0YXobwRDdfdbrehbENDQyfFWltbqbGxkZ55plpZxJyV+XT3HBdNnpJKP5uQrEg5oGO/SszZYL/KQUPbyYltEfU2iXrbRMRzc0qN7QjhR6IidNDbEqKSeLCbqHqbR14GjvW2j1oekEOHjGXFxpaKt99boHTDdotq+8fLU5TeMYM9Wz3CCqHRTpiYQlOvSVO4rVpTQI+UlFFNTY3Cdf369Qb2r732Wifsu6uzqLwHBbXpLigo6JWybW1tdOrUKQVifX097dlbRTsfLaf1BW7lS+Tlu2n2XJcCHVMz6bfNVKRNSk4lhBHxCTQ0Np6GDvcEWNaOiUdbY+wCzMtBuaPGJCo5IAsa0/QZGQQ50bjuWZBJkB8+EfR57PFK2vtUFaFxojGiUUJ/X0nw4YcfGrgvX77c53S+5h+Rz+Xm5hpKv/fee85QOsw1UV1dbWD+9NNPOwPzgwcPGkrv3LnTGUqHmWiwYrongXULszihKf7zzz8vysryrOr485///NfQlOzMUt54w/NmBj6yo1DYvXu30cIOHFCfR3KU/qFUtqioyMD62LFjziLa++97Zqjhs4USeCeV9cknnxgkW7ZsmTNxfvDBBw0QMJJyEgFCpSv3h8vLy52JMcilHVSQLlTgO6mcVas8ixnQizhJ90668qkORwPRCRV7Tt55x7OKdt26dc4lGeDEQEBbtbKyMmeDYQ+/jFwwdaSxPXz4sLOxxdSGBgMxpj4MpOQgYASAo8YVU0lnzpxJCzizvpIQlkyDAue1r+gVTj1gwTSmMineURMy1WE/JdeuXWsQDb6a/SVEaY54wa5bYJ9fWRDkOuINF6POIBcXXdljVYImmuNek9hcVZgv01iKK2IBLn/xi+U/Fo/IJR8Q4O+RT58+LTiaMdu/f7/REvEu1HxfzntGAO8ytTXbsWOHYGgFGVqfBgmtUqY6rFDq/hp/rffmm28K0bzBxScZDx06JEB5A8riOlbd6obqmFW0Fjj4dAkrbjVYMmLyCTLjoaqqKgM7rKg1bsiBNQJ4L6fJhkV71k/JVTMCWAakcfvoo48ENzNA5nPu0G7ZskUAMwNkcc7/9COYWQDk7RJvnfA9vD0n19sR2Lp1q2HNZG2fH6zg/9px7II9H/GSVbQ+AmX1GAdPVh9YIeS5xucfKyoqxPp7oPHtqKSkxOgOZKrDO2Z88egHH3wgRPMOlfWdd9991yBaXl6eAGgBEz6oo0eajl9Fa4GPz5f4VMdbb70lZDMhV1xcbBANn4Uw3ZZTXxHgUx0YWfmazgnPmVfROkHnoOrIpzoc83d+HxCF36q7Tfm/hQ+A9fQIPkqiAZVRlQct+K0aF/lYjgeXgI8+/vhjA1BMdQScUR9KyN8Jy0DJxorF2irdemtrg/QFaBvlDXZW/A89MvVjI9r8z7DSgn/wA76KVr7GZCPRkBX/Zw/mj2zOPmqywzSGtu6Y3ogawaNFUA4wPsUULXLbLSf/x5iTG5zduHbKj091OHHNFV4xaWsmn/vqRA17T/bs2WMAjWN7c4/83DC9o4mGl+mRL3GUSggrpoGGdYtSNQIWm1t0TPsEnJEk7BkB/qnMI0eOOAZs/j05eR3XM096/QRfseCkqQ4s0dbWXD4b0Wsa+ZYBf/3ihI+YON1l8I0VQXgKXaZu3U74RzZf2o6/1QUBUsnSGwJOcoz5Klr5s443RgTpOh/q9+VtZ/BpA2295aPSQSJTd9nyjbT68lQHX1DguA0puiNAKO/x/zP2xaXM5g/fhBJbKYshgP8R6G4FL93ZrT5xKBtSRFA19uWpDq6brKINM+mwEFJbNfwXNMzi2FY8X4PXF621bUCFMiO+EBD/cg9l2cEqi6+idfyGFMEC2d98+VRHX/g2GDag4I1Hvn7pLyOC9Dz/2mFfmOqQDSmCRBQ7suUvnaN9von/Q19W0drBDhvz4Fs6R/N3KGRDChtJEays+P6U+EhMsMoJZr7c35QNKYKJdC/y5p8JiNapDr5YoK+MoHtRpZGZ1Dxai7adQ/hWRU7+p1dkssskFd8LKdr+wIF9sPTks3yR3FSxkXbK/5IWTRs78NUo0SR3pNV/SOXhlgHdUUgLD7Aw/tWkvry+LkB4IjMZ/+4+/tkdmVJ2lorv7iffgeuMTUSf8eXPkb7ygc8Byn6lEU2rrsLxtVyRvq84/69qtHT1XRF36BW8iOYvpiN1qoPvqdAX3tM6km7YYFZPFxw4cCAifTXIpWXEWwFHVlS0K40ts3UlRurXd/hrM7znjHbMHSs/35U30jbk4p93iOaFAI4lF1ecfxwl0v4XyXdcllW0vNai9JhPdURK92TekALvaaMUXhFbI8Ad7kjZ/IGvoo0UmTReEgeIAL5crQcFiCPhS9b8489O+CJSgFUXfcn4v4rCvaBQNqSIPv74LDFfIh3uqQ6+lCncpPcZQHnQdwT4VEc4v5oYDW8sfEdVnuyCAJ/qCNfLa741pBM+ItilEpxygS/HwZuDUOvNrSq+fRbq8qW8ECHAN7vHu9AQFauK4X90DrefGEq9HVmW+ZtjofzcAL4/q6dZ+sKnGxxJIH+U5q9+Qjnq43+lc+IWQ/7UUZ94ls9jYfVEKJTiy8vx+YZQlCllRAACfJe4UPy1jX8GNdJWkURAdfRdEfifdYNtYfh23bKKNso51dbWRpiugLXAh5PheOuAOTMd8LnOBQtcNH+By3DM4aDfeNPNlHJNqgqXXjqORsbF04iR9oSb0m82ysrImGOUg/JuuDFdyQJ5Ftzrovz8fEPWwsJCQwfogsYB/TB6hb5RXmXhFx8gNjU1ET4bitc1IAkqYdasDLr6mlSaOCmZRo6Mp0GDhwBsFWJHxNPwEfE06apUmnhVKt1+t4tum9ke5tyXSwtz3CosWllIBdurVFiRt9EgwAPrt1BZdaMRXjjeRnaE519tpWXZOUY52x87YJSB8oor6gx5IJeWE/GsBdmGDrfeOU/pdcWkFKXnkGGxhu7DhseqhnHVlBSFz5y582jhwkyFW2VlJdXV1VFzc7OzyHnmzJnRWFmK4T38JBAI5Ll4bCINGBhjkGb8lcl0bdp0mpGRSZk5blqzpVxVyK59DaqinmtoVUR4s5Uo0PBS8ycGARYvzqJXfv/XgPPyJsOzh08YZeStLbA9/6Y/fKdw2P/yKYVLyd56hdPqTWUKNzS2lNR0Gnd5EmlyooFecuk4um5amsIflrOmpoZaWlqAf3T9Pv300+dgkaDE3HvmKSsEIiGARGih969wG+SpPnKSXnr7M9srwhsB9HX31hKDCI/uOWR7+Q9uKTbyf/LZetvz13r4Ex9+8zTt+3ULgZTrHq6k+5YVUPrtGYqM51/QX/UUsI73Lcwk/BUQrggMREQwEK0B3Rx8jVGjEyhuVALdcMtMWramiB4uO6gUO/bOFxEBNK+UA0ffNYiQs2IVNZ361jYZ69/+s5E3LOar7/7Ntry5DnYfo8HvPXSCNpfWKGMw7aYZNHRYrLKCixZlKb8xpK/vUNiq1XnKaU5Ln0FLVhcqnyMclilQsH/779/Tqrx1BiGeefEt28gAC6nfBGzZXmZbvoHq2tt0tU1/ou2P19LC7AK6+rp0ZVCW5+Qq/y8o1u7o0Xq6/oZ0umO2ix59uoHgJ/RWiXCmr/jlMYMQ6x7caosuIPCKlXlGvs+9/J4t+YYTJ3PZMCjoejH4Gj8hiV55xcYP6hx7pYESfjKOwG5zwdF6fvzkV7Rk6TKDFC++9mGvdQOxtDVbuXotgXjRio8vcsPHHjw0lsp2l9szoLho0BDCiM+XwqPpmeKypw1ibCup6LV+6Co10YIxyIhEbDFdA37Y1Y3S5Ukp9Oq/ftnryogksOp++7FBjN467nD6kYcm2rF3Pu9TWFnVG0ayY8aOU9NTthHtvtwiGhGXQDPnZ9Pj+5v6DIgbN+8wyFG2tzZgvTCNoUmG6Q2riukr1zBNck9mHk2YmEIbS2vtJVpVE1HFq1/TkoJKmjg1jUbEJ9BsVy5teqSa0FdHK4j7j7xjEASOfKBTHXwUiwnbaMXDLDcGfSAWBgB3zM2i+DGJNP0uFxXtbSZwAqHjTY0tRs3IVGe+++gXtGp7LWVk5tMVk1Op/4AYmjQ1jeZm5qm5GMzJROIcmhlIOOxw3LU18kYS3RVazYsd+s0HRvrsnNyAyWqWLdTnGFFWPN+sJtRhRMYnpah6Tb4mneYvddOaknoqP/ZlFy4ElWiacDrec/w72lRxghbmldKtMzOVTzfwoiF03vn96dKfJlHa9AxyLS1QSsCBxOAiUnw+3u1tcBd1sUZH/+9pqqxpUNdLnzjQ5T4GEpqoJeX7u9wPNWG8lYeGj9dWeKUHCzV/cT5dlz6Txl46ns79cT8aPCRW9Va3zc6ixevLafPeli6k0vXN45ASjRfMj9ECIPDywoM0f1kh3XD7PGUBh8XG01lnn6MUxPEVyamKjPAB9UtwvC7RpMTL7mDN3f3mvS87TXUcbvqoE1l2VR4kPYrElAi3auZpErxL9VbRdl8//v7Xnd556pf1eDl/x5wsRSJYJY41/Gz0QDAG9+YU0YpttVS476Ryi3i9+XMcEUTrSWAQcfv+Vsrf1UhZD1Yrizh7YT6l3+GiCZNT6acTkmlobDzBOnYopIDDtSsnp7aDdqeLbr3T1WkVRG5BqbKeWB0BPxKE1QGt2rxK46Eiz9REUekegyzw2fCa6he7qtQ1WC5u1fY+12hYM/PEr375bS4LPq2WBbFeWYJ4eX6xoQd6AOh108/bGydIA70xd6WxwDGu4d7EKWkKtzmLCmjR2jJa4q5RuBY/39YrIvVUh1FBtJ6UMN/HgATAbas+pUBc/Ug9LS6ooqz15ZSx2E3zlrhpwVI33TTDpUC/5U6Xatkg7ZXJqXTt9TdTwtjLFFnR0nUYMTLOIMzChQvp3HPPVZU5ZswYdX369OnqHETj92fOnGmku+SSSwwCaCLAddBl6BgONWRBgFxwKyAnGtctd2Uq+e9Z4lb6LNtYSfdvqKI1pQ1KXzRK6A9XxYxNuM77JNF6C+ZTr39PG7btoU0lB6jilb91qqzVG4oM0hTuPqLu5W1sX4mx4oEH1bn2xZC+rPYj4/msJctoT+M3nfLrrazRkl6I1jH8NlcYyLausJxADk644mc868iW5eTR7jrP2rWl2bmdiIa0G7Y/ZRAN3Z65HKecC9G8EA0E0GSDhdKEe/LYFwSCaauVv9njt+Ha3uPfGvdwvjhriXG+64VWdX/XwQ9oy2OHCWkfe/FjR5BPiNYN0cxk04Tj3ScnEu4/Uf+5QSyc67AsZxWhiwVh9bVHnn3HESQDjkK0HohmRTZNFKsY1srquvna1vJ6x5BMiOYDyQCSP2TjPpyZXPp8446nHUUyIZofRPOVbA8/2dCtRVuzqUT5fprATonD2nWOGDFG991+xbEjxoTNIvABgrZQPH5ol2eZNr+OY0x/yPRG79+r+135YPlf9jzud0C6cFqC7siGKQwzwXCOkSoGCuGUO5xlh9WiRSvRUGHeyKYnbznZlixdTo8e+tCxJANeISXa0LhEXaARR6NF05bBimzoHjnJcOykaQyNjTkOKdHMFsx87ivpkM6sSLjOzWTD2wFONKdNY3irByGanyNPKyDNZNNEc+I0hhU+uCZEs4FoANJMNqdOYwjRbCKUNyA52ZavzI+KaYxRo4ZrS+NXPGb0EL9dF7FoARBwSNzFXivmhz/8IQ0ePNjrfQyIuiNrKO+h8umPWX4HpPNXTiFaAEQDaBtaDgQUAqkkfyvV1+chixCtm4nccFeWEE0smt8m3dfWz58TognRgka0i+LjO/ld0nW2r2rhDbC7YzTO3r/lbM+hx0pGYXxS1nzO73V3jHTdKRWMeyhTk4sf62u+xuGQ3RsekEV8tAjz0Ti5+LGvBNPPCdF6b9d6tDIAmVuqQRec36k7wn1fQv8Bg3ssy1srDvQ65OJk0cf+xsgnUBnsTgdZHGHROOl6Og53BQnRPPNtgdQF0vTelgXoo/VELn4/EOXstABCtCgiWv8Bg3zqGjvY3+nZcHSXnKhCtCgiGq+4aDsWognRQuJcC9GEaEK0AN7Xoke5KOaCTu6JlctidW3QRef5jXlHPraMB/wuPJq6z75o0UKJvxDNR2vAidZvYP+ALAHyuGCA/2u5QkmIYJUlRAuAaP5M0gLgYFVeNOUrRBOihaQhCNF8JFq/gRcG1F2eNzAmJBUZ6dZNiOYj0SK9IiNdPiGaEC0kFleIJkQTokV6dyDy+b7KViyaWDSxaGIxfLcYkY6VbRbtRz/6J8vNpiIdAJEv+GTe+eJpvatN79913jPfRZeMTxGySVfcqSsGyUZdPI5ef70J85D2/LZtK6K4UQl025xsWv9YU6cCxXIE33JEEsZb97XQnIV5NCk5hWpr1caw9pCM51JZWUnXTUujkfEJdPe9ubRiS7XaHS2SgBBZ7CM+9pzC7oTYk2rGnCwanZBIC+51UXNzs31WjBPMfHzmzJnRYHN+fj5dc20qDRgYQ5OnptFMVx7lFNaovTuxeaxUun2VHmwsH637jDaWN9PSB6vozvm5aitr1OuNN6WT2+2m+vr60JDLTDbz+YkTJ6i0tJQyMzNp6tQUGjR4CJ1/QX+67GdJdP2tGZRxfwEt2Vhl7NJmtZttsMF0cv5o+NgVEDvlLd5QSbPua98YNvGy8fTjH/ejYcNj6frr0ygrK4vKy8uppaUlMohlJpq3cwh88OBBKiwspHnz5tG116bSyLh4Ovuc9o1hh4+IV1sKpt2aQbfPyaZ7lhYqQmKLROzjGYlbB0YCYc1bSq7cUaesEbaTvHVWx8awE1MI+J599jmKTKPHJCj8YQyKioqUj3Xy5MnoIpQ3ovV0vbW1lRobG6m6ulpZRHTHLpeLUlNTadLkZEVKWMeO+RqKHdG+z2ZSx36XN9/poht+7lJ7dc5Z7KZZi9z0z6tLKXtTFWWur6LFG6sVYUFaBLRq7HlpDnaTB/6NuQycY8dfLQtiyIgAeResKFbyz81yE+4jUKoAAAjMSURBVDZ4hV7YGBb7ek6Y2L6b8JBhno1hYYXQaKdMTaG0tDSFW0FBAZWVlVFNTY3Cta2tzRlE6olo/t4HcKdOnVIgwm+oqqpSph5+hA4gqg7YvBWkhS959TWphFaNyhkx0hPQdWgi2xnDdeDloNyxP0lUckAeyJWRkWHICkujdUCMwRf0a2hoUPqiUQpx/GWMPC8ICAKCgCAgCAgCgoAgIAgIAoKAICAICAKCgCAgCAgCgoAgIAgIAoKAICAICAKCgCAgCAgCgoAgIAgIAoKAICAICAKCgCAgCAgCgoAgIAgIAoKAICAICAKCgCAgCAgCgoAgIAgIAoKAICAICAKCgCAgCAgCgoAgIAgIAoKAICAICAKCgCAgCAgCgoAg4AWB1v//PRUf+YZc5f9N07b+lwrzd/83bfnVN/T2h//os99P3f/mt7Sy+mvLsHb/17Tr5b9T4799Z4v+wJiXhXNzdXz65f/8Lu+XneX54+ddnzOni4rzit/83SCXJpk5fvjFb7qAEhXK9SDk9sPf9Kg7sJi96ys6+XHvGty7H/2jU1k4N4uXXeVp6Ch33+vfdnnGnCYqzvce70oygDq37KtOoEDpkqN9j2y+Eg363/qLr+gvX9GiQCu2J6LBeqIcHdYf+LpvkAym+4ZtHsXQbf7Hpx4zDVBznv7aUBwA9Bkz3sEWTjQ0sNNn/scIwIffh/69sTDdEa3h5HedcEZdBEroiEsHn0y3HhDuP//qIZkWFmRL3+4hIwcaXcnL732ngvY3nnvrW1U577R17haQT+3vvlVWEZUH3+gP/69reSj3tVPteSJvnS+XR5eJWF+H7Pr6Gx+0l93c+g/lY0FPlG1ljTiRYMV1fjy+/RGPdcfzuAf9dHlWPhzk1ve1nN6IhsYNa6nrAsfdNWg0BuAMvRBeePtbgm/HZYZMunwrH7sn+XlevT6eWepRrjszXf1GO3kA8uHfeyqXVxIGDXwgwQmJ9JysGlDE7he6dse82+b5QGFzZQF0XAeoOl9YJuSrz3UMwpj9LK6DN6JxeTTRoJPOF7G5kQJPfR/yWMkOXXCd44Y0aCC4bvV77JW/d+qFdBnAF+TTaTY+7yn/jpKuDQgy6bR4VqezPUbr1gUhhoXxtxBeSTwvHGuCWPmA5mfRPfOyecXqfPR9X4hmzp+fg2zcsnEdrIhmLg9dHGQBwXm+sCpaRsS8YYEcuGbOC+dooDwfs748T94D8TT8WFtPWHV+nTcw9CT8ntaJl2XbMUw7L0wL6E8BvJKQF7pfjJowhEd+aOXcB8Sw/d/+83vlBwJ8Xj6vKDuIhrJQkeiWzGWB/FpPrgO6LJzrgDzM8ut0iLn/imf1PVgkrpvu/s1E42XjeUyn6DzMsVVa6AbScOvJrRfvjrnOILOWD8+Yy7L13Cy4mWgabHPMLR8HCpaCDyQgLLdmHACtCAdoUaXH+bWDaLoMHYP8GtyFT3rK4jro+1bxkr2eNDpPNA79LCyYvo7Rub6OuUh93Yy5fkbH3Q0AML2kn+Py67w5qbRPxnXjaaCLzivo01Zmpc1E04KYY1SYVo4rwq/r+7xy0UXo6zo2j7T09WAQDYMBrosui+sA64WydeB+DNKCNGanm1s8DGKQL0/HLYkZcy6PPi5v8FhbLSNijgmwRF48QDadh/bV4PDra4jR3ZtdJj1w4mXZeoxujQvBnXytmAac+xucULyS+HUtKAeHA67vm4HXjj1PZ/ZZvKVBQ+H66DJ0bL6v/TSuA8rVz+sYXROssc7b7Dijy9T3kJfZJeGDBLPsSIcBGScJiAv3QpevY12GLzHHjMuOOn7pXQ9OVr2MLs/WmLdG7bBaFcAtEycUryR+XefRHWHwjBn4UBJNy8h1sCIanoOV0RUMzHRaxJzAIA0fjXJ3AM+a9UV3ByLDUdf5I7bqQvn9no450bh/Ch+Qj0YxuOC6BO2Yv+7wBjIKD5RovLVbdZ28dQE8rWh3BDVXliYnr3Cel84T3YmuIE4WX4jGnWervLnF53Nu3J+FHGbZ+fyb+a0AJwvS8qkofwjCSQw5uS9nnuvUWNkem/0WtEarQvjoilsuXkn8us6DDwZQAfq6jjkRubMNx1WTAmXo5xGbh+2+Eo3rwMviOnhrbLBMWh6rURq3Evo5xGZ/zkw0nHPduG+HxqBHq3iGzwuCdLhGph8nLs+XN1wtH8rizwT92DxZiJEgrANAgMUxg8gJxSuJX9dCm6c3YEEx9EfePC2UR5k6HQcVrRByIA18DN6ykc4b0UAmXZZ5/olbGi4HGgMsiQ7odrj/hPKsRmlm8uM589wgdIMOuKcDzrXOiM358K7XnBb1hsEUrkNPPYK3coF4g9dlWz3HZbH9GK86zJWnhTHHaGWcELySrIgGYVGp5nzM53wOygpw8/P83BvR+DP82Gy1uA78Oatj4GS2UrpCeJeEtOgt9D0dm8liJhqe440M+fAu1JdVNtra6TIRmwcoyJdP4PJng3oM8MwKmoGGI2keDfFK8kY0CI75JnNF6PyRh5VyZp8Fz8O6cV8L17wRjc876bJAMvM7RK6Dfs4cQ3ZYRT1StZKX58N9QP6sL0RDGdzPg85cZmDJ73NZ0WPwZ3nZvPuHleb3Qn4MwqGb0l0HfDbMDXkDGEoBPATuT3gTHD6Ezhstng/9rdKA2LCISINuU8uhy0Ss01kNBpAeOiC9N/+F68Dz1ce+6AUZuL9rttBaRsQ6Xy47v49js0xWOKFeNJYgH0av5nz4OW94VlNN/Fk57gYBK6J187jtt/hsO3cvbC8owAx5j+Jr4wmwqL6dLBxEg6VBudztQIVGCtLww9AT8EbAR9yRImdUyREOopnLhL8Ehz1SgON+o/bl9GuySJEx6uQwV3ooFDCXaTUpHQo5vJXBiYYBCnw6b8/KdT8QwAhUBz+SBfwoBicgG0JPznjAhfQiIXwxyIb5Nj0670V2klQQEAQEAUFAEBAEBAFBQBAQBAQBQUAQEAQEAUFAEBAEBAFBIBIQ+F/o2qBWEWRk4gAAAABJRU5ErkJggg==)"
      ]
    },
    {
      "cell_type": "markdown",
      "metadata": {
        "id": "l6OJKySF8DC2"
      },
      "source": [
        "> ℹ️ Exemplo: vamos pegar algumas pessoas e os esportes que elas gostam e agrupar esporte."
      ]
    },
    {
      "cell_type": "code",
      "metadata": {
        "id": "cGGOu7UmzX6Q"
      },
      "source": [
        "hobbies = [\n",
        "    ('⚽', 'Rafael'),\n",
        "    ('⚽', 'Fernando'),\n",
        "    ('🎾', 'Fernando'),\n",
        "    ('🥊', 'João'),\n",
        "    ('🏀', 'Rafael'),\n",
        "    ('🏐', 'Rafael'),\n",
        "    ('⚽', 'João'),\n",
        "    ('🎾', 'Luiz'),\n",
        "    ('🥊', 'Luiz'),\n",
        "]"
      ],
      "execution_count": null,
      "outputs": []
    },
    {
      "cell_type": "code",
      "metadata": {
        "id": "2SnEYcMdSkCb"
      },
      "source": [
        "hobbies = [\n",
        "    ('Rafael', '⚽'),\n",
        "    ('Fernando', '⚽'),\n",
        "    ('Fernando', '🎾'),\n",
        "    ('João', '🥊'),\n",
        "    ('Rafael', '🏀'),\n",
        "    ('Rafael', '🏐'),\n",
        "    ('João','⚽'),\n",
        "    ('Luiz', '🎾'),\n",
        "    ('Luiz', '🥊'),\n",
        "]"
      ],
      "execution_count": null,
      "outputs": []
    },
    {
      "cell_type": "code",
      "metadata": {
        "id": "DaLJedoePIgz"
      },
      "source": [
        "pipeline = beam.Pipeline(InteractiveRunner())"
      ],
      "execution_count": null,
      "outputs": []
    },
    {
      "cell_type": "code",
      "metadata": {
        "id": "LLV-wwFdPSzB"
      },
      "source": [
        "resultado = (\n",
        "    pipeline\n",
        "    | \"Cria os pares (nome, esporte)\" >> beam.Create(dados)\n",
        "    | \"Agrupa esportes por pessoa\" >> beam.GroupByKey()\n",
        ")"
      ],
      "execution_count": null,
      "outputs": []
    },
    {
      "cell_type": "code",
      "metadata": {
        "colab": {
          "base_uri": "https://localhost:8080/",
          "height": 391
        },
        "id": "X885jK2uP4P3",
        "outputId": "82c49268-66e1-42d9-f540-a14ca8438631"
      },
      "source": [
        "ib.show(resultado)"
      ],
      "execution_count": null,
      "outputs": [
        {
          "output_type": "display_data",
          "data": {
            "text/html": [
              "\n",
              "            <link rel=\"stylesheet\" href=\"https://stackpath.bootstrapcdn.com/bootstrap/4.4.1/css/bootstrap.min.css\" integrity=\"sha384-Vkoo8x4CGsO3+Hhxv8T/Q5PaXtkKtu6ug5TOeNV6gBiFeWPGFN9MuhOf23Q9Ifjh\" crossorigin=\"anonymous\">\n",
              "            <div id=\"progress_indicator_1bcf88d45713f3bff833263b0bf2f1cb\" class=\"spinner-border text-info\" role=\"status\">\n",
              "            </div>"
            ],
            "text/plain": [
              "<IPython.core.display.HTML object>"
            ]
          },
          "metadata": {
            "tags": []
          }
        },
        {
          "output_type": "display_data",
          "data": {
            "text/html": [
              "\n",
              "            <style>\n",
              "            .p-Widget.jp-OutputPrompt.jp-OutputArea-prompt:empty {\n",
              "              padding: 0;\n",
              "              border: 0;\n",
              "            }\n",
              "            .p-Widget.jp-RenderedJavaScript.jp-mod-trusted.jp-OutputArea-output:empty {\n",
              "              padding: 0;\n",
              "              border: 0;\n",
              "            }\n",
              "            </style>\n",
              "            <link rel=\"stylesheet\" href=\"https://cdn.datatables.net/1.10.20/css/jquery.dataTables.min.css\">\n",
              "            <table id=\"table_df_a92356f9a419c26e87cce8e2bee13dfa\" class=\"display\" style=\"display:block\"></table>\n",
              "            <script>\n",
              "              \n",
              "        if (typeof window.interactive_beam_jquery == 'undefined') {\n",
              "          var jqueryScript = document.createElement('script');\n",
              "          jqueryScript.src = 'https://code.jquery.com/jquery-3.4.1.slim.min.js';\n",
              "          jqueryScript.type = 'text/javascript';\n",
              "          jqueryScript.onload = function() {\n",
              "            var datatableScript = document.createElement('script');\n",
              "            datatableScript.src = 'https://cdn.datatables.net/1.10.20/js/jquery.dataTables.min.js';\n",
              "            datatableScript.type = 'text/javascript';\n",
              "            datatableScript.onload = function() {\n",
              "              window.interactive_beam_jquery = jQuery.noConflict(true);\n",
              "              window.interactive_beam_jquery(document).ready(function($){\n",
              "                \n",
              "            var dt;\n",
              "            if ($.fn.dataTable.isDataTable(\"#table_df_a92356f9a419c26e87cce8e2bee13dfa\")) {\n",
              "              dt = $(\"#table_df_a92356f9a419c26e87cce8e2bee13dfa\").dataTable();\n",
              "            } else if ($(\"#table_df_a92356f9a419c26e87cce8e2bee13dfa_wrapper\").length == 0) {\n",
              "              dt = $(\"#table_df_a92356f9a419c26e87cce8e2bee13dfa\").dataTable({\n",
              "                \n",
              "            bAutoWidth: false,\n",
              "            columns: [{'title': ''}, {'title': 'resultado.0'}, {'title': 'resultado.1'}],\n",
              "            destroy: true,\n",
              "            responsive: true,\n",
              "            columnDefs: [\n",
              "              {\n",
              "                targets: \"_all\",\n",
              "                className: \"dt-left\"\n",
              "              },\n",
              "              {\n",
              "                \"targets\": 0,\n",
              "                \"width\": \"10px\",\n",
              "                \"title\": \"\"\n",
              "              }\n",
              "            ]\n",
              "              });\n",
              "            } else {\n",
              "              return;\n",
              "            }\n",
              "            dt.api()\n",
              "              .clear()\n",
              "              .rows.add([{1: '⚽', 2: \"['Rafael', 'Fernando', 'João']\", 0: 0}, {1: '🎾', 2: \"['Fernando', 'Luiz']\", 0: 1}, {1: '🥊', 2: \"['João', 'Luiz']\", 0: 2}, {1: '🏀', 2: \"['Rafael']\", 0: 3}, {1: '🏐', 2: \"['Rafael']\", 0: 4}])\n",
              "              .draw('full-hold');\n",
              "              });\n",
              "            }\n",
              "            document.head.appendChild(datatableScript);\n",
              "          };\n",
              "          document.head.appendChild(jqueryScript);\n",
              "        } else {\n",
              "          window.interactive_beam_jquery(document).ready(function($){\n",
              "            \n",
              "            var dt;\n",
              "            if ($.fn.dataTable.isDataTable(\"#table_df_a92356f9a419c26e87cce8e2bee13dfa\")) {\n",
              "              dt = $(\"#table_df_a92356f9a419c26e87cce8e2bee13dfa\").dataTable();\n",
              "            } else if ($(\"#table_df_a92356f9a419c26e87cce8e2bee13dfa_wrapper\").length == 0) {\n",
              "              dt = $(\"#table_df_a92356f9a419c26e87cce8e2bee13dfa\").dataTable({\n",
              "                \n",
              "            bAutoWidth: false,\n",
              "            columns: [{'title': ''}, {'title': 'resultado.0'}, {'title': 'resultado.1'}],\n",
              "            destroy: true,\n",
              "            responsive: true,\n",
              "            columnDefs: [\n",
              "              {\n",
              "                targets: \"_all\",\n",
              "                className: \"dt-left\"\n",
              "              },\n",
              "              {\n",
              "                \"targets\": 0,\n",
              "                \"width\": \"10px\",\n",
              "                \"title\": \"\"\n",
              "              }\n",
              "            ]\n",
              "              });\n",
              "            } else {\n",
              "              return;\n",
              "            }\n",
              "            dt.api()\n",
              "              .clear()\n",
              "              .rows.add([{1: '⚽', 2: \"['Rafael', 'Fernando', 'João']\", 0: 0}, {1: '🎾', 2: \"['Fernando', 'Luiz']\", 0: 1}, {1: '🥊', 2: \"['João', 'Luiz']\", 0: 2}, {1: '🏀', 2: \"['Rafael']\", 0: 3}, {1: '🏐', 2: \"['Rafael']\", 0: 4}])\n",
              "              .draw('full-hold');\n",
              "          });\n",
              "        }\n",
              "            </script>"
            ],
            "text/plain": [
              "<IPython.core.display.HTML object>"
            ]
          },
          "metadata": {
            "tags": []
          }
        },
        {
          "output_type": "display_data",
          "data": {
            "application/javascript": [
              "\n",
              "        if (typeof window.interactive_beam_jquery == 'undefined') {\n",
              "          var jqueryScript = document.createElement('script');\n",
              "          jqueryScript.src = 'https://code.jquery.com/jquery-3.4.1.slim.min.js';\n",
              "          jqueryScript.type = 'text/javascript';\n",
              "          jqueryScript.onload = function() {\n",
              "            var datatableScript = document.createElement('script');\n",
              "            datatableScript.src = 'https://cdn.datatables.net/1.10.20/js/jquery.dataTables.min.js';\n",
              "            datatableScript.type = 'text/javascript';\n",
              "            datatableScript.onload = function() {\n",
              "              window.interactive_beam_jquery = jQuery.noConflict(true);\n",
              "              window.interactive_beam_jquery(document).ready(function($){\n",
              "                \n",
              "            $(\"#progress_indicator_1bcf88d45713f3bff833263b0bf2f1cb\").remove();\n",
              "              });\n",
              "            }\n",
              "            document.head.appendChild(datatableScript);\n",
              "          };\n",
              "          document.head.appendChild(jqueryScript);\n",
              "        } else {\n",
              "          window.interactive_beam_jquery(document).ready(function($){\n",
              "            \n",
              "            $(\"#progress_indicator_1bcf88d45713f3bff833263b0bf2f1cb\").remove();\n",
              "          });\n",
              "        }"
            ]
          },
          "metadata": {
            "tags": []
          }
        }
      ]
    },
    {
      "cell_type": "markdown",
      "metadata": {
        "id": "KbgM75MGrhDO"
      },
      "source": [
        "### CoGroupByKey: Combina os dados por uma chave (JOIN)"
      ]
    },
    {
      "cell_type": "markdown",
      "metadata": {
        "id": "f1grrEmz5xK2"
      },
      "source": [
        "Útil para agrupar dados de diferentes PCollection de entrada com uma chave em comum, similar ao JOIN do SQL."
      ]
    },
    {
      "cell_type": "markdown",
      "metadata": {
        "id": "DEg3jKHM5stE"
      },
      "source": [
        "![image.png](data:image/png;base64,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)"
      ]
    },
    {
      "cell_type": "markdown",
      "metadata": {
        "id": "nuqEgeRYa3Qb"
      },
      "source": [
        "> ℹ️ Exemplo: vamos pegar duas entradas uma contendo os esportes que as pessoas tem como hobby e outro com o trabalho que essa pessoa tem e como saída teremos uma combinação destes."
      ]
    },
    {
      "cell_type": "code",
      "metadata": {
        "id": "31EHFSvooKgc"
      },
      "source": [
        "hobbies = [\n",
        "    ('Rafael', '⚽'),\n",
        "    ('Fernando', '⚽'),\n",
        "    ('Fernando', '🎾'),\n",
        "    ('João', '🥊'),\n",
        "    ('Rafael', '🏀'),\n",
        "    ('Rafael', '🏐'),\n",
        "    ('João','⚽'),\n",
        "    ('Luiz', '🎾'),\n",
        "    ('Luiz', '🥊'),\n",
        "]\n",
        "\n",
        "trabalhos = [\n",
        "    ('Rafael', 'Engenheiro de dados'),\n",
        "    ('Fernando', 'Cientista de dados'),\n",
        "    ('João', 'Full Stack'),\n",
        "    ('Luiz', 'CEO'),\n",
        "]"
      ],
      "execution_count": null,
      "outputs": []
    },
    {
      "cell_type": "code",
      "metadata": {
        "id": "0hpL7No3TPWs"
      },
      "source": [
        "pipeline = beam.Pipeline(InteractiveRunner())"
      ],
      "execution_count": null,
      "outputs": []
    },
    {
      "cell_type": "code",
      "metadata": {
        "id": "kl2XpaUZTV8j"
      },
      "source": [
        "hobbies_create = pipeline | \"Create Hobbies\" >> beam.Create(hobbies)\n",
        "trabalhos_create = pipeline | \"Create Trabalhos\" >> beam.Create(trabalhos)"
      ],
      "execution_count": null,
      "outputs": []
    },
    {
      "cell_type": "code",
      "metadata": {
        "id": "JCx2afpQTuAV"
      },
      "source": [
        "#cogbk = (trabalhos_create, hobbies_create) | beam.CoGroupByKey()"
      ],
      "execution_count": null,
      "outputs": []
    },
    {
      "cell_type": "code",
      "metadata": {
        "id": "vKEsiO1uUOvE"
      },
      "source": [
        "cogbk = {\"trabalhos\": trabalhos_create, \"hobbies\": hobbies_create} | beam.CoGroupByKey()"
      ],
      "execution_count": null,
      "outputs": []
    },
    {
      "cell_type": "code",
      "metadata": {
        "colab": {
          "base_uri": "https://localhost:8080/",
          "height": 880
        },
        "id": "SrEamea1TsLY",
        "outputId": "361bfe44-9676-498f-fa79-5512047683ab"
      },
      "source": [
        "ib.show_graph(pipeline)\n",
        "ib.show(cogbk)"
      ],
      "execution_count": null,
      "outputs": [
        {
          "output_type": "display_data",
          "data": {
            "text/html": [
              "\n",
              "            <link rel=\"stylesheet\" href=\"https://stackpath.bootstrapcdn.com/bootstrap/4.4.1/css/bootstrap.min.css\" integrity=\"sha384-Vkoo8x4CGsO3+Hhxv8T/Q5PaXtkKtu6ug5TOeNV6gBiFeWPGFN9MuhOf23Q9Ifjh\" crossorigin=\"anonymous\">\n",
              "            <div id=\"progress_indicator_ac4b4033c8f5a2934c9c14becf1a2556\" class=\"spinner-border text-info\" role=\"status\">\n",
              "            </div>"
            ],
            "text/plain": [
              "<IPython.core.display.HTML object>"
            ]
          },
          "metadata": {
            "tags": []
          }
        },
        {
          "output_type": "display_data",
          "data": {
            "text/html": [
              "<?xml version=\"1.0\" encoding=\"UTF-8\" standalone=\"no\"?>\n",
              "<!DOCTYPE svg PUBLIC \"-//W3C//DTD SVG 1.1//EN\"\n",
              " \"http://www.w3.org/Graphics/SVG/1.1/DTD/svg11.dtd\">\n",
              "<!-- Generated by graphviz version 2.40.1 (20161225.0304)\n",
              " -->\n",
              "<!-- Title: G Pages: 1 -->\n",
              "<svg width=\"306pt\" height=\"397pt\"\n",
              " viewBox=\"0.00 0.00 306.00 397.28\" xmlns=\"http://www.w3.org/2000/svg\" xmlns:xlink=\"http://www.w3.org/1999/xlink\">\n",
              "<g id=\"graph0\" class=\"graph\" transform=\"scale(1 1) rotate(0) translate(4 393.2814)\">\n",
              "<title>G</title>\n",
              "<polygon fill=\"#ffffff\" stroke=\"transparent\" points=\"-4,4 -4,-393.2814 302,-393.2814 302,4 -4,4\"/>\n",
              "<!-- [29]: Create Hobbies -->\n",
              "<g id=\"node1\" class=\"node\">\n",
              "<title>[29]: Create Hobbies</title>\n",
              "<polygon fill=\"none\" stroke=\"#0000ff\" points=\"136,-389.2814 0,-389.2814 0,-353.2814 136,-353.2814 136,-389.2814\"/>\n",
              "<text text-anchor=\"middle\" x=\"68\" y=\"-367.5814\" font-family=\"Times,serif\" font-size=\"14.00\" fill=\"#0000ff\">[29]: Create Hobbies</text>\n",
              "</g>\n",
              "<!-- hobbies_create -->\n",
              "<g id=\"node2\" class=\"node\">\n",
              "<title>hobbies_create</title>\n",
              "<ellipse fill=\"none\" stroke=\"#0000ff\" cx=\"70\" cy=\"-247.0877\" rx=\"65.7887\" ry=\"65.7887\"/>\n",
              "<text text-anchor=\"middle\" x=\"70\" y=\"-243.3877\" font-family=\"Times,serif\" font-size=\"14.00\" fill=\"#0000ff\">hobbies_create</text>\n",
              "</g>\n",
              "<!-- [29]: Create Hobbies&#45;&gt;hobbies_create -->\n",
              "<g id=\"edge1\" class=\"edge\">\n",
              "<title>[29]: Create Hobbies&#45;&gt;hobbies_create</title>\n",
              "<path fill=\"none\" stroke=\"#000000\" d=\"M68.2908,-353.2226C68.4266,-344.7932 68.5982,-334.1333 68.7801,-322.8394\"/>\n",
              "<polygon fill=\"#000000\" stroke=\"#000000\" points=\"72.2803,-322.8465 68.9419,-312.7914 65.2813,-322.7337 72.2803,-322.8465\"/>\n",
              "</g>\n",
              "<!-- [30]: CoGroupByKey -->\n",
              "<g id=\"node5\" class=\"node\">\n",
              "<title>[30]: CoGroupByKey</title>\n",
              "<polygon fill=\"none\" stroke=\"#0000ff\" points=\"219,-140.8939 75,-140.8939 75,-104.8939 219,-104.8939 219,-140.8939\"/>\n",
              "<text text-anchor=\"middle\" x=\"147\" y=\"-119.1939\" font-family=\"Times,serif\" font-size=\"14.00\" fill=\"#0000ff\">[30]: CoGroupByKey</text>\n",
              "</g>\n",
              "<!-- hobbies_create&#45;&gt;[30]: CoGroupByKey -->\n",
              "<g id=\"edge2\" class=\"edge\">\n",
              "<title>hobbies_create&#45;&gt;[30]: CoGroupByKey</title>\n",
              "<path fill=\"none\" stroke=\"#000000\" d=\"M104.6707,-191.1671C113.5773,-176.8016 122.76,-161.9908 130.2866,-149.851\"/>\n",
              "<polygon fill=\"#000000\" stroke=\"#000000\" points=\"133.3927,-151.4832 135.6875,-141.1399 127.4434,-147.7946 133.3927,-151.4832\"/>\n",
              "</g>\n",
              "<!-- [29]: Create Trabalhos -->\n",
              "<g id=\"node3\" class=\"node\">\n",
              "<title>[29]: Create Trabalhos</title>\n",
              "<polygon fill=\"none\" stroke=\"#0000ff\" points=\"298,-389.2814 154,-389.2814 154,-353.2814 298,-353.2814 298,-389.2814\"/>\n",
              "<text text-anchor=\"middle\" x=\"226\" y=\"-367.5814\" font-family=\"Times,serif\" font-size=\"14.00\" fill=\"#0000ff\">[29]: Create Trabalhos</text>\n",
              "</g>\n",
              "<!-- trabalhos_create -->\n",
              "<g id=\"node4\" class=\"node\">\n",
              "<title>trabalhos_create</title>\n",
              "<ellipse fill=\"none\" stroke=\"#0000ff\" cx=\"225\" cy=\"-247.0877\" rx=\"70.3881\" ry=\"70.3881\"/>\n",
              "<text text-anchor=\"middle\" x=\"225\" y=\"-243.3877\" font-family=\"Times,serif\" font-size=\"14.00\" fill=\"#0000ff\">trabalhos_create</text>\n",
              "</g>\n",
              "<!-- [29]: Create Trabalhos&#45;&gt;trabalhos_create -->\n",
              "<g id=\"edge3\" class=\"edge\">\n",
              "<title>[29]: Create Trabalhos&#45;&gt;trabalhos_create</title>\n",
              "<path fill=\"none\" stroke=\"#000000\" d=\"M225.8546,-353.2226C225.7963,-345.9826 225.7248,-337.0972 225.6481,-327.5779\"/>\n",
              "<polygon fill=\"#000000\" stroke=\"#000000\" points=\"229.1472,-327.4421 225.5667,-317.4706 222.1474,-327.4985 229.1472,-327.4421\"/>\n",
              "</g>\n",
              "<!-- trabalhos_create&#45;&gt;[30]: CoGroupByKey -->\n",
              "<g id=\"edge4\" class=\"edge\">\n",
              "<title>trabalhos_create&#45;&gt;[30]: CoGroupByKey</title>\n",
              "<path fill=\"none\" stroke=\"#000000\" d=\"M187.5992,-187.5371C179.2909,-174.3083 170.8856,-160.9252 163.895,-149.7946\"/>\n",
              "<polygon fill=\"#000000\" stroke=\"#000000\" points=\"166.6714,-147.6344 158.3888,-141.0275 160.7435,-151.3574 166.6714,-147.6344\"/>\n",
              "</g>\n",
              "<!-- cogbk -->\n",
              "<g id=\"node6\" class=\"node\">\n",
              "<title>cogbk</title>\n",
              "<ellipse fill=\"none\" stroke=\"#0000ff\" cx=\"147\" cy=\"-34.4469\" rx=\"34.394\" ry=\"34.394\"/>\n",
              "<text text-anchor=\"middle\" x=\"147\" y=\"-30.7469\" font-family=\"Times,serif\" font-size=\"14.00\" fill=\"#0000ff\">cogbk</text>\n",
              "</g>\n",
              "<!-- [30]: CoGroupByKey&#45;&gt;cogbk -->\n",
              "<g id=\"edge5\" class=\"edge\">\n",
              "<title>[30]: CoGroupByKey&#45;&gt;cogbk</title>\n",
              "<path fill=\"none\" stroke=\"#000000\" d=\"M147,-104.5676C147,-97.1414 147,-88.211 147,-79.2488\"/>\n",
              "<polygon fill=\"#000000\" stroke=\"#000000\" points=\"150.5001,-79.1952 147,-69.1953 143.5001,-79.1953 150.5001,-79.1952\"/>\n",
              "</g>\n",
              "</g>\n",
              "</svg>\n"
            ],
            "text/plain": [
              "<IPython.core.display.HTML object>"
            ]
          },
          "metadata": {
            "tags": []
          }
        },
        {
          "output_type": "display_data",
          "data": {
            "application/javascript": [
              "\n",
              "        if (typeof window.interactive_beam_jquery == 'undefined') {\n",
              "          var jqueryScript = document.createElement('script');\n",
              "          jqueryScript.src = 'https://code.jquery.com/jquery-3.4.1.slim.min.js';\n",
              "          jqueryScript.type = 'text/javascript';\n",
              "          jqueryScript.onload = function() {\n",
              "            var datatableScript = document.createElement('script');\n",
              "            datatableScript.src = 'https://cdn.datatables.net/1.10.20/js/jquery.dataTables.min.js';\n",
              "            datatableScript.type = 'text/javascript';\n",
              "            datatableScript.onload = function() {\n",
              "              window.interactive_beam_jquery = jQuery.noConflict(true);\n",
              "              window.interactive_beam_jquery(document).ready(function($){\n",
              "                \n",
              "            $(\"#progress_indicator_ac4b4033c8f5a2934c9c14becf1a2556\").remove();\n",
              "              });\n",
              "            }\n",
              "            document.head.appendChild(datatableScript);\n",
              "          };\n",
              "          document.head.appendChild(jqueryScript);\n",
              "        } else {\n",
              "          window.interactive_beam_jquery(document).ready(function($){\n",
              "            \n",
              "            $(\"#progress_indicator_ac4b4033c8f5a2934c9c14becf1a2556\").remove();\n",
              "          });\n",
              "        }"
            ]
          },
          "metadata": {
            "tags": []
          }
        },
        {
          "output_type": "display_data",
          "data": {
            "text/html": [
              "\n",
              "            <link rel=\"stylesheet\" href=\"https://stackpath.bootstrapcdn.com/bootstrap/4.4.1/css/bootstrap.min.css\" integrity=\"sha384-Vkoo8x4CGsO3+Hhxv8T/Q5PaXtkKtu6ug5TOeNV6gBiFeWPGFN9MuhOf23Q9Ifjh\" crossorigin=\"anonymous\">\n",
              "            <div id=\"progress_indicator_8c1322970a90bc9b9c08090e60c87fda\" class=\"spinner-border text-info\" role=\"status\">\n",
              "            </div>"
            ],
            "text/plain": [
              "<IPython.core.display.HTML object>"
            ]
          },
          "metadata": {
            "tags": []
          }
        },
        {
          "output_type": "display_data",
          "data": {
            "text/html": [
              "\n",
              "            <style>\n",
              "            .p-Widget.jp-OutputPrompt.jp-OutputArea-prompt:empty {\n",
              "              padding: 0;\n",
              "              border: 0;\n",
              "            }\n",
              "            .p-Widget.jp-RenderedJavaScript.jp-mod-trusted.jp-OutputArea-output:empty {\n",
              "              padding: 0;\n",
              "              border: 0;\n",
              "            }\n",
              "            </style>\n",
              "            <link rel=\"stylesheet\" href=\"https://cdn.datatables.net/1.10.20/css/jquery.dataTables.min.css\">\n",
              "            <table id=\"table_df_b8571dda43e8f0065a04f5c9210d232c\" class=\"display\" style=\"display:block\"></table>\n",
              "            <script>\n",
              "              \n",
              "        if (typeof window.interactive_beam_jquery == 'undefined') {\n",
              "          var jqueryScript = document.createElement('script');\n",
              "          jqueryScript.src = 'https://code.jquery.com/jquery-3.4.1.slim.min.js';\n",
              "          jqueryScript.type = 'text/javascript';\n",
              "          jqueryScript.onload = function() {\n",
              "            var datatableScript = document.createElement('script');\n",
              "            datatableScript.src = 'https://cdn.datatables.net/1.10.20/js/jquery.dataTables.min.js';\n",
              "            datatableScript.type = 'text/javascript';\n",
              "            datatableScript.onload = function() {\n",
              "              window.interactive_beam_jquery = jQuery.noConflict(true);\n",
              "              window.interactive_beam_jquery(document).ready(function($){\n",
              "                \n",
              "            var dt;\n",
              "            if ($.fn.dataTable.isDataTable(\"#table_df_b8571dda43e8f0065a04f5c9210d232c\")) {\n",
              "              dt = $(\"#table_df_b8571dda43e8f0065a04f5c9210d232c\").dataTable();\n",
              "            } else if ($(\"#table_df_b8571dda43e8f0065a04f5c9210d232c_wrapper\").length == 0) {\n",
              "              dt = $(\"#table_df_b8571dda43e8f0065a04f5c9210d232c\").dataTable({\n",
              "                \n",
              "            bAutoWidth: false,\n",
              "            columns: [{'title': ''}, {'title': 'cogbk.0'}, {'title': 'cogbk.1'}],\n",
              "            destroy: true,\n",
              "            responsive: true,\n",
              "            columnDefs: [\n",
              "              {\n",
              "                targets: \"_all\",\n",
              "                className: \"dt-left\"\n",
              "              },\n",
              "              {\n",
              "                \"targets\": 0,\n",
              "                \"width\": \"10px\",\n",
              "                \"title\": \"\"\n",
              "              }\n",
              "            ]\n",
              "              });\n",
              "            } else {\n",
              "              return;\n",
              "            }\n",
              "            dt.api()\n",
              "              .clear()\n",
              "              .rows.add([{1: 'Rafael', 2: \"{'trabalhos': ['Engenheiro de dados'], 'hobbies': ['⚽', '🏀', '🏐']}\", 0: 0}, {1: 'Fernando', 2: \"{'trabalhos': ['Cientista de dados'], 'hobbies': ['⚽', '🎾']}\", 0: 1}, {1: 'João', 2: \"{'trabalhos': ['Full Stack'], 'hobbies': ['🥊', '⚽']}\", 0: 2}, {1: 'Luiz', 2: \"{'trabalhos': ['CEO'], 'hobbies': ['🎾', '🥊']}\", 0: 3}])\n",
              "              .draw('full-hold');\n",
              "              });\n",
              "            }\n",
              "            document.head.appendChild(datatableScript);\n",
              "          };\n",
              "          document.head.appendChild(jqueryScript);\n",
              "        } else {\n",
              "          window.interactive_beam_jquery(document).ready(function($){\n",
              "            \n",
              "            var dt;\n",
              "            if ($.fn.dataTable.isDataTable(\"#table_df_b8571dda43e8f0065a04f5c9210d232c\")) {\n",
              "              dt = $(\"#table_df_b8571dda43e8f0065a04f5c9210d232c\").dataTable();\n",
              "            } else if ($(\"#table_df_b8571dda43e8f0065a04f5c9210d232c_wrapper\").length == 0) {\n",
              "              dt = $(\"#table_df_b8571dda43e8f0065a04f5c9210d232c\").dataTable({\n",
              "                \n",
              "            bAutoWidth: false,\n",
              "            columns: [{'title': ''}, {'title': 'cogbk.0'}, {'title': 'cogbk.1'}],\n",
              "            destroy: true,\n",
              "            responsive: true,\n",
              "            columnDefs: [\n",
              "              {\n",
              "                targets: \"_all\",\n",
              "                className: \"dt-left\"\n",
              "              },\n",
              "              {\n",
              "                \"targets\": 0,\n",
              "                \"width\": \"10px\",\n",
              "                \"title\": \"\"\n",
              "              }\n",
              "            ]\n",
              "              });\n",
              "            } else {\n",
              "              return;\n",
              "            }\n",
              "            dt.api()\n",
              "              .clear()\n",
              "              .rows.add([{1: 'Rafael', 2: \"{'trabalhos': ['Engenheiro de dados'], 'hobbies': ['⚽', '🏀', '🏐']}\", 0: 0}, {1: 'Fernando', 2: \"{'trabalhos': ['Cientista de dados'], 'hobbies': ['⚽', '🎾']}\", 0: 1}, {1: 'João', 2: \"{'trabalhos': ['Full Stack'], 'hobbies': ['🥊', '⚽']}\", 0: 2}, {1: 'Luiz', 2: \"{'trabalhos': ['CEO'], 'hobbies': ['🎾', '🥊']}\", 0: 3}])\n",
              "              .draw('full-hold');\n",
              "          });\n",
              "        }\n",
              "            </script>"
            ],
            "text/plain": [
              "<IPython.core.display.HTML object>"
            ]
          },
          "metadata": {
            "tags": []
          }
        },
        {
          "output_type": "display_data",
          "data": {
            "application/javascript": [
              "\n",
              "        if (typeof window.interactive_beam_jquery == 'undefined') {\n",
              "          var jqueryScript = document.createElement('script');\n",
              "          jqueryScript.src = 'https://code.jquery.com/jquery-3.4.1.slim.min.js';\n",
              "          jqueryScript.type = 'text/javascript';\n",
              "          jqueryScript.onload = function() {\n",
              "            var datatableScript = document.createElement('script');\n",
              "            datatableScript.src = 'https://cdn.datatables.net/1.10.20/js/jquery.dataTables.min.js';\n",
              "            datatableScript.type = 'text/javascript';\n",
              "            datatableScript.onload = function() {\n",
              "              window.interactive_beam_jquery = jQuery.noConflict(true);\n",
              "              window.interactive_beam_jquery(document).ready(function($){\n",
              "                \n",
              "            $(\"#progress_indicator_8c1322970a90bc9b9c08090e60c87fda\").remove();\n",
              "              });\n",
              "            }\n",
              "            document.head.appendChild(datatableScript);\n",
              "          };\n",
              "          document.head.appendChild(jqueryScript);\n",
              "        } else {\n",
              "          window.interactive_beam_jquery(document).ready(function($){\n",
              "            \n",
              "            $(\"#progress_indicator_8c1322970a90bc9b9c08090e60c87fda\").remove();\n",
              "          });\n",
              "        }"
            ]
          },
          "metadata": {
            "tags": []
          }
        }
      ]
    },
    {
      "cell_type": "markdown",
      "metadata": {
        "id": "n3pPO7RfzVsA"
      },
      "source": [
        "### Combine: muitos-para-um"
      ]
    },
    {
      "cell_type": "markdown",
      "metadata": {
        "id": "11hu1spJZVWM"
      },
      "source": [
        "Para muitos casos gostariamos de juntar todos os valores dentro de uma PCollection e retornar somente um valor final, seja uma soma, média ou alguma outra agregação.\n",
        "\n",
        "Nestas situações, temos dois operadores: \n",
        "- um para agregar os dados de forma geral ou globalmente(`beam.CombineGlobally`)\n",
        "- um para agregar baseado nas chaves (`beam.CombinePerKey`)\n",
        "\n",
        "Estas transformações aceitam `funções` como paramêtros de entrada, desde que estam sejam do tipo `iterable`\n"
      ]
    },
    {
      "cell_type": "markdown",
      "metadata": {
        "id": "ocugXzCl1UVr"
      },
      "source": [
        "![image.png](data:image/png;base64,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)"
      ]
    },
    {
      "cell_type": "markdown",
      "metadata": {
        "id": "xhmQYvIHYI_V"
      },
      "source": [
        "#### CombineGlobally"
      ]
    },
    {
      "cell_type": "markdown",
      "metadata": {
        "id": "G-EHtI5UaQyJ"
      },
      "source": [
        "Combina todos os valores dentro do PCollection de forma global e retorna somente 1 valor.\n",
        "\n",
        "> ℹ️ Exemplo: somar os valores do PCollection de entrada"
      ]
    },
    {
      "cell_type": "code",
      "metadata": {
        "id": "2GyPSvyDrRH1"
      },
      "source": [
        "pipeline = beam.Pipeline(InteractiveRunner())"
      ],
      "execution_count": null,
      "outputs": []
    },
    {
      "cell_type": "code",
      "metadata": {
        "id": "24VXQ5Xegn-U"
      },
      "source": [
        "soma = (\n",
        "    pipeline \n",
        "    | beam.Create([1, 2, 3, 4, 5, 6, 7, 8, 9])\n",
        "    | beam.CombineGlobally(sum)\n",
        ")"
      ],
      "execution_count": null,
      "outputs": []
    },
    {
      "cell_type": "code",
      "metadata": {
        "colab": {
          "base_uri": "https://localhost:8080/",
          "height": 228
        },
        "id": "Ep09hQW7g0TV",
        "outputId": "f69402c8-e37a-4137-afb0-2a9d9383c074"
      },
      "source": [
        "ib.show(soma)"
      ],
      "execution_count": null,
      "outputs": [
        {
          "output_type": "display_data",
          "data": {
            "text/html": [
              "\n",
              "            <link rel=\"stylesheet\" href=\"https://stackpath.bootstrapcdn.com/bootstrap/4.4.1/css/bootstrap.min.css\" integrity=\"sha384-Vkoo8x4CGsO3+Hhxv8T/Q5PaXtkKtu6ug5TOeNV6gBiFeWPGFN9MuhOf23Q9Ifjh\" crossorigin=\"anonymous\">\n",
              "            <div id=\"progress_indicator_ab73b3e419c69ffe5298fe2ddf227d8e\" class=\"spinner-border text-info\" role=\"status\">\n",
              "            </div>"
            ],
            "text/plain": [
              "<IPython.core.display.HTML object>"
            ]
          },
          "metadata": {
            "tags": []
          }
        },
        {
          "output_type": "display_data",
          "data": {
            "text/html": [
              "\n",
              "            <style>\n",
              "            .p-Widget.jp-OutputPrompt.jp-OutputArea-prompt:empty {\n",
              "              padding: 0;\n",
              "              border: 0;\n",
              "            }\n",
              "            .p-Widget.jp-RenderedJavaScript.jp-mod-trusted.jp-OutputArea-output:empty {\n",
              "              padding: 0;\n",
              "              border: 0;\n",
              "            }\n",
              "            </style>\n",
              "            <link rel=\"stylesheet\" href=\"https://cdn.datatables.net/1.10.20/css/jquery.dataTables.min.css\">\n",
              "            <table id=\"table_df_62e770f69c53e1cdd93bddf3a7850146\" class=\"display\" style=\"display:block\"></table>\n",
              "            <script>\n",
              "              \n",
              "        if (typeof window.interactive_beam_jquery == 'undefined') {\n",
              "          var jqueryScript = document.createElement('script');\n",
              "          jqueryScript.src = 'https://code.jquery.com/jquery-3.4.1.slim.min.js';\n",
              "          jqueryScript.type = 'text/javascript';\n",
              "          jqueryScript.onload = function() {\n",
              "            var datatableScript = document.createElement('script');\n",
              "            datatableScript.src = 'https://cdn.datatables.net/1.10.20/js/jquery.dataTables.min.js';\n",
              "            datatableScript.type = 'text/javascript';\n",
              "            datatableScript.onload = function() {\n",
              "              window.interactive_beam_jquery = jQuery.noConflict(true);\n",
              "              window.interactive_beam_jquery(document).ready(function($){\n",
              "                \n",
              "            var dt;\n",
              "            if ($.fn.dataTable.isDataTable(\"#table_df_62e770f69c53e1cdd93bddf3a7850146\")) {\n",
              "              dt = $(\"#table_df_62e770f69c53e1cdd93bddf3a7850146\").dataTable();\n",
              "            } else if ($(\"#table_df_62e770f69c53e1cdd93bddf3a7850146_wrapper\").length == 0) {\n",
              "              dt = $(\"#table_df_62e770f69c53e1cdd93bddf3a7850146\").dataTable({\n",
              "                \n",
              "            bAutoWidth: false,\n",
              "            columns: [{'title': ''}, {'title': 'soma.0'}],\n",
              "            destroy: true,\n",
              "            responsive: true,\n",
              "            columnDefs: [\n",
              "              {\n",
              "                targets: \"_all\",\n",
              "                className: \"dt-left\"\n",
              "              },\n",
              "              {\n",
              "                \"targets\": 0,\n",
              "                \"width\": \"10px\",\n",
              "                \"title\": \"\"\n",
              "              }\n",
              "            ]\n",
              "              });\n",
              "            } else {\n",
              "              return;\n",
              "            }\n",
              "            dt.api()\n",
              "              .clear()\n",
              "              .rows.add([{1: '45', 0: 0}])\n",
              "              .draw('full-hold');\n",
              "              });\n",
              "            }\n",
              "            document.head.appendChild(datatableScript);\n",
              "          };\n",
              "          document.head.appendChild(jqueryScript);\n",
              "        } else {\n",
              "          window.interactive_beam_jquery(document).ready(function($){\n",
              "            \n",
              "            var dt;\n",
              "            if ($.fn.dataTable.isDataTable(\"#table_df_62e770f69c53e1cdd93bddf3a7850146\")) {\n",
              "              dt = $(\"#table_df_62e770f69c53e1cdd93bddf3a7850146\").dataTable();\n",
              "            } else if ($(\"#table_df_62e770f69c53e1cdd93bddf3a7850146_wrapper\").length == 0) {\n",
              "              dt = $(\"#table_df_62e770f69c53e1cdd93bddf3a7850146\").dataTable({\n",
              "                \n",
              "            bAutoWidth: false,\n",
              "            columns: [{'title': ''}, {'title': 'soma.0'}],\n",
              "            destroy: true,\n",
              "            responsive: true,\n",
              "            columnDefs: [\n",
              "              {\n",
              "                targets: \"_all\",\n",
              "                className: \"dt-left\"\n",
              "              },\n",
              "              {\n",
              "                \"targets\": 0,\n",
              "                \"width\": \"10px\",\n",
              "                \"title\": \"\"\n",
              "              }\n",
              "            ]\n",
              "              });\n",
              "            } else {\n",
              "              return;\n",
              "            }\n",
              "            dt.api()\n",
              "              .clear()\n",
              "              .rows.add([{1: '45', 0: 0}])\n",
              "              .draw('full-hold');\n",
              "          });\n",
              "        }\n",
              "            </script>"
            ],
            "text/plain": [
              "<IPython.core.display.HTML object>"
            ]
          },
          "metadata": {
            "tags": []
          }
        },
        {
          "output_type": "display_data",
          "data": {
            "application/javascript": [
              "\n",
              "        if (typeof window.interactive_beam_jquery == 'undefined') {\n",
              "          var jqueryScript = document.createElement('script');\n",
              "          jqueryScript.src = 'https://code.jquery.com/jquery-3.4.1.slim.min.js';\n",
              "          jqueryScript.type = 'text/javascript';\n",
              "          jqueryScript.onload = function() {\n",
              "            var datatableScript = document.createElement('script');\n",
              "            datatableScript.src = 'https://cdn.datatables.net/1.10.20/js/jquery.dataTables.min.js';\n",
              "            datatableScript.type = 'text/javascript';\n",
              "            datatableScript.onload = function() {\n",
              "              window.interactive_beam_jquery = jQuery.noConflict(true);\n",
              "              window.interactive_beam_jquery(document).ready(function($){\n",
              "                \n",
              "            $(\"#progress_indicator_ab73b3e419c69ffe5298fe2ddf227d8e\").remove();\n",
              "              });\n",
              "            }\n",
              "            document.head.appendChild(datatableScript);\n",
              "          };\n",
              "          document.head.appendChild(jqueryScript);\n",
              "        } else {\n",
              "          window.interactive_beam_jquery(document).ready(function($){\n",
              "            \n",
              "            $(\"#progress_indicator_ab73b3e419c69ffe5298fe2ddf227d8e\").remove();\n",
              "          });\n",
              "        }"
            ]
          },
          "metadata": {
            "tags": []
          }
        }
      ]
    },
    {
      "cell_type": "markdown",
      "metadata": {
        "id": "fM14GOalYNGm"
      },
      "source": [
        "#### CombinePerKey"
      ]
    },
    {
      "cell_type": "markdown",
      "metadata": {
        "id": "Wxx-rz0bhvUc"
      },
      "source": [
        "Combina os valores do PCollection de entrada aplicando uma função sobre os dados por chave.\n",
        "\n",
        "> ℹ️ Exemplo: somar os valores do PCollection de entrada para cada tipo de legumes."
      ]
    },
    {
      "cell_type": "code",
      "metadata": {
        "id": "VjoCGxx1YPtk"
      },
      "source": [
        "pipeline = beam.Pipeline(InteractiveRunner())"
      ],
      "execution_count": null,
      "outputs": []
    },
    {
      "cell_type": "code",
      "metadata": {
        "id": "QWK0FjCtiDLs"
      },
      "source": [
        "legumes = [\n",
        "  ('🌽', 1),\n",
        "  ('🥕', 3),\n",
        "  ('🥕', 2),\n",
        "  ('🍆', 1),\n",
        "  ('🍅', 4),\n",
        "  ('🍅', 5),\n",
        "  ('🍅', 3),\n",
        "  ('🌽', 10),\n",
        "]"
      ],
      "execution_count": null,
      "outputs": []
    },
    {
      "cell_type": "code",
      "metadata": {
        "id": "TLPEKxdRiZ7n"
      },
      "source": [
        "soma = (\n",
        "    pipeline\n",
        "    | \"Cria pares de (legumes, quantidade)\" >> beam.Create(legumes)\n",
        "    | \"Soma por cada tipo de legume\" >> beam.CombinePerKey(sum)\n",
        ")"
      ],
      "execution_count": null,
      "outputs": []
    },
    {
      "cell_type": "code",
      "metadata": {
        "colab": {
          "base_uri": "https://localhost:8080/",
          "height": 350
        },
        "id": "qaQoWJNCimVl",
        "outputId": "827613d4-c5f9-43c8-e7e4-dc81750ce428"
      },
      "source": [
        "ib.show(soma)"
      ],
      "execution_count": null,
      "outputs": [
        {
          "output_type": "display_data",
          "data": {
            "text/html": [
              "\n",
              "            <link rel=\"stylesheet\" href=\"https://stackpath.bootstrapcdn.com/bootstrap/4.4.1/css/bootstrap.min.css\" integrity=\"sha384-Vkoo8x4CGsO3+Hhxv8T/Q5PaXtkKtu6ug5TOeNV6gBiFeWPGFN9MuhOf23Q9Ifjh\" crossorigin=\"anonymous\">\n",
              "            <div id=\"progress_indicator_671e155d485e8beb25e02112c5c15fbe\" class=\"spinner-border text-info\" role=\"status\">\n",
              "            </div>"
            ],
            "text/plain": [
              "<IPython.core.display.HTML object>"
            ]
          },
          "metadata": {
            "tags": []
          }
        },
        {
          "output_type": "display_data",
          "data": {
            "text/html": [
              "\n",
              "            <style>\n",
              "            .p-Widget.jp-OutputPrompt.jp-OutputArea-prompt:empty {\n",
              "              padding: 0;\n",
              "              border: 0;\n",
              "            }\n",
              "            .p-Widget.jp-RenderedJavaScript.jp-mod-trusted.jp-OutputArea-output:empty {\n",
              "              padding: 0;\n",
              "              border: 0;\n",
              "            }\n",
              "            </style>\n",
              "            <link rel=\"stylesheet\" href=\"https://cdn.datatables.net/1.10.20/css/jquery.dataTables.min.css\">\n",
              "            <table id=\"table_df_3a03f06ad29fc88053955004c2b8dc96\" class=\"display\" style=\"display:block\"></table>\n",
              "            <script>\n",
              "              \n",
              "        if (typeof window.interactive_beam_jquery == 'undefined') {\n",
              "          var jqueryScript = document.createElement('script');\n",
              "          jqueryScript.src = 'https://code.jquery.com/jquery-3.4.1.slim.min.js';\n",
              "          jqueryScript.type = 'text/javascript';\n",
              "          jqueryScript.onload = function() {\n",
              "            var datatableScript = document.createElement('script');\n",
              "            datatableScript.src = 'https://cdn.datatables.net/1.10.20/js/jquery.dataTables.min.js';\n",
              "            datatableScript.type = 'text/javascript';\n",
              "            datatableScript.onload = function() {\n",
              "              window.interactive_beam_jquery = jQuery.noConflict(true);\n",
              "              window.interactive_beam_jquery(document).ready(function($){\n",
              "                \n",
              "            var dt;\n",
              "            if ($.fn.dataTable.isDataTable(\"#table_df_3a03f06ad29fc88053955004c2b8dc96\")) {\n",
              "              dt = $(\"#table_df_3a03f06ad29fc88053955004c2b8dc96\").dataTable();\n",
              "            } else if ($(\"#table_df_3a03f06ad29fc88053955004c2b8dc96_wrapper\").length == 0) {\n",
              "              dt = $(\"#table_df_3a03f06ad29fc88053955004c2b8dc96\").dataTable({\n",
              "                \n",
              "            bAutoWidth: false,\n",
              "            columns: [{'title': ''}, {'title': 'soma.0'}, {'title': 'soma.1'}],\n",
              "            destroy: true,\n",
              "            responsive: true,\n",
              "            columnDefs: [\n",
              "              {\n",
              "                targets: \"_all\",\n",
              "                className: \"dt-left\"\n",
              "              },\n",
              "              {\n",
              "                \"targets\": 0,\n",
              "                \"width\": \"10px\",\n",
              "                \"title\": \"\"\n",
              "              }\n",
              "            ]\n",
              "              });\n",
              "            } else {\n",
              "              return;\n",
              "            }\n",
              "            dt.api()\n",
              "              .clear()\n",
              "              .rows.add([{1: '🌽', 2: '11', 0: 0}, {1: '🥕', 2: '5', 0: 1}, {1: '🍆', 2: '1', 0: 2}, {1: '🍅', 2: '12', 0: 3}])\n",
              "              .draw('full-hold');\n",
              "              });\n",
              "            }\n",
              "            document.head.appendChild(datatableScript);\n",
              "          };\n",
              "          document.head.appendChild(jqueryScript);\n",
              "        } else {\n",
              "          window.interactive_beam_jquery(document).ready(function($){\n",
              "            \n",
              "            var dt;\n",
              "            if ($.fn.dataTable.isDataTable(\"#table_df_3a03f06ad29fc88053955004c2b8dc96\")) {\n",
              "              dt = $(\"#table_df_3a03f06ad29fc88053955004c2b8dc96\").dataTable();\n",
              "            } else if ($(\"#table_df_3a03f06ad29fc88053955004c2b8dc96_wrapper\").length == 0) {\n",
              "              dt = $(\"#table_df_3a03f06ad29fc88053955004c2b8dc96\").dataTable({\n",
              "                \n",
              "            bAutoWidth: false,\n",
              "            columns: [{'title': ''}, {'title': 'soma.0'}, {'title': 'soma.1'}],\n",
              "            destroy: true,\n",
              "            responsive: true,\n",
              "            columnDefs: [\n",
              "              {\n",
              "                targets: \"_all\",\n",
              "                className: \"dt-left\"\n",
              "              },\n",
              "              {\n",
              "                \"targets\": 0,\n",
              "                \"width\": \"10px\",\n",
              "                \"title\": \"\"\n",
              "              }\n",
              "            ]\n",
              "              });\n",
              "            } else {\n",
              "              return;\n",
              "            }\n",
              "            dt.api()\n",
              "              .clear()\n",
              "              .rows.add([{1: '🌽', 2: '11', 0: 0}, {1: '🥕', 2: '5', 0: 1}, {1: '🍆', 2: '1', 0: 2}, {1: '🍅', 2: '12', 0: 3}])\n",
              "              .draw('full-hold');\n",
              "          });\n",
              "        }\n",
              "            </script>"
            ],
            "text/plain": [
              "<IPython.core.display.HTML object>"
            ]
          },
          "metadata": {
            "tags": []
          }
        },
        {
          "output_type": "display_data",
          "data": {
            "application/javascript": [
              "\n",
              "        if (typeof window.interactive_beam_jquery == 'undefined') {\n",
              "          var jqueryScript = document.createElement('script');\n",
              "          jqueryScript.src = 'https://code.jquery.com/jquery-3.4.1.slim.min.js';\n",
              "          jqueryScript.type = 'text/javascript';\n",
              "          jqueryScript.onload = function() {\n",
              "            var datatableScript = document.createElement('script');\n",
              "            datatableScript.src = 'https://cdn.datatables.net/1.10.20/js/jquery.dataTables.min.js';\n",
              "            datatableScript.type = 'text/javascript';\n",
              "            datatableScript.onload = function() {\n",
              "              window.interactive_beam_jquery = jQuery.noConflict(true);\n",
              "              window.interactive_beam_jquery(document).ready(function($){\n",
              "                \n",
              "            $(\"#progress_indicator_671e155d485e8beb25e02112c5c15fbe\").remove();\n",
              "              });\n",
              "            }\n",
              "            document.head.appendChild(datatableScript);\n",
              "          };\n",
              "          document.head.appendChild(jqueryScript);\n",
              "        } else {\n",
              "          window.interactive_beam_jquery(document).ready(function($){\n",
              "            \n",
              "            $(\"#progress_indicator_671e155d485e8beb25e02112c5c15fbe\").remove();\n",
              "          });\n",
              "        }"
            ]
          },
          "metadata": {
            "tags": []
          }
        }
      ]
    },
    {
      "cell_type": "markdown",
      "metadata": {
        "id": "9bLXjyR6zmo6"
      },
      "source": [
        "### Count/Mean/Top/Max/Etc"
      ]
    },
    {
      "cell_type": "markdown",
      "metadata": {
        "id": "A8E1RgZTi6s5"
      },
      "source": [
        "Existem outros tipos de agregadores que são utilizados comumente quando se trata de análise de dados, aqui vamos descrever alguns brevemente\n",
        "\n",
        "Todos eles podem ser aplicados globalmente ou por chaves.\n",
        "\n",
        "- Count: retorna a quantidade de elementos dentro da PCollection\n",
        "- Mean: retorna a média dos elementos dentro do PCollection\n",
        "- Top: retorna os `n` maiores/menores elementos do PCollection dado uma expressão.\n",
        "- Max: retorna o maior valor do PCollection"
      ]
    },
    {
      "cell_type": "code",
      "metadata": {
        "id": "WwsW_xOYlOUi"
      },
      "source": [
        "pipeline = beam.Pipeline(InteractiveRunner())"
      ],
      "execution_count": null,
      "outputs": []
    },
    {
      "cell_type": "code",
      "metadata": {
        "id": "OeiW-X8moEhe"
      },
      "source": [
        "legumes = [\n",
        "  ('🌽', 1),\n",
        "  ('🥕', 3),\n",
        "  ('🥕', 2),\n",
        "  ('🍆', 1),\n",
        "  ('🍅', 4),\n",
        "  ('🍅', 5),\n",
        "  ('🍅', 3),\n",
        "  ('🌽', 10),\n",
        "]"
      ],
      "execution_count": null,
      "outputs": []
    },
    {
      "cell_type": "code",
      "metadata": {
        "id": "Gv4KMoGGlMzS"
      },
      "source": [
        "conta = (\n",
        "    pipeline\n",
        "    | beam.Create(legumes)\n",
        "    | beam.combiners.Count.Globally()\n",
        ")"
      ],
      "execution_count": null,
      "outputs": []
    },
    {
      "cell_type": "code",
      "metadata": {
        "colab": {
          "base_uri": "https://localhost:8080/",
          "height": 228
        },
        "id": "-KdoD3AXlgus",
        "outputId": "797b4e62-c645-43dd-c3b2-cedf36edd374"
      },
      "source": [
        "ib.show(conta)"
      ],
      "execution_count": null,
      "outputs": [
        {
          "output_type": "display_data",
          "data": {
            "text/html": [
              "\n",
              "            <link rel=\"stylesheet\" href=\"https://stackpath.bootstrapcdn.com/bootstrap/4.4.1/css/bootstrap.min.css\" integrity=\"sha384-Vkoo8x4CGsO3+Hhxv8T/Q5PaXtkKtu6ug5TOeNV6gBiFeWPGFN9MuhOf23Q9Ifjh\" crossorigin=\"anonymous\">\n",
              "            <div id=\"progress_indicator_afc1fced95f6c5346540e262440d633d\" class=\"spinner-border text-info\" role=\"status\">\n",
              "            </div>"
            ],
            "text/plain": [
              "<IPython.core.display.HTML object>"
            ]
          },
          "metadata": {
            "tags": []
          }
        },
        {
          "output_type": "display_data",
          "data": {
            "text/html": [
              "\n",
              "            <style>\n",
              "            .p-Widget.jp-OutputPrompt.jp-OutputArea-prompt:empty {\n",
              "              padding: 0;\n",
              "              border: 0;\n",
              "            }\n",
              "            .p-Widget.jp-RenderedJavaScript.jp-mod-trusted.jp-OutputArea-output:empty {\n",
              "              padding: 0;\n",
              "              border: 0;\n",
              "            }\n",
              "            </style>\n",
              "            <link rel=\"stylesheet\" href=\"https://cdn.datatables.net/1.10.20/css/jquery.dataTables.min.css\">\n",
              "            <table id=\"table_df_7bf08cc2fb890fff34d36b0bb5b61975\" class=\"display\" style=\"display:block\"></table>\n",
              "            <script>\n",
              "              \n",
              "        if (typeof window.interactive_beam_jquery == 'undefined') {\n",
              "          var jqueryScript = document.createElement('script');\n",
              "          jqueryScript.src = 'https://code.jquery.com/jquery-3.4.1.slim.min.js';\n",
              "          jqueryScript.type = 'text/javascript';\n",
              "          jqueryScript.onload = function() {\n",
              "            var datatableScript = document.createElement('script');\n",
              "            datatableScript.src = 'https://cdn.datatables.net/1.10.20/js/jquery.dataTables.min.js';\n",
              "            datatableScript.type = 'text/javascript';\n",
              "            datatableScript.onload = function() {\n",
              "              window.interactive_beam_jquery = jQuery.noConflict(true);\n",
              "              window.interactive_beam_jquery(document).ready(function($){\n",
              "                \n",
              "            var dt;\n",
              "            if ($.fn.dataTable.isDataTable(\"#table_df_7bf08cc2fb890fff34d36b0bb5b61975\")) {\n",
              "              dt = $(\"#table_df_7bf08cc2fb890fff34d36b0bb5b61975\").dataTable();\n",
              "            } else if ($(\"#table_df_7bf08cc2fb890fff34d36b0bb5b61975_wrapper\").length == 0) {\n",
              "              dt = $(\"#table_df_7bf08cc2fb890fff34d36b0bb5b61975\").dataTable({\n",
              "                \n",
              "            bAutoWidth: false,\n",
              "            columns: [{'title': ''}, {'title': 'conta.0'}],\n",
              "            destroy: true,\n",
              "            responsive: true,\n",
              "            columnDefs: [\n",
              "              {\n",
              "                targets: \"_all\",\n",
              "                className: \"dt-left\"\n",
              "              },\n",
              "              {\n",
              "                \"targets\": 0,\n",
              "                \"width\": \"10px\",\n",
              "                \"title\": \"\"\n",
              "              }\n",
              "            ]\n",
              "              });\n",
              "            } else {\n",
              "              return;\n",
              "            }\n",
              "            dt.api()\n",
              "              .clear()\n",
              "              .rows.add([{1: '8', 0: 0}])\n",
              "              .draw('full-hold');\n",
              "              });\n",
              "            }\n",
              "            document.head.appendChild(datatableScript);\n",
              "          };\n",
              "          document.head.appendChild(jqueryScript);\n",
              "        } else {\n",
              "          window.interactive_beam_jquery(document).ready(function($){\n",
              "            \n",
              "            var dt;\n",
              "            if ($.fn.dataTable.isDataTable(\"#table_df_7bf08cc2fb890fff34d36b0bb5b61975\")) {\n",
              "              dt = $(\"#table_df_7bf08cc2fb890fff34d36b0bb5b61975\").dataTable();\n",
              "            } else if ($(\"#table_df_7bf08cc2fb890fff34d36b0bb5b61975_wrapper\").length == 0) {\n",
              "              dt = $(\"#table_df_7bf08cc2fb890fff34d36b0bb5b61975\").dataTable({\n",
              "                \n",
              "            bAutoWidth: false,\n",
              "            columns: [{'title': ''}, {'title': 'conta.0'}],\n",
              "            destroy: true,\n",
              "            responsive: true,\n",
              "            columnDefs: [\n",
              "              {\n",
              "                targets: \"_all\",\n",
              "                className: \"dt-left\"\n",
              "              },\n",
              "              {\n",
              "                \"targets\": 0,\n",
              "                \"width\": \"10px\",\n",
              "                \"title\": \"\"\n",
              "              }\n",
              "            ]\n",
              "              });\n",
              "            } else {\n",
              "              return;\n",
              "            }\n",
              "            dt.api()\n",
              "              .clear()\n",
              "              .rows.add([{1: '8', 0: 0}])\n",
              "              .draw('full-hold');\n",
              "          });\n",
              "        }\n",
              "            </script>"
            ],
            "text/plain": [
              "<IPython.core.display.HTML object>"
            ]
          },
          "metadata": {
            "tags": []
          }
        },
        {
          "output_type": "display_data",
          "data": {
            "application/javascript": [
              "\n",
              "        if (typeof window.interactive_beam_jquery == 'undefined') {\n",
              "          var jqueryScript = document.createElement('script');\n",
              "          jqueryScript.src = 'https://code.jquery.com/jquery-3.4.1.slim.min.js';\n",
              "          jqueryScript.type = 'text/javascript';\n",
              "          jqueryScript.onload = function() {\n",
              "            var datatableScript = document.createElement('script');\n",
              "            datatableScript.src = 'https://cdn.datatables.net/1.10.20/js/jquery.dataTables.min.js';\n",
              "            datatableScript.type = 'text/javascript';\n",
              "            datatableScript.onload = function() {\n",
              "              window.interactive_beam_jquery = jQuery.noConflict(true);\n",
              "              window.interactive_beam_jquery(document).ready(function($){\n",
              "                \n",
              "            $(\"#progress_indicator_afc1fced95f6c5346540e262440d633d\").remove();\n",
              "              });\n",
              "            }\n",
              "            document.head.appendChild(datatableScript);\n",
              "          };\n",
              "          document.head.appendChild(jqueryScript);\n",
              "        } else {\n",
              "          window.interactive_beam_jquery(document).ready(function($){\n",
              "            \n",
              "            $(\"#progress_indicator_afc1fced95f6c5346540e262440d633d\").remove();\n",
              "          });\n",
              "        }"
            ]
          },
          "metadata": {
            "tags": []
          }
        }
      ]
    },
    {
      "cell_type": "code",
      "metadata": {
        "id": "uyuJ-5Ujljmp"
      },
      "source": [
        ""
      ],
      "execution_count": null,
      "outputs": []
    },
    {
      "cell_type": "code",
      "metadata": {
        "id": "2KtRoG_JlcKx"
      },
      "source": [
        "pipeline = beam.Pipeline(InteractiveRunner())"
      ],
      "execution_count": null,
      "outputs": []
    },
    {
      "cell_type": "code",
      "metadata": {
        "id": "kzbb2MU6ldmE"
      },
      "source": [
        "conta = (\n",
        "    pipeline\n",
        "    | beam.Create(legumes)\n",
        "    | beam.combiners.Count.PerKey()\n",
        ")"
      ],
      "execution_count": null,
      "outputs": []
    },
    {
      "cell_type": "code",
      "metadata": {
        "colab": {
          "base_uri": "https://localhost:8080/",
          "height": 350
        },
        "id": "m_rLonqOlko7",
        "outputId": "1fe618b4-5732-487e-9ab0-e88adec9ed89"
      },
      "source": [
        "ib.show(conta)"
      ],
      "execution_count": null,
      "outputs": [
        {
          "output_type": "display_data",
          "data": {
            "text/html": [
              "\n",
              "            <link rel=\"stylesheet\" href=\"https://stackpath.bootstrapcdn.com/bootstrap/4.4.1/css/bootstrap.min.css\" integrity=\"sha384-Vkoo8x4CGsO3+Hhxv8T/Q5PaXtkKtu6ug5TOeNV6gBiFeWPGFN9MuhOf23Q9Ifjh\" crossorigin=\"anonymous\">\n",
              "            <div id=\"progress_indicator_f6af038c94dd002cb8cec2406bb09256\" class=\"spinner-border text-info\" role=\"status\">\n",
              "            </div>"
            ],
            "text/plain": [
              "<IPython.core.display.HTML object>"
            ]
          },
          "metadata": {
            "tags": []
          }
        },
        {
          "output_type": "display_data",
          "data": {
            "text/html": [
              "\n",
              "            <style>\n",
              "            .p-Widget.jp-OutputPrompt.jp-OutputArea-prompt:empty {\n",
              "              padding: 0;\n",
              "              border: 0;\n",
              "            }\n",
              "            .p-Widget.jp-RenderedJavaScript.jp-mod-trusted.jp-OutputArea-output:empty {\n",
              "              padding: 0;\n",
              "              border: 0;\n",
              "            }\n",
              "            </style>\n",
              "            <link rel=\"stylesheet\" href=\"https://cdn.datatables.net/1.10.20/css/jquery.dataTables.min.css\">\n",
              "            <table id=\"table_df_15505562daa48a89ddde9ed4202bb0f4\" class=\"display\" style=\"display:block\"></table>\n",
              "            <script>\n",
              "              \n",
              "        if (typeof window.interactive_beam_jquery == 'undefined') {\n",
              "          var jqueryScript = document.createElement('script');\n",
              "          jqueryScript.src = 'https://code.jquery.com/jquery-3.4.1.slim.min.js';\n",
              "          jqueryScript.type = 'text/javascript';\n",
              "          jqueryScript.onload = function() {\n",
              "            var datatableScript = document.createElement('script');\n",
              "            datatableScript.src = 'https://cdn.datatables.net/1.10.20/js/jquery.dataTables.min.js';\n",
              "            datatableScript.type = 'text/javascript';\n",
              "            datatableScript.onload = function() {\n",
              "              window.interactive_beam_jquery = jQuery.noConflict(true);\n",
              "              window.interactive_beam_jquery(document).ready(function($){\n",
              "                \n",
              "            var dt;\n",
              "            if ($.fn.dataTable.isDataTable(\"#table_df_15505562daa48a89ddde9ed4202bb0f4\")) {\n",
              "              dt = $(\"#table_df_15505562daa48a89ddde9ed4202bb0f4\").dataTable();\n",
              "            } else if ($(\"#table_df_15505562daa48a89ddde9ed4202bb0f4_wrapper\").length == 0) {\n",
              "              dt = $(\"#table_df_15505562daa48a89ddde9ed4202bb0f4\").dataTable({\n",
              "                \n",
              "            bAutoWidth: false,\n",
              "            columns: [{'title': ''}, {'title': 'conta.0'}, {'title': 'conta.1'}],\n",
              "            destroy: true,\n",
              "            responsive: true,\n",
              "            columnDefs: [\n",
              "              {\n",
              "                targets: \"_all\",\n",
              "                className: \"dt-left\"\n",
              "              },\n",
              "              {\n",
              "                \"targets\": 0,\n",
              "                \"width\": \"10px\",\n",
              "                \"title\": \"\"\n",
              "              }\n",
              "            ]\n",
              "              });\n",
              "            } else {\n",
              "              return;\n",
              "            }\n",
              "            dt.api()\n",
              "              .clear()\n",
              "              .rows.add([{1: '🌽', 2: '2', 0: 0}, {1: '🥕', 2: '2', 0: 1}, {1: '🍆', 2: '1', 0: 2}, {1: '🍅', 2: '3', 0: 3}])\n",
              "              .draw('full-hold');\n",
              "              });\n",
              "            }\n",
              "            document.head.appendChild(datatableScript);\n",
              "          };\n",
              "          document.head.appendChild(jqueryScript);\n",
              "        } else {\n",
              "          window.interactive_beam_jquery(document).ready(function($){\n",
              "            \n",
              "            var dt;\n",
              "            if ($.fn.dataTable.isDataTable(\"#table_df_15505562daa48a89ddde9ed4202bb0f4\")) {\n",
              "              dt = $(\"#table_df_15505562daa48a89ddde9ed4202bb0f4\").dataTable();\n",
              "            } else if ($(\"#table_df_15505562daa48a89ddde9ed4202bb0f4_wrapper\").length == 0) {\n",
              "              dt = $(\"#table_df_15505562daa48a89ddde9ed4202bb0f4\").dataTable({\n",
              "                \n",
              "            bAutoWidth: false,\n",
              "            columns: [{'title': ''}, {'title': 'conta.0'}, {'title': 'conta.1'}],\n",
              "            destroy: true,\n",
              "            responsive: true,\n",
              "            columnDefs: [\n",
              "              {\n",
              "                targets: \"_all\",\n",
              "                className: \"dt-left\"\n",
              "              },\n",
              "              {\n",
              "                \"targets\": 0,\n",
              "                \"width\": \"10px\",\n",
              "                \"title\": \"\"\n",
              "              }\n",
              "            ]\n",
              "              });\n",
              "            } else {\n",
              "              return;\n",
              "            }\n",
              "            dt.api()\n",
              "              .clear()\n",
              "              .rows.add([{1: '🌽', 2: '2', 0: 0}, {1: '🥕', 2: '2', 0: 1}, {1: '🍆', 2: '1', 0: 2}, {1: '🍅', 2: '3', 0: 3}])\n",
              "              .draw('full-hold');\n",
              "          });\n",
              "        }\n",
              "            </script>"
            ],
            "text/plain": [
              "<IPython.core.display.HTML object>"
            ]
          },
          "metadata": {
            "tags": []
          }
        },
        {
          "output_type": "display_data",
          "data": {
            "application/javascript": [
              "\n",
              "        if (typeof window.interactive_beam_jquery == 'undefined') {\n",
              "          var jqueryScript = document.createElement('script');\n",
              "          jqueryScript.src = 'https://code.jquery.com/jquery-3.4.1.slim.min.js';\n",
              "          jqueryScript.type = 'text/javascript';\n",
              "          jqueryScript.onload = function() {\n",
              "            var datatableScript = document.createElement('script');\n",
              "            datatableScript.src = 'https://cdn.datatables.net/1.10.20/js/jquery.dataTables.min.js';\n",
              "            datatableScript.type = 'text/javascript';\n",
              "            datatableScript.onload = function() {\n",
              "              window.interactive_beam_jquery = jQuery.noConflict(true);\n",
              "              window.interactive_beam_jquery(document).ready(function($){\n",
              "                \n",
              "            $(\"#progress_indicator_f6af038c94dd002cb8cec2406bb09256\").remove();\n",
              "              });\n",
              "            }\n",
              "            document.head.appendChild(datatableScript);\n",
              "          };\n",
              "          document.head.appendChild(jqueryScript);\n",
              "        } else {\n",
              "          window.interactive_beam_jquery(document).ready(function($){\n",
              "            \n",
              "            $(\"#progress_indicator_f6af038c94dd002cb8cec2406bb09256\").remove();\n",
              "          });\n",
              "        }"
            ]
          },
          "metadata": {
            "tags": []
          }
        }
      ]
    },
    {
      "cell_type": "markdown",
      "metadata": {
        "id": "0a5_DSjTc6aq"
      },
      "source": [
        "# Combinando transformações"
      ]
    },
    {
      "cell_type": "markdown",
      "metadata": {
        "id": "660DM3HGdB5e"
      },
      "source": [
        "Como vimos nos exemplos acima, podemos manipular os elementos dentro da PCollection para gerar outros dados.\n",
        "\n",
        "Mas também podemos adicionar uma transformação em sequência da outra para realizar transformações aninhadas (nested)\n",
        "\n",
        "> ℹ️ Exemplo: vamos pegar cada elemento do PCollection de entrada e continuar somente com os elementos que são par e depois multiplicar os elementos resultantes por 10 e ver a soma final."
      ]
    },
    {
      "cell_type": "code",
      "metadata": {
        "id": "cKL9Sq7wf93u"
      },
      "source": [
        "pipeline = beam.Pipeline(InteractiveRunner(), options=PipelineOptions())"
      ],
      "execution_count": null,
      "outputs": []
    },
    {
      "cell_type": "code",
      "metadata": {
        "id": "rBzrP8S2dAaH"
      },
      "source": [
        "resultado = (\n",
        "    pipeline\n",
        "    | \"Dados Númericos\" >> beam.Create([1, 2, 3, 4, 5, 6, 7, 8, 9])\n",
        "    | \"Filtrar somente os pares\" >> beam.Filter(lambda x: x%2 == 0)\n",
        "    | \"Multiplicar por 10\" >> beam.Map(lambda x: x*10)\n",
        "    | \"Somar o resultado final\" >> beam.CombineGlobally(sum)\n",
        ")"
      ],
      "execution_count": null,
      "outputs": []
    },
    {
      "cell_type": "code",
      "metadata": {
        "colab": {
          "base_uri": "https://localhost:8080/",
          "height": 272
        },
        "id": "w4D_QL34m4q7",
        "outputId": "eb1db36f-c473-4583-80d1-8b0b7680edea"
      },
      "source": [
        "ib.show(resultado)"
      ],
      "execution_count": null,
      "outputs": [
        {
          "output_type": "display_data",
          "data": {
            "text/html": [
              "\n",
              "            <link rel=\"stylesheet\" href=\"https://stackpath.bootstrapcdn.com/bootstrap/4.4.1/css/bootstrap.min.css\" integrity=\"sha384-Vkoo8x4CGsO3+Hhxv8T/Q5PaXtkKtu6ug5TOeNV6gBiFeWPGFN9MuhOf23Q9Ifjh\" crossorigin=\"anonymous\">\n",
              "            <div id=\"progress_indicator_4975a5ba999b2aa9765bf173f59b2957\" class=\"spinner-border text-info\" role=\"status\">\n",
              "            </div>"
            ],
            "text/plain": [
              "<IPython.core.display.HTML object>"
            ]
          },
          "metadata": {
            "tags": []
          }
        },
        {
          "output_type": "stream",
          "text": [
            "WARNING:apache_beam.options.pipeline_options:Discarding unparseable args: ['-f', '/root/.local/share/jupyter/runtime/kernel-a874adbe-e1bf-432a-b0fd-ce5d2ee2f104.json']\n"
          ],
          "name": "stderr"
        },
        {
          "output_type": "display_data",
          "data": {
            "text/html": [
              "\n",
              "            <style>\n",
              "            .p-Widget.jp-OutputPrompt.jp-OutputArea-prompt:empty {\n",
              "              padding: 0;\n",
              "              border: 0;\n",
              "            }\n",
              "            .p-Widget.jp-RenderedJavaScript.jp-mod-trusted.jp-OutputArea-output:empty {\n",
              "              padding: 0;\n",
              "              border: 0;\n",
              "            }\n",
              "            </style>\n",
              "            <link rel=\"stylesheet\" href=\"https://cdn.datatables.net/1.10.20/css/jquery.dataTables.min.css\">\n",
              "            <table id=\"table_df_fe25d549ae085b936988ab80fcb117cc\" class=\"display\" style=\"display:block\"></table>\n",
              "            <script>\n",
              "              \n",
              "        if (typeof window.interactive_beam_jquery == 'undefined') {\n",
              "          var jqueryScript = document.createElement('script');\n",
              "          jqueryScript.src = 'https://code.jquery.com/jquery-3.4.1.slim.min.js';\n",
              "          jqueryScript.type = 'text/javascript';\n",
              "          jqueryScript.onload = function() {\n",
              "            var datatableScript = document.createElement('script');\n",
              "            datatableScript.src = 'https://cdn.datatables.net/1.10.20/js/jquery.dataTables.min.js';\n",
              "            datatableScript.type = 'text/javascript';\n",
              "            datatableScript.onload = function() {\n",
              "              window.interactive_beam_jquery = jQuery.noConflict(true);\n",
              "              window.interactive_beam_jquery(document).ready(function($){\n",
              "                \n",
              "            var dt;\n",
              "            if ($.fn.dataTable.isDataTable(\"#table_df_fe25d549ae085b936988ab80fcb117cc\")) {\n",
              "              dt = $(\"#table_df_fe25d549ae085b936988ab80fcb117cc\").dataTable();\n",
              "            } else if ($(\"#table_df_fe25d549ae085b936988ab80fcb117cc_wrapper\").length == 0) {\n",
              "              dt = $(\"#table_df_fe25d549ae085b936988ab80fcb117cc\").dataTable({\n",
              "                \n",
              "            bAutoWidth: false,\n",
              "            columns: [{'title': ''}, {'title': 'resultado.0'}],\n",
              "            destroy: true,\n",
              "            responsive: true,\n",
              "            columnDefs: [\n",
              "              {\n",
              "                targets: \"_all\",\n",
              "                className: \"dt-left\"\n",
              "              },\n",
              "              {\n",
              "                \"targets\": 0,\n",
              "                \"width\": \"10px\",\n",
              "                \"title\": \"\"\n",
              "              }\n",
              "            ]\n",
              "              });\n",
              "            } else {\n",
              "              return;\n",
              "            }\n",
              "            dt.api()\n",
              "              .clear()\n",
              "              .rows.add([{1: '200', 0: 0}])\n",
              "              .draw('full-hold');\n",
              "              });\n",
              "            }\n",
              "            document.head.appendChild(datatableScript);\n",
              "          };\n",
              "          document.head.appendChild(jqueryScript);\n",
              "        } else {\n",
              "          window.interactive_beam_jquery(document).ready(function($){\n",
              "            \n",
              "            var dt;\n",
              "            if ($.fn.dataTable.isDataTable(\"#table_df_fe25d549ae085b936988ab80fcb117cc\")) {\n",
              "              dt = $(\"#table_df_fe25d549ae085b936988ab80fcb117cc\").dataTable();\n",
              "            } else if ($(\"#table_df_fe25d549ae085b936988ab80fcb117cc_wrapper\").length == 0) {\n",
              "              dt = $(\"#table_df_fe25d549ae085b936988ab80fcb117cc\").dataTable({\n",
              "                \n",
              "            bAutoWidth: false,\n",
              "            columns: [{'title': ''}, {'title': 'resultado.0'}],\n",
              "            destroy: true,\n",
              "            responsive: true,\n",
              "            columnDefs: [\n",
              "              {\n",
              "                targets: \"_all\",\n",
              "                className: \"dt-left\"\n",
              "              },\n",
              "              {\n",
              "                \"targets\": 0,\n",
              "                \"width\": \"10px\",\n",
              "                \"title\": \"\"\n",
              "              }\n",
              "            ]\n",
              "              });\n",
              "            } else {\n",
              "              return;\n",
              "            }\n",
              "            dt.api()\n",
              "              .clear()\n",
              "              .rows.add([{1: '200', 0: 0}])\n",
              "              .draw('full-hold');\n",
              "          });\n",
              "        }\n",
              "            </script>"
            ],
            "text/plain": [
              "<IPython.core.display.HTML object>"
            ]
          },
          "metadata": {
            "tags": []
          }
        },
        {
          "output_type": "display_data",
          "data": {
            "application/javascript": [
              "\n",
              "        if (typeof window.interactive_beam_jquery == 'undefined') {\n",
              "          var jqueryScript = document.createElement('script');\n",
              "          jqueryScript.src = 'https://code.jquery.com/jquery-3.4.1.slim.min.js';\n",
              "          jqueryScript.type = 'text/javascript';\n",
              "          jqueryScript.onload = function() {\n",
              "            var datatableScript = document.createElement('script');\n",
              "            datatableScript.src = 'https://cdn.datatables.net/1.10.20/js/jquery.dataTables.min.js';\n",
              "            datatableScript.type = 'text/javascript';\n",
              "            datatableScript.onload = function() {\n",
              "              window.interactive_beam_jquery = jQuery.noConflict(true);\n",
              "              window.interactive_beam_jquery(document).ready(function($){\n",
              "                \n",
              "            $(\"#progress_indicator_4975a5ba999b2aa9765bf173f59b2957\").remove();\n",
              "              });\n",
              "            }\n",
              "            document.head.appendChild(datatableScript);\n",
              "          };\n",
              "          document.head.appendChild(jqueryScript);\n",
              "        } else {\n",
              "          window.interactive_beam_jquery(document).ready(function($){\n",
              "            \n",
              "            $(\"#progress_indicator_4975a5ba999b2aa9765bf173f59b2957\").remove();\n",
              "          });\n",
              "        }"
            ]
          },
          "metadata": {
            "tags": []
          }
        }
      ]
    },
    {
      "cell_type": "code",
      "metadata": {
        "colab": {
          "base_uri": "https://localhost:8080/",
          "height": 625
        },
        "id": "7af2cW7-m8bJ",
        "outputId": "59aeade9-0557-415d-dd4f-be1e98f21078"
      },
      "source": [
        "ib.show_graph(pipeline)"
      ],
      "execution_count": null,
      "outputs": [
        {
          "output_type": "display_data",
          "data": {
            "text/html": [
              "\n",
              "            <link rel=\"stylesheet\" href=\"https://stackpath.bootstrapcdn.com/bootstrap/4.4.1/css/bootstrap.min.css\" integrity=\"sha384-Vkoo8x4CGsO3+Hhxv8T/Q5PaXtkKtu6ug5TOeNV6gBiFeWPGFN9MuhOf23Q9Ifjh\" crossorigin=\"anonymous\">\n",
              "            <div id=\"progress_indicator_7e77be73220171427d74da0513b977ba\" class=\"spinner-border text-info\" role=\"status\">\n",
              "            </div>"
            ],
            "text/plain": [
              "<IPython.core.display.HTML object>"
            ]
          },
          "metadata": {
            "tags": []
          }
        },
        {
          "output_type": "display_data",
          "data": {
            "text/html": [
              "<?xml version=\"1.0\" encoding=\"UTF-8\" standalone=\"no\"?>\n",
              "<!DOCTYPE svg PUBLIC \"-//W3C//DTD SVG 1.1//EN\"\n",
              " \"http://www.w3.org/Graphics/SVG/1.1/DTD/svg11.dtd\">\n",
              "<!-- Generated by graphviz version 2.40.1 (20161225.0304)\n",
              " -->\n",
              "<!-- Title: G Pages: 1 -->\n",
              "<svg width=\"191pt\" height=\"456pt\"\n",
              " viewBox=\"0.00 0.00 191.00 456.39\" xmlns=\"http://www.w3.org/2000/svg\" xmlns:xlink=\"http://www.w3.org/1999/xlink\">\n",
              "<g id=\"graph0\" class=\"graph\" transform=\"scale(1 1) rotate(0) translate(4 452.3922)\">\n",
              "<title>G</title>\n",
              "<polygon fill=\"#ffffff\" stroke=\"transparent\" points=\"-4,4 -4,-452.3922 187,-452.3922 187,4 -4,4\"/>\n",
              "<!-- [17]: Dados Númericos -->\n",
              "<g id=\"node1\" class=\"node\">\n",
              "<title>[17]: Dados Númericos</title>\n",
              "<polygon fill=\"none\" stroke=\"#0000ff\" points=\"167,-448.3922 16,-448.3922 16,-412.3922 167,-412.3922 167,-448.3922\"/>\n",
              "<text text-anchor=\"middle\" x=\"91.5\" y=\"-426.6922\" font-family=\"Times,serif\" font-size=\"14.00\" fill=\"#0000ff\">[17]: Dados Númericos</text>\n",
              "</g>\n",
              "<!-- pcoll6881 -->\n",
              "<g id=\"node2\" class=\"node\">\n",
              "<title>pcoll6881</title>\n",
              "<ellipse fill=\"none\" stroke=\"#0000ff\" cx=\"91.5\" cy=\"-358.3922\" rx=\"18\" ry=\"18\"/>\n",
              "</g>\n",
              "<!-- [17]: Dados Númericos&#45;&gt;pcoll6881 -->\n",
              "<g id=\"edge1\" class=\"edge\">\n",
              "<title>[17]: Dados Númericos&#45;&gt;pcoll6881</title>\n",
              "<path fill=\"none\" stroke=\"#000000\" d=\"M91.5,-412.2235C91.5,-404.5231 91.5,-395.3665 91.5,-386.8088\"/>\n",
              "<polygon fill=\"#000000\" stroke=\"#000000\" points=\"95.0001,-386.8054 91.5,-376.8054 88.0001,-386.8055 95.0001,-386.8054\"/>\n",
              "</g>\n",
              "<!-- [17]: Filtrar somente os pares -->\n",
              "<g id=\"node3\" class=\"node\">\n",
              "<title>[17]: Filtrar somente os pares</title>\n",
              "<polygon fill=\"none\" stroke=\"#0000ff\" points=\"183,-304.3922 0,-304.3922 0,-268.3922 183,-268.3922 183,-304.3922\"/>\n",
              "<text text-anchor=\"middle\" x=\"91.5\" y=\"-282.6922\" font-family=\"Times,serif\" font-size=\"14.00\" fill=\"#0000ff\">[17]: Filtrar somente os pares</text>\n",
              "</g>\n",
              "<!-- pcoll6881&#45;&gt;[17]: Filtrar somente os pares -->\n",
              "<g id=\"edge2\" class=\"edge\">\n",
              "<title>pcoll6881&#45;&gt;[17]: Filtrar somente os pares</title>\n",
              "<path fill=\"none\" stroke=\"#000000\" d=\"M91.5,-340.2235C91.5,-332.5231 91.5,-323.3665 91.5,-314.8088\"/>\n",
              "<polygon fill=\"#000000\" stroke=\"#000000\" points=\"95.0001,-314.8054 91.5,-304.8054 88.0001,-314.8055 95.0001,-314.8054\"/>\n",
              "</g>\n",
              "<!-- pcoll7986 -->\n",
              "<g id=\"node4\" class=\"node\">\n",
              "<title>pcoll7986</title>\n",
              "<ellipse fill=\"none\" stroke=\"#0000ff\" cx=\"91.5\" cy=\"-214.3922\" rx=\"18\" ry=\"18\"/>\n",
              "</g>\n",
              "<!-- [17]: Filtrar somente os pares&#45;&gt;pcoll7986 -->\n",
              "<g id=\"edge3\" class=\"edge\">\n",
              "<title>[17]: Filtrar somente os pares&#45;&gt;pcoll7986</title>\n",
              "<path fill=\"none\" stroke=\"#000000\" d=\"M91.5,-268.2235C91.5,-260.5231 91.5,-251.3665 91.5,-242.8088\"/>\n",
              "<polygon fill=\"#000000\" stroke=\"#000000\" points=\"95.0001,-242.8054 91.5,-232.8054 88.0001,-242.8055 95.0001,-242.8054\"/>\n",
              "</g>\n",
              "<!-- [17]: Multiplicar por 10 -->\n",
              "<g id=\"node5\" class=\"node\">\n",
              "<title>[17]: Multiplicar por 10</title>\n",
              "<polygon fill=\"none\" stroke=\"#0000ff\" points=\"168,-160.3922 15,-160.3922 15,-124.3922 168,-124.3922 168,-160.3922\"/>\n",
              "<text text-anchor=\"middle\" x=\"91.5\" y=\"-138.6922\" font-family=\"Times,serif\" font-size=\"14.00\" fill=\"#0000ff\">[17]: Multiplicar por 10</text>\n",
              "</g>\n",
              "<!-- pcoll7986&#45;&gt;[17]: Multiplicar por 10 -->\n",
              "<g id=\"edge4\" class=\"edge\">\n",
              "<title>pcoll7986&#45;&gt;[17]: Multiplicar por 10</title>\n",
              "<path fill=\"none\" stroke=\"#000000\" d=\"M91.5,-196.2235C91.5,-188.5231 91.5,-179.3665 91.5,-170.8088\"/>\n",
              "<polygon fill=\"#000000\" stroke=\"#000000\" points=\"95.0001,-170.8054 91.5,-160.8054 88.0001,-170.8055 95.0001,-170.8054\"/>\n",
              "</g>\n",
              "<!-- resultado -->\n",
              "<g id=\"node6\" class=\"node\">\n",
              "<title>resultado</title>\n",
              "<ellipse fill=\"none\" stroke=\"#0000ff\" cx=\"91.5\" cy=\"-44.1961\" rx=\"44.393\" ry=\"44.393\"/>\n",
              "<text text-anchor=\"middle\" x=\"91.5\" y=\"-40.4961\" font-family=\"Times,serif\" font-size=\"14.00\" fill=\"#0000ff\">resultado</text>\n",
              "</g>\n",
              "<!-- [17]: Multiplicar por 10&#45;&gt;resultado -->\n",
              "<g id=\"edge5\" class=\"edge\">\n",
              "<title>[17]: Multiplicar por 10&#45;&gt;resultado</title>\n",
              "<path fill=\"none\" stroke=\"#000000\" d=\"M91.5,-124.3815C91.5,-116.9812 91.5,-107.9803 91.5,-98.7187\"/>\n",
              "<polygon fill=\"#000000\" stroke=\"#000000\" points=\"95.0001,-98.63 91.5,-88.63 88.0001,-98.63 95.0001,-98.63\"/>\n",
              "</g>\n",
              "</g>\n",
              "</svg>\n"
            ],
            "text/plain": [
              "<IPython.core.display.HTML object>"
            ]
          },
          "metadata": {
            "tags": []
          }
        },
        {
          "output_type": "display_data",
          "data": {
            "application/javascript": [
              "\n",
              "        if (typeof window.interactive_beam_jquery == 'undefined') {\n",
              "          var jqueryScript = document.createElement('script');\n",
              "          jqueryScript.src = 'https://code.jquery.com/jquery-3.4.1.slim.min.js';\n",
              "          jqueryScript.type = 'text/javascript';\n",
              "          jqueryScript.onload = function() {\n",
              "            var datatableScript = document.createElement('script');\n",
              "            datatableScript.src = 'https://cdn.datatables.net/1.10.20/js/jquery.dataTables.min.js';\n",
              "            datatableScript.type = 'text/javascript';\n",
              "            datatableScript.onload = function() {\n",
              "              window.interactive_beam_jquery = jQuery.noConflict(true);\n",
              "              window.interactive_beam_jquery(document).ready(function($){\n",
              "                \n",
              "            $(\"#progress_indicator_7e77be73220171427d74da0513b977ba\").remove();\n",
              "              });\n",
              "            }\n",
              "            document.head.appendChild(datatableScript);\n",
              "          };\n",
              "          document.head.appendChild(jqueryScript);\n",
              "        } else {\n",
              "          window.interactive_beam_jquery(document).ready(function($){\n",
              "            \n",
              "            $(\"#progress_indicator_7e77be73220171427d74da0513b977ba\").remove();\n",
              "          });\n",
              "        }"
            ]
          },
          "metadata": {
            "tags": []
          }
        }
      ]
    },
    {
      "cell_type": "markdown",
      "metadata": {
        "id": "vnC3Vyv7zpYP"
      },
      "source": [
        "# Exemplo completo"
      ]
    },
    {
      "cell_type": "markdown",
      "metadata": {
        "id": "Jk6xLLnagNXL"
      },
      "source": [
        "Vamos ler o texto de um arquivo\n",
        "\n",
        "Separar as palavras de cada linha\n",
        "\n",
        "Normalizar as palavras\n",
        "\n",
        "Contar quantidade de cada palavra\n",
        "\n",
        "Escrever em um arquivo de saída"
      ]
    },
    {
      "cell_type": "markdown",
      "metadata": {
        "id": "-FYbFHAuzssR"
      },
      "source": [
        "![image.png](data:image/png;base64,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)"
      ]
    },
    {
      "cell_type": "code",
      "metadata": {
        "id": "W7kRlSVrR-PG"
      },
      "source": [
        "import google.auth\n",
        "import re"
      ],
      "execution_count": 3,
      "outputs": []
    },
    {
      "cell_type": "code",
      "metadata": {
        "id": "iu7yqX0cR2Ic"
      },
      "source": [
        "from apache_beam import FlatMap, CombineGlobally\n",
        "from apache_beam.transforms.combiners import Count, TopCombineFn\n",
        "from apache_beam.io.textio import ReadFromText, WriteToText"
      ],
      "execution_count": 5,
      "outputs": []
    },
    {
      "cell_type": "code",
      "metadata": {
        "id": "2EM9h3IZqFrB"
      },
      "source": [
        "# arquivo no Google CLoud Storage\n",
        "path = \"gs://dataflow-samples/shakespeare/kinglear.txt\""
      ],
      "execution_count": 6,
      "outputs": []
    },
    {
      "cell_type": "code",
      "metadata": {
        "id": "9ONH1l74qU9B"
      },
      "source": [
        "# separar as palavras da frase e remover caracteres especiais\n",
        "def split_words(text):\n",
        "    words = re.findall(r'[\\w\\']+', text.strip(), re.UNICODE)\n",
        "    return [(x, 1) for x in words]"
      ],
      "execution_count": 7,
      "outputs": []
    },
    {
      "cell_type": "code",
      "metadata": {
        "id": "9YiomvMGqWmn"
      },
      "source": [
        "pipeline = beam.Pipeline(InteractiveRunner(), options=PipelineOptions())"
      ],
      "execution_count": 8,
      "outputs": []
    },
    {
      "cell_type": "code",
      "metadata": {
        "id": "YvltgN_BnrrZ",
        "colab": {
          "base_uri": "https://localhost:8080/",
          "height": 72
        },
        "outputId": "e3d41b2f-0338-4e23-f0a7-dc8dd400a5e4"
      },
      "source": [
        "source = pipeline | \"Lê arquivo\" >> ReadFromText(path)\n",
        "\n",
        "count = (source | \"Separa as palavras\" >> FlatMap(split_words)\n",
        "                | \"Conta qtde cada palavra\" >> Count.PerKey())\n",
        "\n",
        "top_10 = count | \"Pega as top 10 palavras\" >> CombineGlobally(TopCombineFn(10, compare=lambda x, y: x[1] < y[1]))\n",
        "\n",
        "write_result = top_10 | \"Escreve arquivo com resultado\" >> WriteToText('word_count.csv')"
      ],
      "execution_count": 9,
      "outputs": [
        {
          "output_type": "stream",
          "text": [
            "WARNING:apache_beam.internal.gcp.auth:Unable to find default credentials to use: The Application Default Credentials are not available. They are available if running in Google Compute Engine. Otherwise, the environment variable GOOGLE_APPLICATION_CREDENTIALS must be defined pointing to a file defining the credentials. See https://developers.google.com/accounts/docs/application-default-credentials for more information.\n",
            "Connecting anonymously.\n"
          ],
          "name": "stderr"
        },
        {
          "output_type": "display_data",
          "data": {
            "application/javascript": [
              "\n",
              "        if (typeof window.interactive_beam_jquery == 'undefined') {\n",
              "          var jqueryScript = document.createElement('script');\n",
              "          jqueryScript.src = 'https://code.jquery.com/jquery-3.4.1.slim.min.js';\n",
              "          jqueryScript.type = 'text/javascript';\n",
              "          jqueryScript.onload = function() {\n",
              "            var datatableScript = document.createElement('script');\n",
              "            datatableScript.src = 'https://cdn.datatables.net/1.10.20/js/jquery.dataTables.min.js';\n",
              "            datatableScript.type = 'text/javascript';\n",
              "            datatableScript.onload = function() {\n",
              "              window.interactive_beam_jquery = jQuery.noConflict(true);\n",
              "              window.interactive_beam_jquery(document).ready(function($){\n",
              "                \n",
              "              });\n",
              "            }\n",
              "            document.head.appendChild(datatableScript);\n",
              "          };\n",
              "          document.head.appendChild(jqueryScript);\n",
              "        } else {\n",
              "          window.interactive_beam_jquery(document).ready(function($){\n",
              "            \n",
              "          });\n",
              "        }"
            ]
          },
          "metadata": {
            "tags": []
          }
        }
      ]
    },
    {
      "cell_type": "code",
      "metadata": {
        "colab": {
          "base_uri": "https://localhost:8080/",
          "height": 273
        },
        "id": "E7OgWuCUrIU6",
        "outputId": "d8ad898f-81f7-4e30-d319-12b1030ddc0e"
      },
      "source": [
        "ib.show(write_result)"
      ],
      "execution_count": 10,
      "outputs": [
        {
          "output_type": "display_data",
          "data": {
            "text/html": [
              "\n",
              "            <link rel=\"stylesheet\" href=\"https://stackpath.bootstrapcdn.com/bootstrap/4.4.1/css/bootstrap.min.css\" integrity=\"sha384-Vkoo8x4CGsO3+Hhxv8T/Q5PaXtkKtu6ug5TOeNV6gBiFeWPGFN9MuhOf23Q9Ifjh\" crossorigin=\"anonymous\">\n",
              "            <div id=\"progress_indicator_a2b786190148e268c452ed155302382c\" class=\"spinner-border text-info\" role=\"status\">\n",
              "            </div>"
            ],
            "text/plain": [
              "<IPython.core.display.HTML object>"
            ]
          },
          "metadata": {
            "tags": []
          }
        },
        {
          "output_type": "stream",
          "text": [
            "WARNING:apache_beam.options.pipeline_options:Discarding unparseable args: ['-f', '/root/.local/share/jupyter/runtime/kernel-54ae43fa-3c77-4116-9094-4e66c9dcbbdb.json']\n"
          ],
          "name": "stderr"
        },
        {
          "output_type": "display_data",
          "data": {
            "text/html": [
              "\n",
              "            <style>\n",
              "            .p-Widget.jp-OutputPrompt.jp-OutputArea-prompt:empty {\n",
              "              padding: 0;\n",
              "              border: 0;\n",
              "            }\n",
              "            .p-Widget.jp-RenderedJavaScript.jp-mod-trusted.jp-OutputArea-output:empty {\n",
              "              padding: 0;\n",
              "              border: 0;\n",
              "            }\n",
              "            </style>\n",
              "            <link rel=\"stylesheet\" href=\"https://cdn.datatables.net/1.10.20/css/jquery.dataTables.min.css\">\n",
              "            <table id=\"table_df_ff95db68c115476c0348ca28ea6f7801\" class=\"display\" style=\"display:block\"></table>\n",
              "            <script>\n",
              "              \n",
              "        if (typeof window.interactive_beam_jquery == 'undefined') {\n",
              "          var jqueryScript = document.createElement('script');\n",
              "          jqueryScript.src = 'https://code.jquery.com/jquery-3.4.1.slim.min.js';\n",
              "          jqueryScript.type = 'text/javascript';\n",
              "          jqueryScript.onload = function() {\n",
              "            var datatableScript = document.createElement('script');\n",
              "            datatableScript.src = 'https://cdn.datatables.net/1.10.20/js/jquery.dataTables.min.js';\n",
              "            datatableScript.type = 'text/javascript';\n",
              "            datatableScript.onload = function() {\n",
              "              window.interactive_beam_jquery = jQuery.noConflict(true);\n",
              "              window.interactive_beam_jquery(document).ready(function($){\n",
              "                \n",
              "            var dt;\n",
              "            if ($.fn.dataTable.isDataTable(\"#table_df_ff95db68c115476c0348ca28ea6f7801\")) {\n",
              "              dt = $(\"#table_df_ff95db68c115476c0348ca28ea6f7801\").dataTable();\n",
              "            } else if ($(\"#table_df_ff95db68c115476c0348ca28ea6f7801_wrapper\").length == 0) {\n",
              "              dt = $(\"#table_df_ff95db68c115476c0348ca28ea6f7801\").dataTable({\n",
              "                \n",
              "            bAutoWidth: false,\n",
              "            columns: [{'title': ''}, {'title': 'write_result.0'}],\n",
              "            destroy: true,\n",
              "            responsive: true,\n",
              "            columnDefs: [\n",
              "              {\n",
              "                targets: \"_all\",\n",
              "                className: \"dt-left\"\n",
              "              },\n",
              "              {\n",
              "                \"targets\": 0,\n",
              "                \"width\": \"10px\",\n",
              "                \"title\": \"\"\n",
              "              }\n",
              "            ]\n",
              "              });\n",
              "            } else {\n",
              "              return;\n",
              "            }\n",
              "            dt.api()\n",
              "              .clear()\n",
              "              .rows.add([{1: 'word_count.csv-00000-of-00001', 0: 0}])\n",
              "              .draw('full-hold');\n",
              "              });\n",
              "            }\n",
              "            document.head.appendChild(datatableScript);\n",
              "          };\n",
              "          document.head.appendChild(jqueryScript);\n",
              "        } else {\n",
              "          window.interactive_beam_jquery(document).ready(function($){\n",
              "            \n",
              "            var dt;\n",
              "            if ($.fn.dataTable.isDataTable(\"#table_df_ff95db68c115476c0348ca28ea6f7801\")) {\n",
              "              dt = $(\"#table_df_ff95db68c115476c0348ca28ea6f7801\").dataTable();\n",
              "            } else if ($(\"#table_df_ff95db68c115476c0348ca28ea6f7801_wrapper\").length == 0) {\n",
              "              dt = $(\"#table_df_ff95db68c115476c0348ca28ea6f7801\").dataTable({\n",
              "                \n",
              "            bAutoWidth: false,\n",
              "            columns: [{'title': ''}, {'title': 'write_result.0'}],\n",
              "            destroy: true,\n",
              "            responsive: true,\n",
              "            columnDefs: [\n",
              "              {\n",
              "                targets: \"_all\",\n",
              "                className: \"dt-left\"\n",
              "              },\n",
              "              {\n",
              "                \"targets\": 0,\n",
              "                \"width\": \"10px\",\n",
              "                \"title\": \"\"\n",
              "              }\n",
              "            ]\n",
              "              });\n",
              "            } else {\n",
              "              return;\n",
              "            }\n",
              "            dt.api()\n",
              "              .clear()\n",
              "              .rows.add([{1: 'word_count.csv-00000-of-00001', 0: 0}])\n",
              "              .draw('full-hold');\n",
              "          });\n",
              "        }\n",
              "            </script>"
            ],
            "text/plain": [
              "<IPython.core.display.HTML object>"
            ]
          },
          "metadata": {
            "tags": []
          }
        },
        {
          "output_type": "display_data",
          "data": {
            "application/javascript": [
              "\n",
              "        if (typeof window.interactive_beam_jquery == 'undefined') {\n",
              "          var jqueryScript = document.createElement('script');\n",
              "          jqueryScript.src = 'https://code.jquery.com/jquery-3.4.1.slim.min.js';\n",
              "          jqueryScript.type = 'text/javascript';\n",
              "          jqueryScript.onload = function() {\n",
              "            var datatableScript = document.createElement('script');\n",
              "            datatableScript.src = 'https://cdn.datatables.net/1.10.20/js/jquery.dataTables.min.js';\n",
              "            datatableScript.type = 'text/javascript';\n",
              "            datatableScript.onload = function() {\n",
              "              window.interactive_beam_jquery = jQuery.noConflict(true);\n",
              "              window.interactive_beam_jquery(document).ready(function($){\n",
              "                \n",
              "            $(\"#progress_indicator_a2b786190148e268c452ed155302382c\").remove();\n",
              "              });\n",
              "            }\n",
              "            document.head.appendChild(datatableScript);\n",
              "          };\n",
              "          document.head.appendChild(jqueryScript);\n",
              "        } else {\n",
              "          window.interactive_beam_jquery(document).ready(function($){\n",
              "            \n",
              "            $(\"#progress_indicator_a2b786190148e268c452ed155302382c\").remove();\n",
              "          });\n",
              "        }"
            ]
          },
          "metadata": {
            "tags": []
          }
        }
      ]
    },
    {
      "cell_type": "code",
      "metadata": {
        "colab": {
          "base_uri": "https://localhost:8080/",
          "height": 1000
        },
        "id": "vQzVgJuno0t3",
        "outputId": "1131d367-ffdd-46af-aa31-f3969098c9bc"
      },
      "source": [
        "ib.show_graph(pipeline)"
      ],
      "execution_count": 11,
      "outputs": [
        {
          "output_type": "display_data",
          "data": {
            "text/html": [
              "\n",
              "            <link rel=\"stylesheet\" href=\"https://stackpath.bootstrapcdn.com/bootstrap/4.4.1/css/bootstrap.min.css\" integrity=\"sha384-Vkoo8x4CGsO3+Hhxv8T/Q5PaXtkKtu6ug5TOeNV6gBiFeWPGFN9MuhOf23Q9Ifjh\" crossorigin=\"anonymous\">\n",
              "            <div id=\"progress_indicator_160e11c8c3e354fae4ca2be9c543553a\" class=\"spinner-border text-info\" role=\"status\">\n",
              "            </div>"
            ],
            "text/plain": [
              "<IPython.core.display.HTML object>"
            ]
          },
          "metadata": {
            "tags": []
          }
        },
        {
          "output_type": "display_data",
          "data": {
            "text/html": [
              "<?xml version=\"1.0\" encoding=\"UTF-8\" standalone=\"no\"?>\n",
              "<!DOCTYPE svg PUBLIC \"-//W3C//DTD SVG 1.1//EN\"\n",
              " \"http://www.w3.org/Graphics/SVG/1.1/DTD/svg11.dtd\">\n",
              "<!-- Generated by graphviz version 2.40.1 (20161225.0304)\n",
              " -->\n",
              "<!-- Title: G Pages: 1 -->\n",
              "<svg width=\"225pt\" height=\"864pt\"\n",
              " viewBox=\"0.00 0.00 225.00 863.87\" xmlns=\"http://www.w3.org/2000/svg\" xmlns:xlink=\"http://www.w3.org/1999/xlink\">\n",
              "<g id=\"graph0\" class=\"graph\" transform=\"scale(1 1) rotate(0) translate(4 859.872)\">\n",
              "<title>G</title>\n",
              "<polygon fill=\"#ffffff\" stroke=\"transparent\" points=\"-4,4 -4,-859.872 221,-859.872 221,4 -4,4\"/>\n",
              "<!-- [9]: Lê arquivo -->\n",
              "<g id=\"node1\" class=\"node\">\n",
              "<title>[9]: Lê arquivo</title>\n",
              "<polygon fill=\"none\" stroke=\"#0000ff\" points=\"160.5,-855.872 56.5,-855.872 56.5,-819.872 160.5,-819.872 160.5,-855.872\"/>\n",
              "<text text-anchor=\"middle\" x=\"108.5\" y=\"-834.172\" font-family=\"Times,serif\" font-size=\"14.00\" fill=\"#0000ff\">[9]: Lê arquivo</text>\n",
              "</g>\n",
              "<!-- source -->\n",
              "<g id=\"node2\" class=\"node\">\n",
              "<title>source</title>\n",
              "<ellipse fill=\"none\" stroke=\"#0000ff\" cx=\"108.5\" cy=\"-749.425\" rx=\"34.394\" ry=\"34.394\"/>\n",
              "<text text-anchor=\"middle\" x=\"108.5\" y=\"-745.725\" font-family=\"Times,serif\" font-size=\"14.00\" fill=\"#0000ff\">source</text>\n",
              "</g>\n",
              "<!-- [9]: Lê arquivo&#45;&gt;source -->\n",
              "<g id=\"edge1\" class=\"edge\">\n",
              "<title>[9]: Lê arquivo&#45;&gt;source</title>\n",
              "<path fill=\"none\" stroke=\"#000000\" d=\"M108.5,-819.5457C108.5,-812.1195 108.5,-803.189 108.5,-794.2269\"/>\n",
              "<polygon fill=\"#000000\" stroke=\"#000000\" points=\"112.0001,-794.1733 108.5,-784.1733 105.0001,-794.1734 112.0001,-794.1733\"/>\n",
              "</g>\n",
              "<!-- [9]: Separa as palavras -->\n",
              "<g id=\"node3\" class=\"node\">\n",
              "<title>[9]: Separa as palavras</title>\n",
              "<polygon fill=\"none\" stroke=\"#0000ff\" points=\"180.5,-678.9781 36.5,-678.9781 36.5,-642.9781 180.5,-642.9781 180.5,-678.9781\"/>\n",
              "<text text-anchor=\"middle\" x=\"108.5\" y=\"-657.2781\" font-family=\"Times,serif\" font-size=\"14.00\" fill=\"#0000ff\">[9]: Separa as palavras</text>\n",
              "</g>\n",
              "<!-- source&#45;&gt;[9]: Separa as palavras -->\n",
              "<g id=\"edge2\" class=\"edge\">\n",
              "<title>source&#45;&gt;[9]: Separa as palavras</title>\n",
              "<path fill=\"none\" stroke=\"#000000\" d=\"M108.5,-714.9759C108.5,-706.4769 108.5,-697.471 108.5,-689.3005\"/>\n",
              "<polygon fill=\"#000000\" stroke=\"#000000\" points=\"112.0001,-689.1536 108.5,-679.1536 105.0001,-689.1536 112.0001,-689.1536\"/>\n",
              "</g>\n",
              "<!-- pcoll4883 -->\n",
              "<g id=\"node4\" class=\"node\">\n",
              "<title>pcoll4883</title>\n",
              "<ellipse fill=\"none\" stroke=\"#0000ff\" cx=\"108.5\" cy=\"-588.9781\" rx=\"18\" ry=\"18\"/>\n",
              "</g>\n",
              "<!-- [9]: Separa as palavras&#45;&gt;pcoll4883 -->\n",
              "<g id=\"edge3\" class=\"edge\">\n",
              "<title>[9]: Separa as palavras&#45;&gt;pcoll4883</title>\n",
              "<path fill=\"none\" stroke=\"#000000\" d=\"M108.5,-642.8094C108.5,-635.109 108.5,-625.9524 108.5,-617.3947\"/>\n",
              "<polygon fill=\"#000000\" stroke=\"#000000\" points=\"112.0001,-617.3913 108.5,-607.3914 105.0001,-617.3914 112.0001,-617.3913\"/>\n",
              "</g>\n",
              "<!-- [9]: Conta qtde cada palavra -->\n",
              "<g id=\"node5\" class=\"node\">\n",
              "<title>[9]: Conta qtde cada palavra</title>\n",
              "<polygon fill=\"none\" stroke=\"#0000ff\" points=\"197.5,-534.9781 19.5,-534.9781 19.5,-498.9781 197.5,-498.9781 197.5,-534.9781\"/>\n",
              "<text text-anchor=\"middle\" x=\"108.5\" y=\"-513.2781\" font-family=\"Times,serif\" font-size=\"14.00\" fill=\"#0000ff\">[9]: Conta qtde cada palavra</text>\n",
              "</g>\n",
              "<!-- pcoll4883&#45;&gt;[9]: Conta qtde cada palavra -->\n",
              "<g id=\"edge4\" class=\"edge\">\n",
              "<title>pcoll4883&#45;&gt;[9]: Conta qtde cada palavra</title>\n",
              "<path fill=\"none\" stroke=\"#000000\" d=\"M108.5,-570.8094C108.5,-563.109 108.5,-553.9524 108.5,-545.3947\"/>\n",
              "<polygon fill=\"#000000\" stroke=\"#000000\" points=\"112.0001,-545.3913 108.5,-535.3914 105.0001,-545.3914 112.0001,-545.3913\"/>\n",
              "</g>\n",
              "<!-- count -->\n",
              "<g id=\"node6\" class=\"node\">\n",
              "<title>count</title>\n",
              "<ellipse fill=\"none\" stroke=\"#0000ff\" cx=\"108.5\" cy=\"-431.1309\" rx=\"31.6951\" ry=\"31.6951\"/>\n",
              "<text text-anchor=\"middle\" x=\"108.5\" y=\"-427.4309\" font-family=\"Times,serif\" font-size=\"14.00\" fill=\"#0000ff\">count</text>\n",
              "</g>\n",
              "<!-- [9]: Conta qtde cada palavra&#45;&gt;count -->\n",
              "<g id=\"edge5\" class=\"edge\">\n",
              "<title>[9]: Conta qtde cada palavra&#45;&gt;count</title>\n",
              "<path fill=\"none\" stroke=\"#000000\" d=\"M108.5,-498.7721C108.5,-491.2625 108.5,-482.2217 108.5,-473.2292\"/>\n",
              "<polygon fill=\"#000000\" stroke=\"#000000\" points=\"112.0001,-473.1811 108.5,-463.1812 105.0001,-473.1812 112.0001,-473.1811\"/>\n",
              "</g>\n",
              "<!-- [9]: Pega as top 10 palavras -->\n",
              "<g id=\"node7\" class=\"node\">\n",
              "<title>[9]: Pega as top 10 palavras</title>\n",
              "<polygon fill=\"none\" stroke=\"#0000ff\" points=\"196,-363.2837 21,-363.2837 21,-327.2837 196,-327.2837 196,-363.2837\"/>\n",
              "<text text-anchor=\"middle\" x=\"108.5\" y=\"-341.5837\" font-family=\"Times,serif\" font-size=\"14.00\" fill=\"#0000ff\">[9]: Pega as top 10 palavras</text>\n",
              "</g>\n",
              "<!-- count&#45;&gt;[9]: Pega as top 10 palavras -->\n",
              "<g id=\"edge6\" class=\"edge\">\n",
              "<title>count&#45;&gt;[9]: Pega as top 10 palavras</title>\n",
              "<path fill=\"none\" stroke=\"#000000\" d=\"M108.5,-399.1646C108.5,-390.8117 108.5,-381.8656 108.5,-373.7105\"/>\n",
              "<polygon fill=\"#000000\" stroke=\"#000000\" points=\"112.0001,-373.5619 108.5,-363.5619 105.0001,-373.562 112.0001,-373.5619\"/>\n",
              "</g>\n",
              "<!-- top_10 -->\n",
              "<g id=\"node8\" class=\"node\">\n",
              "<title>top_10</title>\n",
              "<ellipse fill=\"none\" stroke=\"#0000ff\" cx=\"108.5\" cy=\"-253.5871\" rx=\"37.8943\" ry=\"37.8943\"/>\n",
              "<text text-anchor=\"middle\" x=\"108.5\" y=\"-249.8871\" font-family=\"Times,serif\" font-size=\"14.00\" fill=\"#0000ff\">top_10</text>\n",
              "</g>\n",
              "<!-- [9]: Pega as top 10 palavras&#45;&gt;top_10 -->\n",
              "<g id=\"edge7\" class=\"edge\">\n",
              "<title>[9]: Pega as top 10 palavras&#45;&gt;top_10</title>\n",
              "<path fill=\"none\" stroke=\"#000000\" d=\"M108.5,-327.1674C108.5,-319.7347 108.5,-310.7444 108.5,-301.638\"/>\n",
              "<polygon fill=\"#000000\" stroke=\"#000000\" points=\"112.0001,-301.384 108.5,-291.384 105.0001,-301.3841 112.0001,-301.384\"/>\n",
              "</g>\n",
              "<!-- [9]: Escreve arquivo com resultado -->\n",
              "<g id=\"node9\" class=\"node\">\n",
              "<title>[9]: Escreve arquivo com resultado</title>\n",
              "<polygon fill=\"none\" stroke=\"#0000ff\" points=\"217,-179.8904 0,-179.8904 0,-143.8904 217,-143.8904 217,-179.8904\"/>\n",
              "<text text-anchor=\"middle\" x=\"108.5\" y=\"-158.1904\" font-family=\"Times,serif\" font-size=\"14.00\" fill=\"#0000ff\">[9]: Escreve arquivo com resultado</text>\n",
              "</g>\n",
              "<!-- top_10&#45;&gt;[9]: Escreve arquivo com resultado -->\n",
              "<g id=\"edge8\" class=\"edge\">\n",
              "<title>top_10&#45;&gt;[9]: Escreve arquivo com resultado</title>\n",
              "<path fill=\"none\" stroke=\"#000000\" d=\"M108.5,-215.7611C108.5,-207.3497 108.5,-198.5665 108.5,-190.5919\"/>\n",
              "<polygon fill=\"#000000\" stroke=\"#000000\" points=\"112.0001,-190.3294 108.5,-180.3294 105.0001,-190.3295 112.0001,-190.3294\"/>\n",
              "</g>\n",
              "<!-- write_result -->\n",
              "<g id=\"node10\" class=\"node\">\n",
              "<title>write_result</title>\n",
              "<ellipse fill=\"none\" stroke=\"#0000ff\" cx=\"108.5\" cy=\"-53.9452\" rx=\"53.8905\" ry=\"53.8905\"/>\n",
              "<text text-anchor=\"middle\" x=\"108.5\" y=\"-50.2452\" font-family=\"Times,serif\" font-size=\"14.00\" fill=\"#0000ff\">write_result</text>\n",
              "</g>\n",
              "<!-- [9]: Escreve arquivo com resultado&#45;&gt;write_result -->\n",
              "<g id=\"edge9\" class=\"edge\">\n",
              "<title>[9]: Escreve arquivo com resultado&#45;&gt;write_result</title>\n",
              "<path fill=\"none\" stroke=\"#000000\" d=\"M108.5,-143.579C108.5,-136.3346 108.5,-127.5387 108.5,-118.322\"/>\n",
              "<polygon fill=\"#000000\" stroke=\"#000000\" points=\"112.0001,-118.2093 108.5,-108.2094 105.0001,-118.2094 112.0001,-118.2093\"/>\n",
              "</g>\n",
              "</g>\n",
              "</svg>\n"
            ],
            "text/plain": [
              "<IPython.core.display.HTML object>"
            ]
          },
          "metadata": {
            "tags": []
          }
        },
        {
          "output_type": "display_data",
          "data": {
            "application/javascript": [
              "\n",
              "        if (typeof window.interactive_beam_jquery == 'undefined') {\n",
              "          var jqueryScript = document.createElement('script');\n",
              "          jqueryScript.src = 'https://code.jquery.com/jquery-3.4.1.slim.min.js';\n",
              "          jqueryScript.type = 'text/javascript';\n",
              "          jqueryScript.onload = function() {\n",
              "            var datatableScript = document.createElement('script');\n",
              "            datatableScript.src = 'https://cdn.datatables.net/1.10.20/js/jquery.dataTables.min.js';\n",
              "            datatableScript.type = 'text/javascript';\n",
              "            datatableScript.onload = function() {\n",
              "              window.interactive_beam_jquery = jQuery.noConflict(true);\n",
              "              window.interactive_beam_jquery(document).ready(function($){\n",
              "                \n",
              "            $(\"#progress_indicator_160e11c8c3e354fae4ca2be9c543553a\").remove();\n",
              "              });\n",
              "            }\n",
              "            document.head.appendChild(datatableScript);\n",
              "          };\n",
              "          document.head.appendChild(jqueryScript);\n",
              "        } else {\n",
              "          window.interactive_beam_jquery(document).ready(function($){\n",
              "            \n",
              "            $(\"#progress_indicator_160e11c8c3e354fae4ca2be9c543553a\").remove();\n",
              "          });\n",
              "        }"
            ]
          },
          "metadata": {
            "tags": []
          }
        }
      ]
    },
    {
      "cell_type": "code",
      "metadata": {
        "id": "toyzrrqfqgEj"
      },
      "source": [
        ""
      ],
      "execution_count": null,
      "outputs": []
    }
  ]
}